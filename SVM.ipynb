{
 "cells": [
  {
   "cell_type": "markdown",
   "metadata": {},
   "source": [
    "Authors:\n",
    "- Tina Jin\n",
    "- Virginia Weston\n",
    "- Jeffrey Bradley\n",
    "- Taylor Tucker\n",
    "\n",
    "## SVM model notebook"
   ]
  },
  {
   "cell_type": "code",
   "execution_count": 1,
   "metadata": {},
   "outputs": [],
   "source": [
    "import pandas as pd\n",
    "from sklearn.preprocessing import LabelEncoder\n",
    "from sklearn.model_selection import train_test_split\n",
    "from sklearn.preprocessing import StandardScaler\n",
    "from sklearn.decomposition import PCA\n",
    "from sklearn.linear_model import LogisticRegression\n",
    "from sklearn.pipeline import make_pipeline\n",
    "import numpy as np\n",
    "from sklearn.model_selection import StratifiedKFold\n",
    "from sklearn.model_selection import cross_val_score\n",
    "import matplotlib.pyplot as plt\n",
    "from sklearn.model_selection import learning_curve\n",
    "from sklearn.model_selection import validation_curve\n",
    "from sklearn.model_selection import GridSearchCV\n",
    "from sklearn.svm import SVC\n",
    "from sklearn.tree import DecisionTreeClassifier\n",
    "from sklearn.metrics import confusion_matrix\n",
    "from sklearn.metrics import precision_score, recall_score, f1_score\n",
    "from sklearn.metrics import make_scorer\n",
    "from sklearn.metrics import roc_curve, auc\n",
    "from scipy import interpolate\n",
    "from sklearn.utils import resample\n"
   ]
  },
  {
   "cell_type": "code",
   "execution_count": 2,
   "metadata": {},
   "outputs": [
    {
     "data": {
      "text/html": [
       "<div>\n",
       "<style scoped>\n",
       "    .dataframe tbody tr th:only-of-type {\n",
       "        vertical-align: middle;\n",
       "    }\n",
       "\n",
       "    .dataframe tbody tr th {\n",
       "        vertical-align: top;\n",
       "    }\n",
       "\n",
       "    .dataframe thead th {\n",
       "        text-align: right;\n",
       "    }\n",
       "</style>\n",
       "<table border=\"1\" class=\"dataframe\">\n",
       "  <thead>\n",
       "    <tr style=\"text-align: right;\">\n",
       "      <th></th>\n",
       "      <th>Number of Bachelor's Degrees</th>\n",
       "      <th>Percent Financial Aid</th>\n",
       "      <th>Average Amount of Aid</th>\n",
       "      <th>Retention Rate</th>\n",
       "      <th>Enrollment</th>\n",
       "      <th>Percent Women</th>\n",
       "      <th>Percent In State</th>\n",
       "      <th>Percent Out of State</th>\n",
       "      <th>Percent Foreign</th>\n",
       "      <th>Percent Unknown</th>\n",
       "      <th>Graduation Rate</th>\n",
       "      <th>Percent Awarded</th>\n",
       "      <th>Total Staff</th>\n",
       "      <th>Instructional Staff</th>\n",
       "      <th>SA Staff</th>\n",
       "      <th>Librarian Staff</th>\n",
       "      <th>Percent Books</th>\n",
       "      <th>Percent Digital</th>\n",
       "      <th>Percent Admitted</th>\n",
       "      <th>Total Price</th>\n",
       "    </tr>\n",
       "  </thead>\n",
       "  <tbody>\n",
       "    <tr>\n",
       "      <th>0</th>\n",
       "      <td>208.0</td>\n",
       "      <td>100.0</td>\n",
       "      <td>32400.0</td>\n",
       "      <td>79.0</td>\n",
       "      <td>996</td>\n",
       "      <td>99.0</td>\n",
       "      <td>59.0</td>\n",
       "      <td>36.0</td>\n",
       "      <td>4.0</td>\n",
       "      <td>0.0</td>\n",
       "      <td>69.0</td>\n",
       "      <td>66.0</td>\n",
       "      <td>357.0</td>\n",
       "      <td>105.0</td>\n",
       "      <td>56.0</td>\n",
       "      <td>62.0</td>\n",
       "      <td>41</td>\n",
       "      <td>12</td>\n",
       "      <td>70.0</td>\n",
       "      <td>50,000-60,000</td>\n",
       "    </tr>\n",
       "    <tr>\n",
       "      <th>1</th>\n",
       "      <td>310.0</td>\n",
       "      <td>100.0</td>\n",
       "      <td>40855.0</td>\n",
       "      <td>75.0</td>\n",
       "      <td>1533</td>\n",
       "      <td>54.0</td>\n",
       "      <td>66.0</td>\n",
       "      <td>32.0</td>\n",
       "      <td>1.0</td>\n",
       "      <td>0.0</td>\n",
       "      <td>64.0</td>\n",
       "      <td>61.0</td>\n",
       "      <td>435.0</td>\n",
       "      <td>132.0</td>\n",
       "      <td>21.0</td>\n",
       "      <td>27.0</td>\n",
       "      <td>37</td>\n",
       "      <td>54</td>\n",
       "      <td>68.0</td>\n",
       "      <td>50,000-60,000</td>\n",
       "    </tr>\n",
       "    <tr>\n",
       "      <th>2</th>\n",
       "      <td>398.0</td>\n",
       "      <td>100.0</td>\n",
       "      <td>39796.0</td>\n",
       "      <td>68.0</td>\n",
       "      <td>1912</td>\n",
       "      <td>60.0</td>\n",
       "      <td>53.0</td>\n",
       "      <td>46.0</td>\n",
       "      <td>1.0</td>\n",
       "      <td>0.0</td>\n",
       "      <td>51.0</td>\n",
       "      <td>48.0</td>\n",
       "      <td>355.0</td>\n",
       "      <td>123.0</td>\n",
       "      <td>17.0</td>\n",
       "      <td>21.0</td>\n",
       "      <td>28</td>\n",
       "      <td>13</td>\n",
       "      <td>62.0</td>\n",
       "      <td>60,000-70,000</td>\n",
       "    </tr>\n",
       "    <tr>\n",
       "      <th>3</th>\n",
       "      <td>382.0</td>\n",
       "      <td>100.0</td>\n",
       "      <td>38689.0</td>\n",
       "      <td>82.0</td>\n",
       "      <td>1771</td>\n",
       "      <td>56.0</td>\n",
       "      <td>50.0</td>\n",
       "      <td>45.0</td>\n",
       "      <td>4.0</td>\n",
       "      <td>0.0</td>\n",
       "      <td>74.0</td>\n",
       "      <td>70.0</td>\n",
       "      <td>426.0</td>\n",
       "      <td>160.0</td>\n",
       "      <td>41.0</td>\n",
       "      <td>50.0</td>\n",
       "      <td>27</td>\n",
       "      <td>46</td>\n",
       "      <td>64.0</td>\n",
       "      <td>60,000-70,000</td>\n",
       "    </tr>\n",
       "    <tr>\n",
       "      <th>4</th>\n",
       "      <td>61.0</td>\n",
       "      <td>97.0</td>\n",
       "      <td>10055.0</td>\n",
       "      <td>37.0</td>\n",
       "      <td>698</td>\n",
       "      <td>45.0</td>\n",
       "      <td>64.0</td>\n",
       "      <td>34.0</td>\n",
       "      <td>0.0</td>\n",
       "      <td>2.0</td>\n",
       "      <td>31.0</td>\n",
       "      <td>10.0</td>\n",
       "      <td>115.0</td>\n",
       "      <td>41.0</td>\n",
       "      <td>4.0</td>\n",
       "      <td>7.0</td>\n",
       "      <td>20</td>\n",
       "      <td>76</td>\n",
       "      <td>64.0</td>\n",
       "      <td>20,000-30,000</td>\n",
       "    </tr>\n",
       "    <tr>\n",
       "      <th>...</th>\n",
       "      <td>...</td>\n",
       "      <td>...</td>\n",
       "      <td>...</td>\n",
       "      <td>...</td>\n",
       "      <td>...</td>\n",
       "      <td>...</td>\n",
       "      <td>...</td>\n",
       "      <td>...</td>\n",
       "      <td>...</td>\n",
       "      <td>...</td>\n",
       "      <td>...</td>\n",
       "      <td>...</td>\n",
       "      <td>...</td>\n",
       "      <td>...</td>\n",
       "      <td>...</td>\n",
       "      <td>...</td>\n",
       "      <td>...</td>\n",
       "      <td>...</td>\n",
       "      <td>...</td>\n",
       "      <td>...</td>\n",
       "    </tr>\n",
       "    <tr>\n",
       "      <th>220</th>\n",
       "      <td>71.0</td>\n",
       "      <td>100.0</td>\n",
       "      <td>9682.0</td>\n",
       "      <td>52.0</td>\n",
       "      <td>479</td>\n",
       "      <td>43.0</td>\n",
       "      <td>67.0</td>\n",
       "      <td>28.0</td>\n",
       "      <td>6.0</td>\n",
       "      <td>0.0</td>\n",
       "      <td>38.0</td>\n",
       "      <td>30.0</td>\n",
       "      <td>117.0</td>\n",
       "      <td>33.0</td>\n",
       "      <td>8.0</td>\n",
       "      <td>11.0</td>\n",
       "      <td>39</td>\n",
       "      <td>61</td>\n",
       "      <td>56.0</td>\n",
       "      <td>20,000-30,000</td>\n",
       "    </tr>\n",
       "    <tr>\n",
       "      <th>221</th>\n",
       "      <td>511.0</td>\n",
       "      <td>63.0</td>\n",
       "      <td>55897.0</td>\n",
       "      <td>99.0</td>\n",
       "      <td>2095</td>\n",
       "      <td>48.0</td>\n",
       "      <td>12.0</td>\n",
       "      <td>78.0</td>\n",
       "      <td>9.0</td>\n",
       "      <td>0.0</td>\n",
       "      <td>95.0</td>\n",
       "      <td>86.0</td>\n",
       "      <td>1133.0</td>\n",
       "      <td>342.0</td>\n",
       "      <td>44.0</td>\n",
       "      <td>83.0</td>\n",
       "      <td>28</td>\n",
       "      <td>56</td>\n",
       "      <td>13.0</td>\n",
       "      <td>70,000-80,000</td>\n",
       "    </tr>\n",
       "    <tr>\n",
       "      <th>222</th>\n",
       "      <td>363.0</td>\n",
       "      <td>100.0</td>\n",
       "      <td>29504.0</td>\n",
       "      <td>70.0</td>\n",
       "      <td>1757</td>\n",
       "      <td>55.0</td>\n",
       "      <td>79.0</td>\n",
       "      <td>21.0</td>\n",
       "      <td>1.0</td>\n",
       "      <td>0.0</td>\n",
       "      <td>62.0</td>\n",
       "      <td>61.0</td>\n",
       "      <td>373.0</td>\n",
       "      <td>142.0</td>\n",
       "      <td>13.0</td>\n",
       "      <td>17.0</td>\n",
       "      <td>49</td>\n",
       "      <td>22</td>\n",
       "      <td>74.0</td>\n",
       "      <td>50,000-60,000</td>\n",
       "    </tr>\n",
       "    <tr>\n",
       "      <th>223</th>\n",
       "      <td>379.0</td>\n",
       "      <td>98.0</td>\n",
       "      <td>31824.0</td>\n",
       "      <td>88.0</td>\n",
       "      <td>1666</td>\n",
       "      <td>53.0</td>\n",
       "      <td>55.0</td>\n",
       "      <td>42.0</td>\n",
       "      <td>3.0</td>\n",
       "      <td>0.0</td>\n",
       "      <td>81.0</td>\n",
       "      <td>77.0</td>\n",
       "      <td>440.0</td>\n",
       "      <td>152.0</td>\n",
       "      <td>23.0</td>\n",
       "      <td>34.0</td>\n",
       "      <td>14</td>\n",
       "      <td>60</td>\n",
       "      <td>64.0</td>\n",
       "      <td>60,000-70,000</td>\n",
       "    </tr>\n",
       "    <tr>\n",
       "      <th>224</th>\n",
       "      <td>194.0</td>\n",
       "      <td>99.0</td>\n",
       "      <td>24513.0</td>\n",
       "      <td>76.0</td>\n",
       "      <td>1425</td>\n",
       "      <td>55.0</td>\n",
       "      <td>80.0</td>\n",
       "      <td>12.0</td>\n",
       "      <td>8.0</td>\n",
       "      <td>0.0</td>\n",
       "      <td>41.0</td>\n",
       "      <td>32.0</td>\n",
       "      <td>208.0</td>\n",
       "      <td>87.0</td>\n",
       "      <td>20.0</td>\n",
       "      <td>23.0</td>\n",
       "      <td>5</td>\n",
       "      <td>37</td>\n",
       "      <td>63.0</td>\n",
       "      <td>40,000-50,000</td>\n",
       "    </tr>\n",
       "  </tbody>\n",
       "</table>\n",
       "<p>225 rows × 20 columns</p>\n",
       "</div>"
      ],
      "text/plain": [
       "     Number of Bachelor's Degrees  Percent Financial Aid  \\\n",
       "0                           208.0                  100.0   \n",
       "1                           310.0                  100.0   \n",
       "2                           398.0                  100.0   \n",
       "3                           382.0                  100.0   \n",
       "4                            61.0                   97.0   \n",
       "..                            ...                    ...   \n",
       "220                          71.0                  100.0   \n",
       "221                         511.0                   63.0   \n",
       "222                         363.0                  100.0   \n",
       "223                         379.0                   98.0   \n",
       "224                         194.0                   99.0   \n",
       "\n",
       "     Average Amount of Aid  Retention Rate  Enrollment  Percent Women  \\\n",
       "0                  32400.0            79.0         996           99.0   \n",
       "1                  40855.0            75.0        1533           54.0   \n",
       "2                  39796.0            68.0        1912           60.0   \n",
       "3                  38689.0            82.0        1771           56.0   \n",
       "4                  10055.0            37.0         698           45.0   \n",
       "..                     ...             ...         ...            ...   \n",
       "220                 9682.0            52.0         479           43.0   \n",
       "221                55897.0            99.0        2095           48.0   \n",
       "222                29504.0            70.0        1757           55.0   \n",
       "223                31824.0            88.0        1666           53.0   \n",
       "224                24513.0            76.0        1425           55.0   \n",
       "\n",
       "     Percent In State  Percent Out of State  Percent Foreign  Percent Unknown  \\\n",
       "0                59.0                  36.0              4.0              0.0   \n",
       "1                66.0                  32.0              1.0              0.0   \n",
       "2                53.0                  46.0              1.0              0.0   \n",
       "3                50.0                  45.0              4.0              0.0   \n",
       "4                64.0                  34.0              0.0              2.0   \n",
       "..                ...                   ...              ...              ...   \n",
       "220              67.0                  28.0              6.0              0.0   \n",
       "221              12.0                  78.0              9.0              0.0   \n",
       "222              79.0                  21.0              1.0              0.0   \n",
       "223              55.0                  42.0              3.0              0.0   \n",
       "224              80.0                  12.0              8.0              0.0   \n",
       "\n",
       "     Graduation Rate  Percent Awarded  Total Staff  Instructional Staff  \\\n",
       "0               69.0             66.0        357.0                105.0   \n",
       "1               64.0             61.0        435.0                132.0   \n",
       "2               51.0             48.0        355.0                123.0   \n",
       "3               74.0             70.0        426.0                160.0   \n",
       "4               31.0             10.0        115.0                 41.0   \n",
       "..               ...              ...          ...                  ...   \n",
       "220             38.0             30.0        117.0                 33.0   \n",
       "221             95.0             86.0       1133.0                342.0   \n",
       "222             62.0             61.0        373.0                142.0   \n",
       "223             81.0             77.0        440.0                152.0   \n",
       "224             41.0             32.0        208.0                 87.0   \n",
       "\n",
       "     SA Staff  Librarian Staff  Percent Books  Percent Digital  \\\n",
       "0        56.0             62.0             41               12   \n",
       "1        21.0             27.0             37               54   \n",
       "2        17.0             21.0             28               13   \n",
       "3        41.0             50.0             27               46   \n",
       "4         4.0              7.0             20               76   \n",
       "..        ...              ...            ...              ...   \n",
       "220       8.0             11.0             39               61   \n",
       "221      44.0             83.0             28               56   \n",
       "222      13.0             17.0             49               22   \n",
       "223      23.0             34.0             14               60   \n",
       "224      20.0             23.0              5               37   \n",
       "\n",
       "     Percent Admitted    Total Price  \n",
       "0                70.0  50,000-60,000  \n",
       "1                68.0  50,000-60,000  \n",
       "2                62.0  60,000-70,000  \n",
       "3                64.0  60,000-70,000  \n",
       "4                64.0  20,000-30,000  \n",
       "..                ...            ...  \n",
       "220              56.0  20,000-30,000  \n",
       "221              13.0  70,000-80,000  \n",
       "222              74.0  50,000-60,000  \n",
       "223              64.0  60,000-70,000  \n",
       "224              63.0  40,000-50,000  \n",
       "\n",
       "[225 rows x 20 columns]"
      ]
     },
     "execution_count": 2,
     "metadata": {},
     "output_type": "execute_result"
    }
   ],
   "source": [
    "df = pd.read_csv('cleaned_data_discreet.csv')\n",
    "df.drop(columns = 'Unnamed: 0', inplace = True)\n",
    "df"
   ]
  },
  {
   "cell_type": "code",
   "execution_count": 3,
   "metadata": {},
   "outputs": [],
   "source": [
    "x = df.iloc[:, :-1]\n",
    "y = df.iloc[:, -1]"
   ]
  },
  {
   "cell_type": "code",
   "execution_count": null,
   "metadata": {},
   "outputs": [],
   "source": []
  },
  {
   "cell_type": "code",
   "execution_count": 4,
   "metadata": {},
   "outputs": [],
   "source": [
    "x_train, x_test, y_train, y_test = train_test_split(x, y, shuffle=True, test_size=0.3)"
   ]
  },
  {
   "cell_type": "code",
   "execution_count": 5,
   "metadata": {},
   "outputs": [],
   "source": [
    "pipe_svc = make_pipeline(StandardScaler(),SVC(random_state=1))"
   ]
  },
  {
   "cell_type": "code",
   "execution_count": 6,
   "metadata": {},
   "outputs": [],
   "source": [
    "param_range = [0.01, 0.05, 0.1, 0.5, 1.0, 5.0, 10.0, 50.0, 100.0, 500.0, 1000.0, 5000.0]\n",
    "\n",
    "param_grid = [{'svc__C': param_range,\n",
    "               'svc__kernel': ['linear']},\n",
    "              {'svc__C': param_range,\n",
    "               'svc__gamma': param_range,\n",
    "               'svc__kernel': ['rbf']}]"
   ]
  },
  {
   "cell_type": "code",
   "execution_count": 7,
   "metadata": {},
   "outputs": [],
   "source": [
    "gs = GridSearchCV(estimator=SVC(),\n",
    "                  param_grid={'C': [0.1, 0.5, 1.0, 5.0, 10.0, 50.0], 'kernel': ('linear', 'rbf', 'poly','sigmoid'), 'gamma' :[0.1, 0.5, 1.0, 5.0, 10.0, 50.0] },\n",
    "                  scoring=('accuracy'),\n",
    "                  refit=\"f1\",\n",
    "                  cv=10,\n",
    "                  n_jobs=-1, verbose=True)"
   ]
  },
  {
   "cell_type": "code",
   "execution_count": 8,
   "metadata": {},
   "outputs": [
    {
     "data": {
      "text/plain": [
       "dict_keys(['C', 'break_ties', 'cache_size', 'class_weight', 'coef0', 'decision_function_shape', 'degree', 'gamma', 'kernel', 'max_iter', 'probability', 'random_state', 'shrinking', 'tol', 'verbose'])"
      ]
     },
     "execution_count": 8,
     "metadata": {},
     "output_type": "execute_result"
    }
   ],
   "source": [
    "SVC().get_params().keys()"
   ]
  },
  {
   "cell_type": "code",
   "execution_count": 9,
   "metadata": {},
   "outputs": [],
   "source": [
    "x_train_SD = StandardScaler().fit_transform(x_train)\n",
    "x_test_SD = StandardScaler().fit_transform(x_test)"
   ]
  },
  {
   "cell_type": "code",
   "execution_count": 10,
   "metadata": {},
   "outputs": [
    {
     "name": "stdout",
     "output_type": "stream",
     "text": [
      "Fitting 10 folds for each of 144 candidates, totalling 1440 fits\n"
     ]
    },
    {
     "name": "stderr",
     "output_type": "stream",
     "text": [
      "C:\\ProgramData\\Anaconda3\\lib\\site-packages\\sklearn\\model_selection\\_split.py:670: UserWarning: The least populated class in y has only 1 members, which is less than n_splits=10.\n",
      "  warnings.warn((\"The least populated class in y has only %d\"\n",
      "[Parallel(n_jobs=-1)]: Using backend LokyBackend with 4 concurrent workers.\n",
      "[Parallel(n_jobs=-1)]: Done  62 tasks      | elapsed:    8.9s\n"
     ]
    },
    {
     "name": "stdout",
     "output_type": "stream",
     "text": [
      "Mean:\n",
      "Best Train Score (Accuracy, f1, precision, recall, and ROC_auc): 0.5808333333333333\n",
      "Best Test Score: 0.6323529411764706\n",
      "Best Params: {'C': 1.0, 'gamma': 0.1, 'kernel': 'rbf'}\n"
     ]
    },
    {
     "name": "stderr",
     "output_type": "stream",
     "text": [
      "[Parallel(n_jobs=-1)]: Done 1440 out of 1440 | elapsed:   17.8s finished\n"
     ]
    }
   ],
   "source": [
    "gs = gs.fit(x_train_SD, y_train)\n",
    "print(\"Mean:\")\n",
    "print(\"Best Train Score (Accuracy, f1, precision, recall, and ROC_auc):\", gs.best_score_)\n",
    "print(\"Best Test Score:\", gs.score(x_test_SD, y_test))\n",
    "print(\"Best Params:\", gs.best_params_)"
   ]
  },
  {
   "cell_type": "markdown",
   "metadata": {},
   "source": [
    "Poor results, lets try using less features"
   ]
  },
  {
   "cell_type": "code",
   "execution_count": 11,
   "metadata": {},
   "outputs": [],
   "source": [
    "x = df[[\"Average Amount of Aid\", \"Graduation Rate\"]]\n",
    "y = df.iloc[:, -1]"
   ]
  },
  {
   "cell_type": "code",
   "execution_count": null,
   "metadata": {},
   "outputs": [],
   "source": []
  },
  {
   "cell_type": "code",
   "execution_count": 12,
   "metadata": {},
   "outputs": [],
   "source": [
    "x_train, x_test, y_train, y_test = train_test_split(x, y, shuffle=True, test_size=0.3)"
   ]
  },
  {
   "cell_type": "code",
   "execution_count": 13,
   "metadata": {},
   "outputs": [],
   "source": [
    "pipe_svc = make_pipeline(StandardScaler(),SVC(random_state=1))"
   ]
  },
  {
   "cell_type": "code",
   "execution_count": 14,
   "metadata": {},
   "outputs": [],
   "source": [
    "param_range = [0.01, 0.05, 0.1, 0.5, 1.0, 5.0, 10.0, 50.0, 100.0, 500.0, 1000.0, 5000.0]\n",
    "\n",
    "param_grid = [{'svc__C': param_range,\n",
    "               'svc__kernel': ['linear']},\n",
    "              {'svc__C': param_range,\n",
    "               'svc__gamma': param_range,\n",
    "               'svc__kernel': ['rbf']}]"
   ]
  },
  {
   "cell_type": "code",
   "execution_count": 15,
   "metadata": {},
   "outputs": [],
   "source": [
    "gs = GridSearchCV(estimator=SVC(),\n",
    "                  param_grid={'C': [0.1, 0.5, 1.0, 5.0, 10.0, 50.0], 'kernel': ('linear', 'rbf', 'poly','sigmoid'), 'gamma' :[0.1, 0.5, 1.0, 5.0, 10.0, 50.0] },\n",
    "                  scoring=('accuracy'),\n",
    "                  refit=\"f1\",\n",
    "                  cv=10,\n",
    "                  n_jobs=-1, verbose=True)"
   ]
  },
  {
   "cell_type": "code",
   "execution_count": 16,
   "metadata": {},
   "outputs": [
    {
     "data": {
      "text/plain": [
       "dict_keys(['C', 'break_ties', 'cache_size', 'class_weight', 'coef0', 'decision_function_shape', 'degree', 'gamma', 'kernel', 'max_iter', 'probability', 'random_state', 'shrinking', 'tol', 'verbose'])"
      ]
     },
     "execution_count": 16,
     "metadata": {},
     "output_type": "execute_result"
    }
   ],
   "source": [
    "SVC().get_params().keys()"
   ]
  },
  {
   "cell_type": "code",
   "execution_count": 17,
   "metadata": {},
   "outputs": [],
   "source": [
    "x_train_SD = StandardScaler().fit_transform(x_train)\n",
    "x_test_SD = StandardScaler().fit_transform(x_test)"
   ]
  },
  {
   "cell_type": "code",
   "execution_count": 18,
   "metadata": {},
   "outputs": [
    {
     "name": "stdout",
     "output_type": "stream",
     "text": [
      "Fitting 10 folds for each of 144 candidates, totalling 1440 fits\n"
     ]
    },
    {
     "name": "stderr",
     "output_type": "stream",
     "text": [
      "[Parallel(n_jobs=-1)]: Using backend LokyBackend with 4 concurrent workers.\n",
      "[Parallel(n_jobs=-1)]: Done 328 tasks      | elapsed:    1.4s\n",
      "[Parallel(n_jobs=-1)]: Done 1222 tasks      | elapsed: 13.2min\n"
     ]
    },
    {
     "name": "stdout",
     "output_type": "stream",
     "text": [
      "Mean:\n",
      "Best Train Score (Accuracy, f1, precision, recall, and ROC_auc): 0.5870833333333333\n",
      "Best Test Score: 0.4411764705882353\n",
      "Best Params: {'C': 1.0, 'gamma': 0.1, 'kernel': 'linear'}\n"
     ]
    },
    {
     "name": "stderr",
     "output_type": "stream",
     "text": [
      "[Parallel(n_jobs=-1)]: Done 1440 out of 1440 | elapsed: 55.6min finished\n"
     ]
    }
   ],
   "source": [
    "gs = gs.fit(x_train_SD, y_train)\n",
    "print(\"Mean:\")\n",
    "print(\"Best Train Score (Accuracy, f1, precision, recall, and ROC_auc):\", gs.best_score_)\n",
    "print(\"Best Test Score:\", gs.score(x_test_SD, y_test))\n",
    "print(\"Best Params:\", gs.best_params_)"
   ]
  },
  {
   "cell_type": "code",
   "execution_count": null,
   "metadata": {},
   "outputs": [],
   "source": []
  }
 ],
 "metadata": {
  "kernelspec": {
   "display_name": "Python 3",
   "language": "python",
   "name": "python3"
  },
  "language_info": {
   "codemirror_mode": {
    "name": "ipython",
    "version": 3
   },
   "file_extension": ".py",
   "mimetype": "text/x-python",
   "name": "python",
   "nbconvert_exporter": "python",
   "pygments_lexer": "ipython3",
   "version": "3.8.3"
  }
 },
 "nbformat": 4,
 "nbformat_minor": 4
}
