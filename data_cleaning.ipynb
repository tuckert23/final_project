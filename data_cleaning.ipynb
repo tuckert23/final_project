{
 "cells": [
  {
   "cell_type": "code",
   "execution_count": 1,
   "metadata": {},
   "outputs": [],
   "source": [
    "import pandas as pd\n",
    "import numpy as np"
   ]
  },
  {
   "cell_type": "code",
   "execution_count": 32,
   "metadata": {
    "pycharm": {
     "name": "#%%\n"
    }
   },
   "outputs": [
    {
     "name": "stdout",
     "output_type": "stream",
     "text": [
      "1224103\n",
      "34757\n",
      "Index(['start_time', 'esports_match_id', 'tournament_title', 'map_type',\n",
      "       'map_name', 'player_name', 'team_name', 'stat_name', 'hero_name',\n",
      "       'stat_amount'],\n",
      "      dtype='object')\n",
      "Index(['esports_match_id', 'map_type', 'map_name', 'stat_name', 'stat_amount'], dtype='object')\n"
     ]
    }
   ],
   "source": [
    "df1 = pd.read_csv(\"./phs_2020/phs_2020_1.csv\")\n",
    "df2 = pd.read_csv(\"./phs_2020/phs_2020_2.csv\")\n",
    "df = df1.append(df2)\n",
    "print(len(df))\n",
    "df = df[df['hero_name'] == 'All Heroes'] \n",
    "df = df[df['team_name'].str.startswith('Los Angeles')]\n",
    "print(len(df))\n",
    "print(df.columns)\n",
    "# start times are not important/ tournament title is the same thing\n",
    "df = df.drop(columns=['start_time', 'player_name', 'tournament_title', 'team_name', 'hero_name'])\n",
    "print(df.columns)"
   ]
  },
  {
   "cell_type": "code",
   "execution_count": 33,
   "metadata": {},
   "outputs": [
    {
     "name": "stdout",
     "output_type": "stream",
     "text": [
      "['All Damage Done' 'Assists' 'Average Time Alive' 'Barrier Damage Done'\n",
      " 'Damage - Quick Melee' 'Damage Done' 'Damage Taken' 'Deaths'\n",
      " 'Defensive Assists' 'Eliminations' 'Environmental Deaths' 'Final Blows'\n",
      " 'Healing Done' 'Hero Damage Done' 'Knockback Kills' 'Melee Final Blows'\n",
      " 'Melee Percentage of Final Blows' 'Objective Kills' 'Objective Time'\n",
      " 'Offensive Assists' 'Shots Fired' 'Solo Kills' 'Time Alive'\n",
      " 'Time Building Ultimate' 'Time Elapsed per Ultimate Earned'\n",
      " 'Time Holding Ultimate' 'Time Played' 'Ultimates Earned - Fractional'\n",
      " 'Ultimates Used' 'Weapon Accuracy' 'Multikills' 'Damage Blocked'\n",
      " 'Environmental Kills' 'Recon Assists' 'Turrets Destroyed'\n",
      " 'Teleporter Pads Destroyed']\n",
      "33156\n"
     ]
    }
   ],
   "source": [
    "print(df['stat_name'].unique())\n",
    "# dropped rows measuring 'Turrets Destroyed', 'Teleporter Pads Destroyed', 'Time Played'\n",
    "stats_as_features = ['All Damage Done', 'Assists', 'Average Time Alive', 'Barrier Damage Done',\n",
    " 'Damage - Quick Melee', 'Damage Done', 'Damage Taken', 'Deaths',\n",
    " 'Defensive Assists', 'Eliminations', 'Environmental Deaths', 'Final Blows',\n",
    " 'Healing Done', 'Hero Damage Done', 'Knockback Kills', 'Melee Final Blows',\n",
    " 'Melee Percentage of Final Blows', 'Objective Kills', 'Objective Time',\n",
    " 'Offensive Assists', 'Shots Fired', 'Solo Kills', 'Time Alive',\n",
    " 'Time Building Ultimate', 'Time Elapsed per Ultimate Earned',\n",
    " 'Time Holding Ultimate', 'Ultimates Earned - Fractional',\n",
    " 'Ultimates Used', 'Weapon Accuracy', 'Multikills', 'Damage Blocked',\n",
    " 'Environmental Kills', 'Recon Assists']\n",
    "df = df[df['stat_name'].isin(stats_as_features)] \n",
    "print(len(df))"
   ]
  },
  {
   "cell_type": "code",
   "execution_count": 25,
   "metadata": {},
   "outputs": [],
   "source": [
    "df.to_csv(\"./phs_2020/only_LA.csv\")"
   ]
  }
 ],
 "metadata": {
  "kernelspec": {
   "display_name": "Python 3",
   "language": "python",
   "name": "python3"
  },
  "language_info": {
   "codemirror_mode": {
    "name": "ipython",
    "version": 3
   },
   "file_extension": ".py",
   "mimetype": "text/x-python",
   "name": "python",
   "nbconvert_exporter": "python",
   "pygments_lexer": "ipython3",
   "version": "3.7.0"
  }
 },
 "nbformat": 4,
 "nbformat_minor": 1
}
