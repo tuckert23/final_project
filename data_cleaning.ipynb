{
 "cells": [
  {
   "cell_type": "code",
   "execution_count": 1,
   "metadata": {},
   "outputs": [],
   "source": [
    "import pandas as pd\n",
    "import numpy as np"
   ]
  },
  {
   "cell_type": "code",
   "execution_count": 27,
   "metadata": {
    "pycharm": {
     "name": "#%%\n"
    }
   },
   "outputs": [
    {
     "name": "stdout",
     "output_type": "stream",
     "text": [
      "1224103\n"
     ]
    }
   ],
   "source": [
    "df1 = pd.read_csv(\"./phs_2020/phs_2020_1.csv\")\n",
    "df2 = pd.read_csv(\"./phs_2020/phs_2020_2.csv\")\n",
    "df = df1.append(df2)\n",
    "print(len(df))"
   ]
  },
  {
   "cell_type": "code",
   "execution_count": 28,
   "metadata": {},
   "outputs": [
    {
     "name": "stdout",
     "output_type": "stream",
     "text": [
      "34757\n",
      "Index(['start_time', 'esports_match_id', 'tournament_title', 'map_type',\n",
      "       'map_name', 'player_name', 'team_name', 'stat_name', 'hero_name',\n",
      "       'stat_amount'],\n",
      "      dtype='object')\n",
      "Index(['esports_match_id', 'map_type', 'map_name', 'stat_name', 'stat_amount'], dtype='object')\n"
     ]
    }
   ],
   "source": [
    "df = df[df['hero_name'] == 'All Heroes'] \n",
    "df = df[df['team_name'].str.startswith('Los Angeles')]\n",
    "print(len(df))\n",
    "print(df.columns)\n",
    "df = df.drop(columns=['start_time', 'tournament_title', 'player_name', 'team_name', 'hero_name'])\n",
    "print(df.columns)"
   ]
  },
  {
   "cell_type": "code",
   "execution_count": 30,
   "metadata": {},
   "outputs": [],
   "source": [
    "df.to_csv(\"./phs_2020/only_LA.csv\")"
   ]
  },
  {
   "cell_type": "code",
   "execution_count": null,
   "metadata": {},
   "outputs": [],
   "source": []
  }
 ],
 "metadata": {
  "kernelspec": {
   "display_name": "Python 3",
   "language": "python",
   "name": "python3"
  },
  "language_info": {
   "codemirror_mode": {
    "name": "ipython",
    "version": 3
   },
   "file_extension": ".py",
   "mimetype": "text/x-python",
   "name": "python",
   "nbconvert_exporter": "python",
   "pygments_lexer": "ipython3",
   "version": "3.7.0"
  }
 },
 "nbformat": 4,
 "nbformat_minor": 1
}
