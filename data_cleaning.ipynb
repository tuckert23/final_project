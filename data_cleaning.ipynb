{
 "nbformat": 4,
 "nbformat_minor": 0,
 "metadata": {
  "kernelspec": {
   "display_name": "Python 3",
   "language": "python",
   "name": "python3"
  },
  "language_info": {
   "codemirror_mode": {
    "name": "ipython",
    "version": 3
   },
   "file_extension": ".py",
   "mimetype": "text/x-python",
   "name": "python",
   "nbconvert_exporter": "python",
   "pygments_lexer": "ipython3",
   "version": "3.7.0"
  },
  "colab": {
   "name": "data_cleaning.ipynb",
   "provenance": []
  }
 },
 "cells": [
  {
   "cell_type": "code",
   "metadata": {
    "id": "ZdBwPMe54DdU"
   },
   "source": [
    "import pandas as pd\n",
    "import numpy as np"
   ],
   "execution_count": 1,
   "outputs": []
  },
  {
   "cell_type": "markdown",
   "metadata": {
    "id": "fBV71j8I4LGP",
    "pycharm": {
     "name": "#%% md\n"
    }
   },
   "source": [
    "Our original data files are phs_2020_1.csv and phs_2020_2.csv, which contain the Overwatch League (OWL) 2020 season match statistics. The original dataset is organized by player stats in each match throughout the regular season. There are over one million rows in the original dataset, so it is not feasible to use all the data. Our goal is to predict map results using average stats of a team as input, where we could have stats like \"all damage done\", \"eliminations\", or \"assists\" as features. We train and validate our model using the matches played by teams \"Los Angeles Gladiators\" and \"Los Angeles Valiant\", since they are two average teams in the league, ranking 8 and 9 respectively of the 20 teams. Their map wins and losses are balanced (win-loss-tie: 41-41-0 and 43-39-5), so we hope using their stats, our model could generalize better to other teams with more extreme stats."
   ]
  },
  {
   "cell_type": "code",
   "execution_count": null,
   "outputs": [],
   "source": [
    "df1 = pd.read_csv(\"./phs_2020/phs_2020_1.csv\")\n",
    "df2 = pd.read_csv(\"./phs_2020/phs_2020_2.csv\")\n",
    "df = df1.append(df2)\n",
    "print(len(df))\n",
    "df = df[df['hero_name'] == 'All Heroes'] \n",
    "df = df[df['team_name'].str.startswith('Los Angeles')]\n",
    "print(len(df))\n",
    "print(df.columns)\n",
    "# start times are not important/ tournament title is the same thing\n",
    "df = df.drop(columns=['start_time', 'player_name', 'tournament_title', 'team_name', 'hero_name'])\n",
    "print(df.columns)"
   ],
   "metadata": {
    "collapsed": false,
    "pycharm": {
     "name": "#%%\n"
    }
   }
  },
  {
   "cell_type": "code",
   "execution_count": null,
   "outputs": [],
   "source": [
    "print(df['stat_name'].unique())\n",
    "# dropped rows measuring 'Turrets Destroyed', 'Teleporter Pads Destroyed', 'Time Played'\n",
    "stats_as_features = ['All Damage Done', 'Assists', 'Average Time Alive', 'Barrier Damage Done',\n",
    " 'Damage - Quick Melee', 'Damage Done', 'Damage Taken', 'Deaths',\n",
    " 'Defensive Assists', 'Eliminations', 'Environmental Deaths', 'Final Blows',\n",
    " 'Healing Done', 'Hero Damage Done', 'Knockback Kills', 'Melee Final Blows',\n",
    " 'Melee Percentage of Final Blows', 'Objective Kills', 'Objective Time',\n",
    " 'Offensive Assists', 'Shots Fired', 'Solo Kills', 'Time Alive',\n",
    " 'Time Building Ultimate', 'Time Elapsed per Ultimate Earned',\n",
    " 'Time Holding Ultimate', 'Ultimates Earned - Fractional',\n",
    " 'Ultimates Used', 'Weapon Accuracy', 'Multikills', 'Damage Blocked',\n",
    " 'Environmental Kills', 'Recon Assists']\n",
    "df = df[df['stat_name'].isin(stats_as_features)] \n",
    "print(len(df))"
   ],
   "metadata": {
    "collapsed": false,
    "pycharm": {
     "name": "#%%\n"
    }
   }
  },
  {
   "cell_type": "code",
   "execution_count": null,
   "outputs": [],
   "source": [
    "df.to_csv(\"./phs_2020/only_LA.csv\")"
   ],
   "metadata": {
    "collapsed": false,
    "pycharm": {
     "name": "#%%\n"
    }
   }
  },
  {
   "cell_type": "code",
   "execution_count": null,
   "outputs": [],
   "source": [
    "df.to_csv(\"./phs_2020/only_LA.csv\")"
   ],
   "metadata": {
    "collapsed": false,
    "pycharm": {
     "name": "#%%\n"
    }
   }
  },
  {
   "cell_type": "code",
   "execution_count": null,
   "outputs": [],
   "source": [
    "print(df['stat_name'].unique())\n",
    "# dropped rows measuring 'Turrets Destroyed', 'Teleporter Pads Destroyed', 'Time Played'\n",
    "stats_as_features = ['All Damage Done', 'Assists', 'Average Time Alive', 'Barrier Damage Done',\n",
    " 'Damage - Quick Melee', 'Damage Done', 'Damage Taken', 'Deaths',\n",
    " 'Defensive Assists', 'Eliminations', 'Environmental Deaths', 'Final Blows',\n",
    " 'Healing Done', 'Hero Damage Done', 'Knockback Kills', 'Melee Final Blows',\n",
    " 'Melee Percentage of Final Blows', 'Objective Kills', 'Objective Time',\n",
    " 'Offensive Assists', 'Shots Fired', 'Solo Kills', 'Time Alive',\n",
    " 'Time Building Ultimate', 'Time Elapsed per Ultimate Earned',\n",
    " 'Time Holding Ultimate', 'Ultimates Earned - Fractional',\n",
    " 'Ultimates Used', 'Weapon Accuracy', 'Multikills', 'Damage Blocked',\n",
    " 'Environmental Kills', 'Recon Assists']\n",
    "df = df[df['stat_name'].isin(stats_as_features)] \n",
    "print(len(df))"
   ],
   "metadata": {
    "collapsed": false,
    "pycharm": {
     "name": "#%%\n"
    }
   }
  },
  {
   "cell_type": "code",
   "execution_count": null,
   "outputs": [],
   "source": [
    "df.to_csv(\"./phs_2020/only_LA.csv\")"
   ],
   "metadata": {
    "collapsed": false,
    "pycharm": {
     "name": "#%%\n"
    }
   }
  },
  {
   "cell_type": "code",
   "execution_count": null,
   "outputs": [],
   "source": [
    "df.to_csv(\"./phs_2020/only_LA.csv\")"
   ],
   "metadata": {
    "collapsed": false,
    "pycharm": {
     "name": "#%%\n"
    }
   }
  },
  {
   "cell_type": "code",
   "execution_count": null,
   "outputs": [],
   "source": [
    "print(df['stat_name'].unique())\n",
    "# dropped rows measuring 'Turrets Destroyed', 'Teleporter Pads Destroyed', 'Time Played'\n",
    "stats_as_features = ['All Damage Done', 'Assists', 'Average Time Alive', 'Barrier Damage Done',\n",
    " 'Damage - Quick Melee', 'Damage Done', 'Damage Taken', 'Deaths',\n",
    " 'Defensive Assists', 'Eliminations', 'Environmental Deaths', 'Final Blows',\n",
    " 'Healing Done', 'Hero Damage Done', 'Knockback Kills', 'Melee Final Blows',\n",
    " 'Melee Percentage of Final Blows', 'Objective Kills', 'Objective Time',\n",
    " 'Offensive Assists', 'Shots Fired', 'Solo Kills', 'Time Alive',\n",
    " 'Time Building Ultimate', 'Time Elapsed per Ultimate Earned',\n",
    " 'Time Holding Ultimate', 'Ultimates Earned - Fractional',\n",
    " 'Ultimates Used', 'Weapon Accuracy', 'Multikills', 'Damage Blocked',\n",
    " 'Environmental Kills', 'Recon Assists']\n",
    "df = df[df['stat_name'].isin(stats_as_features)] \n",
    "print(len(df))"
   ],
   "metadata": {
    "collapsed": false,
    "pycharm": {
     "name": "#%%\n"
    }
   }
  },
  {
   "cell_type": "code",
   "execution_count": null,
   "outputs": [],
   "source": [
    "df.to_csv(\"./phs_2020/only_LA.csv\")"
   ],
   "metadata": {
    "collapsed": false,
    "pycharm": {
     "name": "#%%\n"
    }
   }
  },
  {
   "cell_type": "code",
   "execution_count": null,
   "outputs": [],
   "source": [
    "df.to_csv(\"./phs_2020/only_LA.csv\")"
   ],
   "metadata": {
    "collapsed": false,
    "pycharm": {
     "name": "#%%\n"
    }
   }
  },
  {
   "cell_type": "code",
   "execution_count": null,
   "outputs": [],
   "source": [
    "print(df['stat_name'].unique())\n",
    "# dropped rows measuring 'Turrets Destroyed', 'Teleporter Pads Destroyed', 'Time Played'\n",
    "stats_as_features = ['All Damage Done', 'Assists', 'Average Time Alive', 'Barrier Damage Done',\n",
    " 'Damage - Quick Melee', 'Damage Done', 'Damage Taken', 'Deaths',\n",
    " 'Defensive Assists', 'Eliminations', 'Environmental Deaths', 'Final Blows',\n",
    " 'Healing Done', 'Hero Damage Done', 'Knockback Kills', 'Melee Final Blows',\n",
    " 'Melee Percentage of Final Blows', 'Objective Kills', 'Objective Time',\n",
    " 'Offensive Assists', 'Shots Fired', 'Solo Kills', 'Time Alive',\n",
    " 'Time Building Ultimate', 'Time Elapsed per Ultimate Earned',\n",
    " 'Time Holding Ultimate', 'Ultimates Earned - Fractional',\n",
    " 'Ultimates Used', 'Weapon Accuracy', 'Multikills', 'Damage Blocked',\n",
    " 'Environmental Kills', 'Recon Assists']\n",
    "df = df[df['stat_name'].isin(stats_as_features)] \n",
    "print(len(df))"
   ],
   "metadata": {
    "collapsed": false,
    "pycharm": {
     "name": "#%%\n"
    }
   }
  },
  {
   "cell_type": "code",
   "execution_count": null,
   "outputs": [],
   "source": [
    "df.to_csv(\"./phs_2020/only_LA.csv\")"
   ],
   "metadata": {
    "collapsed": false,
    "pycharm": {
     "name": "#%%\n"
    }
   }
  },
  {
   "cell_type": "code",
   "execution_count": null,
   "outputs": [],
   "source": [
    "df.to_csv(\"./phs_2020/only_LA.csv\")"
   ],
   "metadata": {
    "collapsed": false,
    "pycharm": {
     "name": "#%%\n"
    }
   }
  },
  {
   "cell_type": "code",
   "execution_count": null,
   "outputs": [],
   "source": [
    "print(df['stat_name'].unique())\n",
    "# dropped rows measuring 'Turrets Destroyed', 'Teleporter Pads Destroyed', 'Time Played'\n",
    "stats_as_features = ['All Damage Done', 'Assists', 'Average Time Alive', 'Barrier Damage Done',\n",
    " 'Damage - Quick Melee', 'Damage Done', 'Damage Taken', 'Deaths',\n",
    " 'Defensive Assists', 'Eliminations', 'Environmental Deaths', 'Final Blows',\n",
    " 'Healing Done', 'Hero Damage Done', 'Knockback Kills', 'Melee Final Blows',\n",
    " 'Melee Percentage of Final Blows', 'Objective Kills', 'Objective Time',\n",
    " 'Offensive Assists', 'Shots Fired', 'Solo Kills', 'Time Alive',\n",
    " 'Time Building Ultimate', 'Time Elapsed per Ultimate Earned',\n",
    " 'Time Holding Ultimate', 'Ultimates Earned - Fractional',\n",
    " 'Ultimates Used', 'Weapon Accuracy', 'Multikills', 'Damage Blocked',\n",
    " 'Environmental Kills', 'Recon Assists']\n",
    "df = df[df['stat_name'].isin(stats_as_features)] \n",
    "print(len(df))"
   ],
   "metadata": {
    "collapsed": false,
    "pycharm": {
     "name": "#%%\n"
    }
   }
  },
  {
   "cell_type": "code",
   "execution_count": null,
   "outputs": [],
   "source": [
    "df.to_csv(\"./phs_2020/only_LA.csv\")"
   ],
   "metadata": {
    "collapsed": false,
    "pycharm": {
     "name": "#%%\n"
    }
   }
  },
  {
   "cell_type": "code",
   "execution_count": null,
   "outputs": [],
   "source": [
    "df.to_csv(\"./phs_2020/only_LA.csv\")"
   ],
   "metadata": {
    "collapsed": false,
    "pycharm": {
     "name": "#%%\n"
    }
   }
  },
  {
   "cell_type": "code",
   "execution_count": null,
   "outputs": [],
   "source": [
    "print(df['stat_name'].unique())\n",
    "# dropped rows measuring 'Turrets Destroyed', 'Teleporter Pads Destroyed', 'Time Played'\n",
    "stats_as_features = ['All Damage Done', 'Assists', 'Average Time Alive', 'Barrier Damage Done',\n",
    " 'Damage - Quick Melee', 'Damage Done', 'Damage Taken', 'Deaths',\n",
    " 'Defensive Assists', 'Eliminations', 'Environmental Deaths', 'Final Blows',\n",
    " 'Healing Done', 'Hero Damage Done', 'Knockback Kills', 'Melee Final Blows',\n",
    " 'Melee Percentage of Final Blows', 'Objective Kills', 'Objective Time',\n",
    " 'Offensive Assists', 'Shots Fired', 'Solo Kills', 'Time Alive',\n",
    " 'Time Building Ultimate', 'Time Elapsed per Ultimate Earned',\n",
    " 'Time Holding Ultimate', 'Ultimates Earned - Fractional',\n",
    " 'Ultimates Used', 'Weapon Accuracy', 'Multikills', 'Damage Blocked',\n",
    " 'Environmental Kills', 'Recon Assists']\n",
    "df = df[df['stat_name'].isin(stats_as_features)] \n",
    "print(len(df))"
   ],
   "metadata": {
    "collapsed": false,
    "pycharm": {
     "name": "#%%\n"
    }
   }
  },
  {
   "cell_type": "code",
   "execution_count": null,
   "outputs": [],
   "source": [
    "df.to_csv(\"./phs_2020/only_LA.csv\")"
   ],
   "metadata": {
    "collapsed": false,
    "pycharm": {
     "name": "#%%\n"
    }
   }
  },
  {
   "cell_type": "code",
   "execution_count": null,
   "outputs": [],
   "source": [
    "df.to_csv(\"./phs_2020/only_LA.csv\")"
   ],
   "metadata": {
    "collapsed": false,
    "pycharm": {
     "name": "#%%\n"
    }
   }
  },
  {
   "cell_type": "code",
   "execution_count": null,
   "outputs": [],
   "source": [
    "print(df['stat_name'].unique())\n",
    "# dropped rows measuring 'Turrets Destroyed', 'Teleporter Pads Destroyed', 'Time Played'\n",
    "stats_as_features = ['All Damage Done', 'Assists', 'Average Time Alive', 'Barrier Damage Done',\n",
    " 'Damage - Quick Melee', 'Damage Done', 'Damage Taken', 'Deaths',\n",
    " 'Defensive Assists', 'Eliminations', 'Environmental Deaths', 'Final Blows',\n",
    " 'Healing Done', 'Hero Damage Done', 'Knockback Kills', 'Melee Final Blows',\n",
    " 'Melee Percentage of Final Blows', 'Objective Kills', 'Objective Time',\n",
    " 'Offensive Assists', 'Shots Fired', 'Solo Kills', 'Time Alive',\n",
    " 'Time Building Ultimate', 'Time Elapsed per Ultimate Earned',\n",
    " 'Time Holding Ultimate', 'Ultimates Earned - Fractional',\n",
    " 'Ultimates Used', 'Weapon Accuracy', 'Multikills', 'Damage Blocked',\n",
    " 'Environmental Kills', 'Recon Assists']\n",
    "df = df[df['stat_name'].isin(stats_as_features)] \n",
    "print(len(df))"
   ],
   "metadata": {
    "collapsed": false,
    "pycharm": {
     "name": "#%%\n"
    }
   }
  },
  {
   "cell_type": "code",
   "execution_count": null,
   "outputs": [],
   "source": [
    "df.to_csv(\"./phs_2020/only_LA.csv\")"
   ],
   "metadata": {
    "collapsed": false,
    "pycharm": {
     "name": "#%%\n"
    }
   }
  },
  {
   "cell_type": "code",
   "metadata": {
    "pycharm": {
     "name": "#%%\n"
    },
    "id": "DDo7dHos4DdY"
   },
   "source": [
    "df.to_csv(\"./phs_2020/only_LA.csv\")"
   ],
   "execution_count": null,
   "outputs": []
  },
  {
   "cell_type": "code",
   "metadata": {
    "id": "vNY0qY684Ddb",
    "outputId": "4f4d331e-adf9-4678-e966-8558551ba5b0"
   },
   "source": [
    "print(df['stat_name'].unique())\n",
    "# dropped rows measuring 'Turrets Destroyed', 'Teleporter Pads Destroyed', 'Time Played'\n",
    "stats_as_features = ['All Damage Done', 'Assists', 'Average Time Alive', 'Barrier Damage Done',\n",
    " 'Damage - Quick Melee', 'Damage Done', 'Damage Taken', 'Deaths',\n",
    " 'Defensive Assists', 'Eliminations', 'Environmental Deaths', 'Final Blows',\n",
    " 'Healing Done', 'Hero Damage Done', 'Knockback Kills', 'Melee Final Blows',\n",
    " 'Melee Percentage of Final Blows', 'Objective Kills', 'Objective Time',\n",
    " 'Offensive Assists', 'Shots Fired', 'Solo Kills', 'Time Alive',\n",
    " 'Time Building Ultimate', 'Time Elapsed per Ultimate Earned',\n",
    " 'Time Holding Ultimate', 'Ultimates Earned - Fractional',\n",
    " 'Ultimates Used', 'Weapon Accuracy', 'Multikills', 'Damage Blocked',\n",
    " 'Environmental Kills', 'Recon Assists']\n",
    "df = df[df['stat_name'].isin(stats_as_features)] \n",
    "print(len(df))"
   ],
   "execution_count": null,
   "outputs": [
    {
     "output_type": "stream",
     "text": [
      "['All Damage Done' 'Assists' 'Average Time Alive' 'Barrier Damage Done'\n",
      " 'Damage - Quick Melee' 'Damage Done' 'Damage Taken' 'Deaths'\n",
      " 'Defensive Assists' 'Eliminations' 'Environmental Deaths' 'Final Blows'\n",
      " 'Healing Done' 'Hero Damage Done' 'Knockback Kills' 'Melee Final Blows'\n",
      " 'Melee Percentage of Final Blows' 'Objective Kills' 'Objective Time'\n",
      " 'Offensive Assists' 'Shots Fired' 'Solo Kills' 'Time Alive'\n",
      " 'Time Building Ultimate' 'Time Elapsed per Ultimate Earned'\n",
      " 'Time Holding Ultimate' 'Time Played' 'Ultimates Earned - Fractional'\n",
      " 'Ultimates Used' 'Weapon Accuracy' 'Multikills' 'Damage Blocked'\n",
      " 'Environmental Kills' 'Recon Assists' 'Turrets Destroyed'\n",
      " 'Teleporter Pads Destroyed']\n",
      "33156\n"
     ],
     "name": "stdout"
    }
   ]
  },
  {
   "cell_type": "code",
   "metadata": {
    "id": "ZYJi74q84Ddd"
   },
   "source": [
    "df.to_csv(\"./phs_2020/only_LA.csv\")"
   ],
   "execution_count": null,
   "outputs": []
  }
 ]
}