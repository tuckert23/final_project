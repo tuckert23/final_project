{
 "cells": [
  {
   "cell_type": "markdown",
   "metadata": {
    "collapsed": true,
    "pycharm": {
     "name": "#%% md\n"
    }
   },
   "source": [
    "# Final Project\n",
    "## Authors:\n",
    "- Taylor Tucker\n",
    "- Tina Jin\n",
    "- Virginia Weston\n",
    "- Tina Jin\n",
    "\n",
    "## Implementing PCA for our dataset"
   ]
  },
  {
   "cell_type": "markdown",
   "metadata": {
    "pycharm": {
     "name": "#%% md\n"
    }
   },
   "source": [
    "Import Statements"
   ]
  },
  {
   "cell_type": "code",
   "execution_count": 1,
   "metadata": {
    "pycharm": {
     "name": "#%%\n"
    }
   },
   "outputs": [],
   "source": [
    "import pandas as pd\n",
    "from sklearn.model_selection import train_test_split\n",
    "from sklearn.preprocessing import StandardScaler\n",
    "import numpy as np\n",
    "import matplotlib.pyplot as plt\n",
    "from sklearn.decomposition import PCA\n",
    "from matplotlib.colors import ListedColormap\n",
    "from sklearn.linear_model import LogisticRegression\n",
    "from sklearn.discriminant_analysis import LinearDiscriminantAnalysis as LDA\n",
    "from scipy.spatial.distance import pdist, squareform\n",
    "from scipy.linalg import eigh\n",
    "from sklearn.datasets import make_moons\n",
    "from sklearn.datasets import make_circles\n",
    "from sklearn.decomposition import KernelPCA"
   ]
  },
  {
   "cell_type": "markdown",
   "metadata": {
    "pycharm": {
     "name": "#%% md\n"
    }
   },
   "source": [
    "Importing the dataset"
   ]
  },
  {
   "cell_type": "code",
   "execution_count": 2,
   "metadata": {
    "pycharm": {
     "name": "#%%\n"
    }
   },
   "outputs": [],
   "source": [
    "df = pd.read_csv(\"./cleaned_data_discreet.csv\")\n"
   ]
  },
  {
   "cell_type": "markdown",
   "metadata": {
    "pycharm": {
     "name": "#%% md\n"
    }
   },
   "source": [
    "Splitting the data into 70% training and 30% test subsets."
   ]
  },
  {
   "cell_type": "code",
   "execution_count": 3,
   "metadata": {
    "pycharm": {
     "name": "#%%\n"
    }
   },
   "outputs": [],
   "source": [
    "X, y = df.iloc[:, 0:-1].values, df.iloc[:, -1].values\n",
    "\n",
    "X_train, X_test, y_train, y_test = train_test_split(X, y, test_size=0.3, random_state=0)"
   ]
  },
  {
   "cell_type": "markdown",
   "metadata": {
    "pycharm": {
     "name": "#%% md\n"
    }
   },
   "source": [
    "Standardizing the data."
   ]
  },
  {
   "cell_type": "code",
   "execution_count": 4,
   "metadata": {
    "pycharm": {
     "name": "#%%\n"
    }
   },
   "outputs": [],
   "source": [
    "sc = StandardScaler()\n",
    "X_train_std = sc.fit_transform(X_train)\n",
    "X_test_std = sc.transform(X_test)"
   ]
  },
  {
   "cell_type": "markdown",
   "metadata": {
    "pycharm": {
     "name": "#%% md\n"
    }
   },
   "source": [
    "Eigendecomposition of the covariance matrix."
   ]
  },
  {
   "cell_type": "code",
   "execution_count": 5,
   "metadata": {
    "pycharm": {
     "name": "#%%\n"
    }
   },
   "outputs": [
    {
     "name": "stdout",
     "output_type": "stream",
     "text": [
      "\n",
      "Eigenvalues \n",
      "[8.20573674e+00 2.18868849e+00 1.66309858e+00 1.31235557e+00\n",
      " 1.18816206e+00 1.04311479e+00 9.53141805e-01 9.09959681e-01\n",
      " 8.12520168e-01 5.82277086e-01 3.46609856e-01 2.98657848e-01\n",
      " 2.35067823e-01 1.70308934e-01 9.31177930e-02 5.91767819e-02\n",
      " 1.69102170e-04 2.05710450e-02 2.31505270e-02 2.23204472e-02]\n",
      "\n",
      "Eigenvectors \n",
      "[[-2.51247266e-02  8.04325436e-02 -2.46187335e-01  3.37818270e-01\n",
      "  -2.40865688e-01 -2.82173947e-01  4.17013938e-01 -6.11618491e-01\n",
      "  -2.60710281e-01 -1.36632089e-01  1.45283281e-01  1.00350900e-01\n",
      "  -6.20363310e-02 -4.56806705e-02 -8.13926606e-02  2.62590670e-02\n",
      "   2.93596997e-04  2.41774337e-02  2.49874378e-02  1.67180741e-02]\n",
      " [ 2.60290337e-01  4.00300203e-01 -3.73072555e-02 -1.72345067e-03\n",
      "  -1.74822193e-02  2.40723887e-01 -4.31100377e-02 -2.21694313e-02\n",
      "  -4.29832160e-02  1.28288600e-01  3.38734256e-02  1.63019800e-02\n",
      "   5.05088779e-02  2.02864462e-02 -2.90337279e-01  1.52512932e-01\n",
      "  -1.79005861e-03 -3.32498625e-02 -7.17857386e-02  7.57305128e-01]\n",
      " [-2.44260475e-01  7.80262920e-02  4.07545583e-02 -2.30842755e-01\n",
      "  -2.50235217e-01  1.69846135e-02  1.32752319e-01  3.14691690e-01\n",
      "  -3.83133491e-01  5.74766070e-02  2.66881209e-02  6.23457384e-02\n",
      "  -7.31018958e-01 -4.25260988e-02 -8.17592477e-02  2.09825524e-04\n",
      "   4.65736854e-04  2.98297649e-02 -7.58974348e-03  3.48670102e-02]\n",
      " [ 2.47630519e-01 -2.39698983e-01  1.40533886e-01 -1.16363259e-01\n",
      "  -1.69094845e-01 -9.99057688e-02 -2.97154728e-02  6.33418431e-02\n",
      "   3.07825969e-01 -3.52259407e-03  5.43649816e-01  4.81929019e-01\n",
      "  -4.60725658e-02 -3.96650830e-01 -1.39447781e-01 -1.22421230e-02\n",
      "   3.95692043e-03  3.17159256e-02  3.30162642e-02  2.68743579e-02]\n",
      " [ 2.77531100e-01 -9.35124037e-02  6.36250289e-02 -6.63404468e-02\n",
      "  -3.29573692e-01  1.10477035e-01  1.56656397e-01  1.77100203e-02\n",
      "  -4.53872481e-02 -1.14782254e-01 -4.07377648e-01 -3.24267466e-01\n",
      "   6.88068141e-02 -6.67604032e-01  1.42288441e-01 -2.39309507e-02\n",
      "   1.21848512e-03 -3.19741516e-02  7.82877131e-03  3.78102729e-02]\n",
      " [ 2.17775623e-01  4.58665182e-01 -1.06569974e-01  3.39832247e-02\n",
      "   5.67954015e-02  2.71614533e-01 -5.96973383e-02 -1.13083121e-02\n",
      "  -7.44891262e-02  1.66853827e-01  4.90412133e-02 -1.65427566e-02\n",
      "   2.11977578e-02 -1.62814993e-01 -4.26085023e-01 -5.27733768e-03\n",
      "  -1.42915174e-03  2.30386487e-01  2.96185501e-02 -5.91977243e-01]\n",
      " [ 1.92063838e-02 -3.99056215e-03 -1.04684279e-01 -5.34050019e-01\n",
      "  -6.53538209e-02 -5.09518616e-02 -5.84174180e-01 -3.92254748e-01\n",
      "  -3.09308713e-01 -3.18155792e-01  3.94979371e-02  8.88622556e-03\n",
      "   4.30637207e-02 -2.06448957e-02  2.97238387e-03 -9.41125238e-03\n",
      "  -2.17277239e-04  2.28235818e-02  1.09278941e-03 -4.71127722e-03]\n",
      " [-2.41689291e-01  3.38526025e-01 -1.23784234e-02 -2.02743330e-01\n",
      "  -2.26913476e-01 -1.49701612e-01  2.61370101e-02 -8.76723135e-02\n",
      "   3.91180747e-01  6.90602325e-02 -7.83051879e-02 -3.18303831e-03\n",
      "   1.13559980e-02 -1.00435045e-02  7.16501572e-02 -3.63268094e-03\n",
      "   7.30728969e-01  4.09153605e-03 -3.79196004e-03 -1.23374762e-02]\n",
      " [ 2.35190247e-01 -2.74968305e-01 -1.72346394e-03  2.56501625e-01\n",
      "   2.38262373e-01  1.80099411e-01 -1.31984584e-02  1.74262068e-01\n",
      "  -3.62417108e-01 -3.19127999e-01  1.14987217e-01 -1.42178671e-02\n",
      "  -1.60586529e-02  2.20313651e-02 -8.74574896e-02  1.10137179e-03\n",
      "   6.54386519e-01  7.08283193e-03  4.81718849e-03  1.53061710e-02]\n",
      " [ 1.26195990e-01 -3.27949120e-01  4.17921876e-02 -3.11399231e-01\n",
      "   2.13468907e-01  3.74262388e-02  1.76468819e-01 -2.97706971e-01\n",
      "  -2.17858966e-01  7.23012854e-01 -4.73775985e-02  1.49282278e-02\n",
      "   2.22060049e-02 -1.13715877e-02  3.54377095e-02  4.87469982e-02\n",
      "   1.79661926e-01  2.03921806e-03  4.30438729e-02 -1.73315612e-04]\n",
      " [-1.51863387e-02 -1.04460960e-01  4.04747718e-02  4.99768516e-01\n",
      "  -3.81148391e-01 -1.93780679e-01 -5.81618132e-01  4.43480994e-02\n",
      "  -1.35835587e-01  3.82549091e-01 -1.74059602e-01  1.01246734e-01\n",
      "  -1.27070971e-02 -2.49268147e-02 -4.39357050e-02 -2.04197720e-02\n",
      "   7.33316695e-02 -1.96645420e-02 -1.09463310e-02  4.70248193e-03]\n",
      " [ 2.90701497e-01 -9.04752145e-02  1.55564228e-01 -1.27731394e-01\n",
      "  -3.52422074e-01  3.45540152e-02  1.33857037e-01 -1.03851679e-02\n",
      "   2.74570905e-02 -2.40132686e-02 -5.18584030e-02 -6.42256267e-02\n",
      "   5.72610840e-02  4.22359800e-01 -2.24258629e-01 -6.92358818e-01\n",
      "   2.38602809e-03 -5.34503822e-02  3.12365114e-02 -8.25064650e-03]\n",
      " [ 2.77534604e-01 -1.19802569e-01  2.02706511e-01 -1.11895295e-01\n",
      "  -3.90626212e-01 -3.57570441e-03  1.07488601e-01  4.40881660e-02\n",
      "   2.11856301e-02 -8.88688887e-02 -7.56869713e-02 -1.73952625e-03\n",
      "   6.97230520e-02  4.02113166e-01 -3.43552612e-02  6.79948615e-01\n",
      "  -4.59553580e-03  1.04419228e-01 -6.88305042e-02 -1.70602816e-01]\n",
      " [ 3.20489604e-01  1.99607826e-01  1.67966077e-02  7.85102008e-02\n",
      "   2.49407319e-02  6.47402829e-02 -4.70247262e-02 -3.91942370e-02\n",
      "   4.10962031e-03  1.40841908e-02 -3.86099450e-03  1.52026819e-01\n",
      "  -1.81617882e-01  1.05891701e-01  5.96506037e-01 -1.04488015e-01\n",
      "  -4.42539968e-03  5.33440716e-01  3.44230632e-01  7.13117457e-02]\n",
      " [ 3.11032707e-01  2.60328183e-01 -9.09184045e-04  3.96347789e-02\n",
      "   8.70305087e-03  1.16125415e-01 -3.27272010e-02 -5.92571265e-02\n",
      "  -3.81032334e-02  3.84066228e-02  7.66066930e-02  1.54492316e-01\n",
      "  -1.65394522e-01  5.46672438e-02  3.72940030e-01  1.74793024e-02\n",
      "   6.80790069e-03 -7.53925610e-01 -8.84144111e-02 -1.92635676e-01]\n",
      " [ 2.23615833e-01  1.35342918e-01 -6.93574676e-02 -1.16065661e-01\n",
      "   1.69010577e-01 -6.24422289e-01  3.04627086e-02  2.62383984e-01\n",
      "  -9.98517855e-02 -7.51929516e-03 -1.10729323e-01 -5.25962450e-02\n",
      "   7.10751243e-02 -1.16857572e-02 -1.87231910e-01  7.48506787e-02\n",
      "  -3.41474817e-03 -1.78585694e-01  5.67531074e-01  1.60784474e-02]\n",
      " [ 2.78046370e-01  1.30143472e-01 -3.49475029e-02 -6.51945385e-02\n",
      "   1.73105342e-01 -4.87804584e-01  3.45546345e-02  1.48223324e-01\n",
      "  -8.50075153e-02  2.48866726e-02 -6.02703781e-02  2.25777978e-02\n",
      "  -8.17143888e-03 -2.30676302e-02  9.21501546e-02 -9.92835425e-02\n",
      "   5.28807515e-03  2.06253983e-01 -7.31820593e-01 -1.15143391e-02]\n",
      " [-7.65368413e-02  1.01269825e-01  6.32781197e-01  5.29992816e-02\n",
      "   2.37859338e-01 -1.37125398e-02  3.69728191e-02 -2.21491704e-01\n",
      "  -3.25180427e-02 -1.62849432e-01 -4.52079659e-01  4.53943570e-01\n",
      "  -6.78683211e-02 -6.30816556e-02 -1.62344174e-01 -1.86182831e-02\n",
      "  -1.32094566e-03 -7.59782344e-03  8.52955977e-03 -6.07130333e-03]\n",
      " [ 6.58824923e-02 -1.83184842e-01 -6.42117063e-01 -8.39292163e-02\n",
      "  -1.42466011e-02  1.34656941e-01  4.85356876e-02  9.93318562e-02\n",
      "   1.37990235e-01 -5.93098837e-02 -4.64384784e-01  5.11697880e-01\n",
      "  -3.57093442e-02  5.77083248e-02 -8.43480239e-02 -1.06066895e-03\n",
      "  -4.12711917e-04 -8.71504340e-03 -1.84780689e-02 -8.88149302e-04]\n",
      " [-2.39647312e-01  1.80893589e-01  4.85067323e-02 -1.02471932e-01\n",
      "  -2.06038701e-01  6.87477482e-02  1.65811340e-01  2.87389922e-01\n",
      "  -4.41706640e-01  5.24865595e-02  9.71447853e-02  3.39189812e-01\n",
      "   6.07889032e-01 -4.61716276e-02  2.04410444e-01 -6.06783364e-02\n",
      "   7.03167979e-04  6.69727321e-03  5.70506908e-03 -1.33414991e-02]]\n"
     ]
    }
   ],
   "source": [
    "cov_mat = np.cov(X_train_std.T)\n",
    "eigen_vals, eigen_vecs = np.linalg.eig(cov_mat)\n",
    "\n",
    "print('\\nEigenvalues \\n%s' % eigen_vals)\n",
    "print('\\nEigenvectors \\n%s' % eigen_vecs)\n"
   ]
  },
  {
   "cell_type": "markdown",
   "metadata": {
    "pycharm": {
     "name": "#%% md\n"
    }
   },
   "source": [
    "Total and explained variance"
   ]
  },
  {
   "cell_type": "code",
   "execution_count": 6,
   "metadata": {
    "pycharm": {
     "name": "#%%\n"
    }
   },
   "outputs": [
    {
     "data": {
      "image/png": "[encoded data removed]",
      "text/plain": [
       "<Figure size 432x288 with 1 Axes>"
      ]
     },
     "metadata": {
      "needs_background": "light"
     },
     "output_type": "display_data"
    }
   ],
   "source": [
    "tot = sum(eigen_vals)\n",
    "var_exp = [(i / tot) for i in sorted(eigen_vals, reverse=True)]\n",
    "cum_var_exp = np.cumsum(var_exp)\n",
    "\n",
    "plt.bar(range(1, 21), var_exp, alpha=0.5, align='center',\n",
    "        label='Individual explained variance')\n",
    "plt.step(range(1, 21), cum_var_exp, where='mid',\n",
    "         label='Cumulative explained variance')\n",
    "plt.ylabel('Explained variance ratio')\n",
    "plt.xlabel('Principal component index')\n",
    "plt.legend(loc='best')\n",
    "plt.tight_layout()\n",
    "plt.savefig('figs/PCA1.png', dpi=300)\n",
    "plt.show()"
   ]
  },
  {
   "cell_type": "markdown",
   "metadata": {
    "pycharm": {
     "name": "#%% md\n"
    }
   },
   "source": [
    "### Feature transformation\n",
    "\n",
    "Make a list of (eigenvalue, eigenvector) tuples"
   ]
  },
  {
   "cell_type": "code",
   "execution_count": 7,
   "metadata": {
    "pycharm": {
     "name": "#%%\n"
    }
   },
   "outputs": [],
   "source": [
    "eigen_pairs = [(np.abs(eigen_vals[i]), eigen_vecs[:, i])\n",
    "               for i in range(len(eigen_vals))]"
   ]
  },
  {
   "cell_type": "markdown",
   "metadata": {
    "pycharm": {
     "name": "#%% md\n"
    }
   },
   "source": [
    "Sort the (eigenvalue, eigenvector) tuples from high to low"
   ]
  },
  {
   "cell_type": "code",
   "execution_count": 8,
   "metadata": {
    "pycharm": {
     "name": "#%%\n"
    }
   },
   "outputs": [
    {
     "name": "stdout",
     "output_type": "stream",
     "text": [
      "Matrix W:\n",
      " [[-0.02512473  0.08043254]\n",
      " [ 0.26029034  0.4003002 ]\n",
      " [-0.24426048  0.07802629]\n",
      " [ 0.24763052 -0.23969898]\n",
      " [ 0.2775311  -0.0935124 ]\n",
      " [ 0.21777562  0.45866518]\n",
      " [ 0.01920638 -0.00399056]\n",
      " [-0.24168929  0.33852602]\n",
      " [ 0.23519025 -0.2749683 ]\n",
      " [ 0.12619599 -0.32794912]\n",
      " [-0.01518634 -0.10446096]\n",
      " [ 0.2907015  -0.09047521]\n",
      " [ 0.2775346  -0.11980257]\n",
      " [ 0.3204896   0.19960783]\n",
      " [ 0.31103271  0.26032818]\n",
      " [ 0.22361583  0.13534292]\n",
      " [ 0.27804637  0.13014347]\n",
      " [-0.07653684  0.10126983]\n",
      " [ 0.06588249 -0.18318484]\n",
      " [-0.23964731  0.18089359]]\n"
     ]
    }
   ],
   "source": [
    "eigen_pairs.sort(key=lambda k: k[0], reverse=True)\n",
    "\n",
    "\n",
    "w = np.hstack((eigen_pairs[0][1][:, np.newaxis],\n",
    "               eigen_pairs[1][1][:, np.newaxis]))\n",
    "print('Matrix W:\\n', w)\n",
    "\n",
    "\n",
    "X_train_std[0].dot(w)\n",
    "\n",
    "X_train_pca = X_train_std.dot(w)"
   ]
  },
  {
   "cell_type": "markdown",
   "metadata": {
    "pycharm": {
     "name": "#%% md\n"
    }
   },
   "source": [
    "Plotting"
   ]
  },
  {
   "cell_type": "code",
   "execution_count": 9,
   "metadata": {
    "pycharm": {
     "name": "#%%\n"
    }
   },
   "outputs": [
    {
     "data": {
      "image/png": "[encoded data removed]",
      "text/plain": [
       "<Figure size 432x288 with 1 Axes>"
      ]
     },
     "metadata": {
      "needs_background": "light"
     },
     "output_type": "display_data"
    }
   ],
   "source": [
    "colors = ['r', 'b', 'g']\n",
    "markers = ['s', 'x', 'o']\n",
    "\n",
    "for l, c, m in zip(np.unique(y_train), colors, markers):\n",
    "    plt.scatter(X_train_pca[y_train == l, 0],\n",
    "                X_train_pca[y_train == l, 1],\n",
    "                c=c, label=l, marker=m)\n",
    "\n",
    "plt.xlabel('PC 1')\n",
    "plt.ylabel('PC 2')\n",
    "plt.legend(loc='lower left')\n",
    "plt.tight_layout()\n",
    "plt.savefig('figs/PCA2.png', dpi=150)\n",
    "plt.show()"
   ]
  }
 ],
 "metadata": {
  "kernelspec": {
   "display_name": "Python 3",
   "language": "python",
   "name": "python3"
  },
  "language_info": {
   "codemirror_mode": {
    "name": "ipython",
    "version": 3
   },
   "file_extension": ".py",
   "mimetype": "text/x-python",
   "name": "python",
   "nbconvert_exporter": "python",
   "pygments_lexer": "ipython3",
   "version": "3.7.0"
  }
 },
 "nbformat": 4,
 "nbformat_minor": 1
}
