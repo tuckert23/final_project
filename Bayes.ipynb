{
 "cells": [
  {
   "cell_type": "markdown",
   "metadata": {},
   "source": [
    "Import statements for Bayes Implementation"
   ]
  },
  {
   "cell_type": "code",
   "execution_count": 1,
   "metadata": {},
   "outputs": [],
   "source": [
    "import numpy as np \n",
    "import pandas as pd \n",
    "import sklearn.naive_bayes as nb\n",
    "from sklearn import model_selection\n",
    "from sklearn.model_selection import train_test_split\n",
    "from sklearn.metrics import accuracy_score\n",
    "from sklearn.metrics import precision_score\n",
    "import matplotlib.pyplot as plt"
   ]
  },
  {
   "cell_type": "markdown",
   "metadata": {},
   "source": [
    "Read in descreet cleaned data with categorical target class:"
   ]
  },
  {
   "cell_type": "code",
   "execution_count": 53,
   "metadata": {},
   "outputs": [
    {
     "data": {
      "text/html": [
       "<div>\n",
       "<style scoped>\n",
       "    .dataframe tbody tr th:only-of-type {\n",
       "        vertical-align: middle;\n",
       "    }\n",
       "\n",
       "    .dataframe tbody tr th {\n",
       "        vertical-align: top;\n",
       "    }\n",
       "\n",
       "    .dataframe thead th {\n",
       "        text-align: right;\n",
       "    }\n",
       "</style>\n",
       "<table border=\"1\" class=\"dataframe\">\n",
       "  <thead>\n",
       "    <tr style=\"text-align: right;\">\n",
       "      <th></th>\n",
       "      <th>Number of Bachelor's Degrees</th>\n",
       "      <th>Percent Financial Aid</th>\n",
       "      <th>Average Amount of Aid</th>\n",
       "      <th>Retention Rate</th>\n",
       "      <th>Enrollment</th>\n",
       "      <th>Percent Women</th>\n",
       "      <th>Percent In State</th>\n",
       "      <th>Percent Out of State</th>\n",
       "      <th>Percent Foreign</th>\n",
       "      <th>Percent Unknown</th>\n",
       "      <th>Graduation Rate</th>\n",
       "      <th>Percent Awarded</th>\n",
       "      <th>Total Staff</th>\n",
       "      <th>Instructional Staff</th>\n",
       "      <th>SA Staff</th>\n",
       "      <th>Librarian Staff</th>\n",
       "      <th>Percent Books</th>\n",
       "      <th>Percent Digital</th>\n",
       "      <th>Percent Admitted</th>\n",
       "      <th>Total Price</th>\n",
       "    </tr>\n",
       "  </thead>\n",
       "  <tbody>\n",
       "    <tr>\n",
       "      <th>0</th>\n",
       "      <td>208.0</td>\n",
       "      <td>100.0</td>\n",
       "      <td>32400.0</td>\n",
       "      <td>79.0</td>\n",
       "      <td>996</td>\n",
       "      <td>99.0</td>\n",
       "      <td>59.0</td>\n",
       "      <td>36.0</td>\n",
       "      <td>4.0</td>\n",
       "      <td>0.0</td>\n",
       "      <td>69.0</td>\n",
       "      <td>66.0</td>\n",
       "      <td>357.0</td>\n",
       "      <td>105.0</td>\n",
       "      <td>56.0</td>\n",
       "      <td>62.0</td>\n",
       "      <td>41</td>\n",
       "      <td>12</td>\n",
       "      <td>70.0</td>\n",
       "      <td>50,000-60,000</td>\n",
       "    </tr>\n",
       "    <tr>\n",
       "      <th>1</th>\n",
       "      <td>310.0</td>\n",
       "      <td>100.0</td>\n",
       "      <td>40855.0</td>\n",
       "      <td>75.0</td>\n",
       "      <td>1533</td>\n",
       "      <td>54.0</td>\n",
       "      <td>66.0</td>\n",
       "      <td>32.0</td>\n",
       "      <td>1.0</td>\n",
       "      <td>0.0</td>\n",
       "      <td>64.0</td>\n",
       "      <td>61.0</td>\n",
       "      <td>435.0</td>\n",
       "      <td>132.0</td>\n",
       "      <td>21.0</td>\n",
       "      <td>27.0</td>\n",
       "      <td>37</td>\n",
       "      <td>54</td>\n",
       "      <td>68.0</td>\n",
       "      <td>50,000-60,000</td>\n",
       "    </tr>\n",
       "    <tr>\n",
       "      <th>2</th>\n",
       "      <td>398.0</td>\n",
       "      <td>100.0</td>\n",
       "      <td>39796.0</td>\n",
       "      <td>68.0</td>\n",
       "      <td>1912</td>\n",
       "      <td>60.0</td>\n",
       "      <td>53.0</td>\n",
       "      <td>46.0</td>\n",
       "      <td>1.0</td>\n",
       "      <td>0.0</td>\n",
       "      <td>51.0</td>\n",
       "      <td>48.0</td>\n",
       "      <td>355.0</td>\n",
       "      <td>123.0</td>\n",
       "      <td>17.0</td>\n",
       "      <td>21.0</td>\n",
       "      <td>28</td>\n",
       "      <td>13</td>\n",
       "      <td>62.0</td>\n",
       "      <td>60,000-70,000</td>\n",
       "    </tr>\n",
       "    <tr>\n",
       "      <th>3</th>\n",
       "      <td>382.0</td>\n",
       "      <td>100.0</td>\n",
       "      <td>38689.0</td>\n",
       "      <td>82.0</td>\n",
       "      <td>1771</td>\n",
       "      <td>56.0</td>\n",
       "      <td>50.0</td>\n",
       "      <td>45.0</td>\n",
       "      <td>4.0</td>\n",
       "      <td>0.0</td>\n",
       "      <td>74.0</td>\n",
       "      <td>70.0</td>\n",
       "      <td>426.0</td>\n",
       "      <td>160.0</td>\n",
       "      <td>41.0</td>\n",
       "      <td>50.0</td>\n",
       "      <td>27</td>\n",
       "      <td>46</td>\n",
       "      <td>64.0</td>\n",
       "      <td>60,000-70,000</td>\n",
       "    </tr>\n",
       "    <tr>\n",
       "      <th>4</th>\n",
       "      <td>61.0</td>\n",
       "      <td>97.0</td>\n",
       "      <td>10055.0</td>\n",
       "      <td>37.0</td>\n",
       "      <td>698</td>\n",
       "      <td>45.0</td>\n",
       "      <td>64.0</td>\n",
       "      <td>34.0</td>\n",
       "      <td>0.0</td>\n",
       "      <td>2.0</td>\n",
       "      <td>31.0</td>\n",
       "      <td>10.0</td>\n",
       "      <td>115.0</td>\n",
       "      <td>41.0</td>\n",
       "      <td>4.0</td>\n",
       "      <td>7.0</td>\n",
       "      <td>20</td>\n",
       "      <td>76</td>\n",
       "      <td>64.0</td>\n",
       "      <td>20,000-30,000</td>\n",
       "    </tr>\n",
       "  </tbody>\n",
       "</table>\n",
       "</div>"
      ],
      "text/plain": [
       "   Number of Bachelor's Degrees  Percent Financial Aid  Average Amount of Aid  \\\n",
       "0                         208.0                  100.0                32400.0   \n",
       "1                         310.0                  100.0                40855.0   \n",
       "2                         398.0                  100.0                39796.0   \n",
       "3                         382.0                  100.0                38689.0   \n",
       "4                          61.0                   97.0                10055.0   \n",
       "\n",
       "   Retention Rate  Enrollment  Percent Women  Percent In State  \\\n",
       "0            79.0         996           99.0              59.0   \n",
       "1            75.0        1533           54.0              66.0   \n",
       "2            68.0        1912           60.0              53.0   \n",
       "3            82.0        1771           56.0              50.0   \n",
       "4            37.0         698           45.0              64.0   \n",
       "\n",
       "   Percent Out of State  Percent Foreign  Percent Unknown  Graduation Rate  \\\n",
       "0                  36.0              4.0              0.0             69.0   \n",
       "1                  32.0              1.0              0.0             64.0   \n",
       "2                  46.0              1.0              0.0             51.0   \n",
       "3                  45.0              4.0              0.0             74.0   \n",
       "4                  34.0              0.0              2.0             31.0   \n",
       "\n",
       "   Percent Awarded  Total Staff  Instructional Staff  SA Staff  \\\n",
       "0             66.0        357.0                105.0      56.0   \n",
       "1             61.0        435.0                132.0      21.0   \n",
       "2             48.0        355.0                123.0      17.0   \n",
       "3             70.0        426.0                160.0      41.0   \n",
       "4             10.0        115.0                 41.0       4.0   \n",
       "\n",
       "   Librarian Staff  Percent Books  Percent Digital  Percent Admitted  \\\n",
       "0             62.0             41               12              70.0   \n",
       "1             27.0             37               54              68.0   \n",
       "2             21.0             28               13              62.0   \n",
       "3             50.0             27               46              64.0   \n",
       "4              7.0             20               76              64.0   \n",
       "\n",
       "     Total Price  \n",
       "0  50,000-60,000  \n",
       "1  50,000-60,000  \n",
       "2  60,000-70,000  \n",
       "3  60,000-70,000  \n",
       "4  20,000-30,000  "
      ]
     },
     "execution_count": 53,
     "metadata": {},
     "output_type": "execute_result"
    }
   ],
   "source": [
    "df = pd.read_csv(\"cleaned_data_discreet.csv\")\n",
    "df.drop([\"Unnamed: 0\"], axis = 1,inplace = True)\n",
    "columns = df.columns\n",
    "df.head()"
   ]
  },
  {
   "cell_type": "markdown",
   "metadata": {},
   "source": [
    "Set x to the most important features as found through RF feature selection."
   ]
  },
  {
   "cell_type": "code",
   "execution_count": 17,
   "metadata": {},
   "outputs": [],
   "source": [
    "x = df[[\"Average Amount of Aid\", \"Percent Financial Aid\", \n",
    "        \"Percent Awarded\", \"Total Staff\", \"Graduation Rate\", \n",
    "        \"Percent Admitted\", \"Number of Bachelor's Degrees\"]]\n",
    "y = df['Total Price']"
   ]
  },
  {
   "cell_type": "markdown",
   "metadata": {},
   "source": [
    "Implement each type of Bayes model."
   ]
  },
  {
   "cell_type": "code",
   "execution_count": 18,
   "metadata": {},
   "outputs": [],
   "source": [
    "gaussianModel = nb.GaussianNB()\n",
    "bernoulliModel = nb.BernoulliNB()\n",
    "multinomialModel = nb.MultinomialNB()\n",
    "complementModel = nb.ComplementNB()"
   ]
  },
  {
   "cell_type": "markdown",
   "metadata": {},
   "source": [
    "Split training and testing data:"
   ]
  },
  {
   "cell_type": "code",
   "execution_count": 54,
   "metadata": {},
   "outputs": [],
   "source": [
    "X_train, X_test, y_train, y_test = train_test_split(x, y, test_size=0.2, random_state=0)"
   ]
  },
  {
   "cell_type": "markdown",
   "metadata": {},
   "source": [
    "Fit each type of model with trained x and y:"
   ]
  },
  {
   "cell_type": "code",
   "execution_count": 56,
   "metadata": {},
   "outputs": [
    {
     "data": {
      "text/plain": [
       "ComplementNB()"
      ]
     },
     "execution_count": 56,
     "metadata": {},
     "output_type": "execute_result"
    }
   ],
   "source": [
    "gaussianModel.fit(X_train, y_train)\n",
    "bernoulliModel.fit(X_train, y_train)\n",
    "multinomialModel.fit(X_train, y_train)\n",
    "complementModel.fit(X_train, y_train)"
   ]
  },
  {
   "cell_type": "markdown",
   "metadata": {},
   "source": [
    "Obtain the y prediction for each model:"
   ]
  },
  {
   "cell_type": "code",
   "execution_count": 26,
   "metadata": {},
   "outputs": [],
   "source": [
    "predG = gaussianModel.predict(X_test)\n",
    "predB = bernoulliModel.predict(X_test)\n",
    "predM = multinomialModel.predict(X_test)\n",
    "predC = complementModel.predict(X_test)"
   ]
  },
  {
   "cell_type": "markdown",
   "metadata": {},
   "source": [
    "Calculate accuracies for each model:"
   ]
  },
  {
   "cell_type": "code",
   "execution_count": 27,
   "metadata": {},
   "outputs": [],
   "source": [
    "accuracies = [accuracy_score(y_test, predG),\n",
    "              accuracy_score(y_test, predB),\n",
    "              accuracy_score(y_test, predB),\n",
    "              accuracy_score(y_test, predC)]\n",
    "\n",
    "models = [\"Gaussian\",\n",
    "          \"Bernoulli\",\n",
    "          \"Multinominal\",\n",
    "          \"Complement\"]\n"
   ]
  },
  {
   "cell_type": "markdown",
   "metadata": {},
   "source": [
    "Based on the accuracy scores above, plot each model and their coordinating accuracies to find which model performs best:"
   ]
  },
  {
   "cell_type": "code",
   "execution_count": 52,
   "metadata": {},
   "outputs": [
    {
     "data": {
      "image/png": "[encoded data removed]",
      "text/plain": [
       "<Figure size 432x288 with 1 Axes>"
      ]
     },
     "metadata": {
      "needs_background": "light"
     },
     "output_type": "display_data"
    }
   ],
   "source": [
    "#fig, axs = plt.subplot(ncols=1, nrows=1)\n",
    "fig, ax = plt.subplots()\n",
    "plt.bar(models, accuracies)\n",
    "plt.show()"
   ]
  },
  {
   "cell_type": "code",
   "execution_count": 51,
   "metadata": {},
   "outputs": [
    {
     "name": "stdout",
     "output_type": "stream",
     "text": [
      "Gaussian Accuracy: 0.6444444444444445\n"
     ]
    }
   ],
   "source": [
    "print(\"Gaussian Accuracy: \" + str(accuracies[0]))"
   ]
  },
  {
   "cell_type": "markdown",
   "metadata": {},
   "source": [
    "A Gaussian implementation for Naive Bayes produces the best accuracy; however, due to the given features the accuracy is not great. "
   ]
  },
  {
   "cell_type": "code",
   "execution_count": null,
   "metadata": {},
   "outputs": [],
   "source": []
  }
 ],
 "metadata": {
  "kernelspec": {
   "display_name": "Python 3",
   "language": "python",
   "name": "python3"
  },
  "language_info": {
   "codemirror_mode": {
    "name": "ipython",
    "version": 3
   },
   "file_extension": ".py",
   "mimetype": "text/x-python",
   "name": "python",
   "nbconvert_exporter": "python",
   "pygments_lexer": "ipython3",
   "version": "3.8.5"
  }
 },
 "nbformat": 4,
 "nbformat_minor": 4
}
