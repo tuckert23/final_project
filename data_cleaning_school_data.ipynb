{
 "cells": [
  {
   "cell_type": "code",
   "execution_count": 14,
   "metadata": {
    "collapsed": true
   },
   "outputs": [],
   "source": [
    "import numpy as np\n",
    "import pandas as pd"
   ]
  },
  {
   "cell_type": "code",
   "execution_count": 15,
   "outputs": [
    {
     "name": "stdout",
     "output_type": "stream",
     "text": [
      "   UnitID     Institution Name  Carnegie Classification 2018: Basic (HD2019)  \\\n",
      "0  138600  Agnes Scott College                                            21   \n",
      "1  168546       Albion College                                            21   \n",
      "2  210571     Albright College                                            21   \n",
      "3  210669    Allegheny College                                            21   \n",
      "4  217624     Allen University                                            21   \n",
      "\n",
      "   Number of students receiving a Bachelor's degree (DRVC2019)  \\\n",
      "0                                              208.0             \n",
      "1                                              310.0             \n",
      "2                                              398.0             \n",
      "3                                              382.0             \n",
      "4                                               61.0             \n",
      "\n",
      "   Percent of full-time first-time undergraduates awarded any financial aid (SFA1819)  \\\n",
      "0                                              100.0                                    \n",
      "1                                              100.0                                    \n",
      "2                                              100.0                                    \n",
      "3                                              100.0                                    \n",
      "4                                               97.0                                    \n",
      "\n",
      "   Average amount of federal  state  local or institutional grant aid awarded (SFA1819)  \\\n",
      "0                                            32400.0                                      \n",
      "1                                            40855.0                                      \n",
      "2                                            39796.0                                      \n",
      "3                                            38689.0                                      \n",
      "4                                            10055.0                                      \n",
      "\n",
      "   Total price for out-of-state students living on campus 2018-19 (DRVIC2018)  \\\n",
      "0                                            55625.0                            \n",
      "1                                            59470.0                            \n",
      "2                                            60636.0                            \n",
      "3                                            63180.0                            \n",
      "4                                            23170.0                            \n",
      "\n",
      "   Percent admitted - men (DRVADM2018_RV)  \\\n",
      "0                                     NaN   \n",
      "1                                    65.0   \n",
      "2                                    62.0   \n",
      "3                                    60.0   \n",
      "4                                     NaN   \n",
      "\n",
      "   Percent admitted - women (DRVADM2018_RV)  \\\n",
      "0                                      70.0   \n",
      "1                                      70.0   \n",
      "2                                      62.0   \n",
      "3                                      66.0   \n",
      "4                                       NaN   \n",
      "\n",
      "   Full-time retention rate  2018 (EF2018D)  ...  \\\n",
      "0                                      79.0  ...   \n",
      "1                                      75.0  ...   \n",
      "2                                      68.0  ...   \n",
      "3                                      82.0  ...   \n",
      "4                                      37.0  ...   \n",
      "\n",
      "   Graduation rate  total cohort (DRVGR2018_RV)  \\\n",
      "0                                          69.0   \n",
      "1                                          64.0   \n",
      "2                                          51.0   \n",
      "3                                          74.0   \n",
      "4                                          31.0   \n",
      "\n",
      "   Percent full-time first-time receiving an award - 4 years (DRVOM2018_RV)  \\\n",
      "0                                               66.0                          \n",
      "1                                               61.0                          \n",
      "2                                               48.0                          \n",
      "3                                               70.0                          \n",
      "4                                               10.0                          \n",
      "\n",
      "   Total FTE staff (DRVHR2018)  Instructional FTE (DRVHR2018)  \\\n",
      "0                        357.0                          105.0   \n",
      "1                        435.0                          132.0   \n",
      "2                        355.0                          123.0   \n",
      "3                        426.0                          160.0   \n",
      "4                        115.0                           41.0   \n",
      "\n",
      "   Student and Academic Affairs and Other Education Services FTE (DRVHR2018)  \\\n",
      "0                                               56.0                           \n",
      "1                                               21.0                           \n",
      "2                                               17.0                           \n",
      "3                                               41.0                           \n",
      "4                                                4.0                           \n",
      "\n",
      "   Librarians  Curators  and Archivists/Student and Academic Affairs and Other Education Services FTE (DRVHR2018)  \\\n",
      "0                                               62.0                                                                \n",
      "1                                               27.0                                                                \n",
      "2                                               21.0                                                                \n",
      "3                                               50.0                                                                \n",
      "4                                                7.0                                                                \n",
      "\n",
      "   Physical books as a percent of the total library collection (DRVAL2018)  \\\n",
      "0                                                 41                         \n",
      "1                                                 37                         \n",
      "2                                                 28                         \n",
      "3                                                 27                         \n",
      "4                                                 20                         \n",
      "\n",
      "   Digital/Electronic books as a percent of the total library collection (DRVAL2018)  \\\n",
      "0                                                 12                                   \n",
      "1                                                 54                                   \n",
      "2                                                 13                                   \n",
      "3                                                 46                                   \n",
      "4                                                 76                                   \n",
      "\n",
      "   Databases as a percent of the total library collection (DRVAL2018)  \\\n",
      "0                                                  0                    \n",
      "1                                                  0                    \n",
      "2                                                  0                    \n",
      "3                                                  0                    \n",
      "4                                                  0                    \n",
      "\n",
      "   Unnamed: 25  \n",
      "0          NaN  \n",
      "1          NaN  \n",
      "2          NaN  \n",
      "3          NaN  \n",
      "4          NaN  \n",
      "\n",
      "[5 rows x 26 columns]\n"
     ]
    }
   ],
   "source": [
    "df = pd.read_csv(\"./Data_11-8-2020---552.csv\")\n",
    "\n",
    "print(df.head())\n",
    "columns = df.columns"
   ],
   "metadata": {
    "collapsed": false,
    "pycharm": {
     "name": "#%%\n"
    }
   }
  },
  {
   "cell_type": "code",
   "execution_count": 16,
   "outputs": [
    {
     "name": "stdout",
     "output_type": "stream",
     "text": [
      "0\n",
      "0\n",
      "0\n",
      "1\n",
      "9\n",
      "9\n",
      "13\n",
      "32\n",
      "19\n",
      "4\n",
      "0\n",
      "1\n",
      "2\n",
      "2\n",
      "2\n",
      "2\n",
      "4\n",
      "5\n",
      "2\n",
      "2\n",
      "2\n",
      "2\n",
      "0\n",
      "0\n",
      "0\n",
      "238\n"
     ]
    }
   ],
   "source": [
    "for c in columns:\n",
    "    print(df[c].isna().sum())"
   ],
   "metadata": {
    "collapsed": false,
    "pycharm": {
     "name": "#%%\n"
    }
   }
  },
  {
   "cell_type": "code",
   "execution_count": 25,
   "outputs": [
    {
     "ename": "IndexingError",
     "evalue": "Too many indexers",
     "output_type": "error",
     "traceback": [
      "\u001B[0;31m---------------------------------------------------------------------------\u001B[0m",
      "\u001B[0;31mIndexingError\u001B[0m                             Traceback (most recent call last)",
      "\u001B[0;32m<ipython-input-25-230a12d46de4>\u001B[0m in \u001B[0;36m<module>\u001B[0;34m\u001B[0m\n\u001B[0;32m----> 1\u001B[0;31m \u001B[0mdf\u001B[0m \u001B[0;34m=\u001B[0m \u001B[0mdf\u001B[0m\u001B[0;34m.\u001B[0m\u001B[0mdrop\u001B[0m\u001B[0;34m(\u001B[0m\u001B[0mdf\u001B[0m\u001B[0;34m.\u001B[0m\u001B[0miloc\u001B[0m\u001B[0;34m[\u001B[0m\u001B[0;34m:\u001B[0m\u001B[0;34m,\u001B[0m \u001B[0;34m-\u001B[0m\u001B[0;36m1\u001B[0m\u001B[0;34m]\u001B[0m\u001B[0;34m)\u001B[0m\u001B[0;34m\u001B[0m\u001B[0;34m\u001B[0m\u001B[0m\n\u001B[0m\u001B[1;32m      2\u001B[0m \u001B[0mprint\u001B[0m\u001B[0;34m(\u001B[0m\u001B[0mdf\u001B[0m\u001B[0;34m)\u001B[0m\u001B[0;34m\u001B[0m\u001B[0;34m\u001B[0m\u001B[0m\n\u001B[1;32m      3\u001B[0m \u001B[0;34m\u001B[0m\u001B[0m\n",
      "\u001B[0;32m/Library/Frameworks/Python.framework/Versions/3.7/lib/python3.7/site-packages/pandas/core/indexing.py\u001B[0m in \u001B[0;36m__getitem__\u001B[0;34m(self, key)\u001B[0m\n\u001B[1;32m    871\u001B[0m                     \u001B[0;31m# AttributeError for IntervalTree get_value\u001B[0m\u001B[0;34m\u001B[0m\u001B[0;34m\u001B[0m\u001B[0;34m\u001B[0m\u001B[0m\n\u001B[1;32m    872\u001B[0m                     \u001B[0;32mpass\u001B[0m\u001B[0;34m\u001B[0m\u001B[0;34m\u001B[0m\u001B[0m\n\u001B[0;32m--> 873\u001B[0;31m             \u001B[0;32mreturn\u001B[0m \u001B[0mself\u001B[0m\u001B[0;34m.\u001B[0m\u001B[0m_getitem_tuple\u001B[0m\u001B[0;34m(\u001B[0m\u001B[0mkey\u001B[0m\u001B[0;34m)\u001B[0m\u001B[0;34m\u001B[0m\u001B[0;34m\u001B[0m\u001B[0m\n\u001B[0m\u001B[1;32m    874\u001B[0m         \u001B[0;32melse\u001B[0m\u001B[0;34m:\u001B[0m\u001B[0;34m\u001B[0m\u001B[0;34m\u001B[0m\u001B[0m\n\u001B[1;32m    875\u001B[0m             \u001B[0;31m# we by definition only have the 0th axis\u001B[0m\u001B[0;34m\u001B[0m\u001B[0;34m\u001B[0m\u001B[0;34m\u001B[0m\u001B[0m\n",
      "\u001B[0;32m/Library/Frameworks/Python.framework/Versions/3.7/lib/python3.7/site-packages/pandas/core/indexing.py\u001B[0m in \u001B[0;36m_getitem_tuple\u001B[0;34m(self, tup)\u001B[0m\n\u001B[1;32m   1441\u001B[0m     \u001B[0;32mdef\u001B[0m \u001B[0m_getitem_tuple\u001B[0m\u001B[0;34m(\u001B[0m\u001B[0mself\u001B[0m\u001B[0;34m,\u001B[0m \u001B[0mtup\u001B[0m\u001B[0;34m:\u001B[0m \u001B[0mTuple\u001B[0m\u001B[0;34m)\u001B[0m\u001B[0;34m:\u001B[0m\u001B[0;34m\u001B[0m\u001B[0;34m\u001B[0m\u001B[0m\n\u001B[1;32m   1442\u001B[0m \u001B[0;34m\u001B[0m\u001B[0m\n\u001B[0;32m-> 1443\u001B[0;31m         \u001B[0mself\u001B[0m\u001B[0;34m.\u001B[0m\u001B[0m_has_valid_tuple\u001B[0m\u001B[0;34m(\u001B[0m\u001B[0mtup\u001B[0m\u001B[0;34m)\u001B[0m\u001B[0;34m\u001B[0m\u001B[0;34m\u001B[0m\u001B[0m\n\u001B[0m\u001B[1;32m   1444\u001B[0m         \u001B[0;32mtry\u001B[0m\u001B[0;34m:\u001B[0m\u001B[0;34m\u001B[0m\u001B[0;34m\u001B[0m\u001B[0m\n\u001B[1;32m   1445\u001B[0m             \u001B[0;32mreturn\u001B[0m \u001B[0mself\u001B[0m\u001B[0;34m.\u001B[0m\u001B[0m_getitem_lowerdim\u001B[0m\u001B[0;34m(\u001B[0m\u001B[0mtup\u001B[0m\u001B[0;34m)\u001B[0m\u001B[0;34m\u001B[0m\u001B[0;34m\u001B[0m\u001B[0m\n",
      "\u001B[0;32m/Library/Frameworks/Python.framework/Versions/3.7/lib/python3.7/site-packages/pandas/core/indexing.py\u001B[0m in \u001B[0;36m_has_valid_tuple\u001B[0;34m(self, key)\u001B[0m\n\u001B[1;32m    698\u001B[0m         \u001B[0;32mfor\u001B[0m \u001B[0mi\u001B[0m\u001B[0;34m,\u001B[0m \u001B[0mk\u001B[0m \u001B[0;32min\u001B[0m \u001B[0menumerate\u001B[0m\u001B[0;34m(\u001B[0m\u001B[0mkey\u001B[0m\u001B[0;34m)\u001B[0m\u001B[0;34m:\u001B[0m\u001B[0;34m\u001B[0m\u001B[0;34m\u001B[0m\u001B[0m\n\u001B[1;32m    699\u001B[0m             \u001B[0;32mif\u001B[0m \u001B[0mi\u001B[0m \u001B[0;34m>=\u001B[0m \u001B[0mself\u001B[0m\u001B[0;34m.\u001B[0m\u001B[0mndim\u001B[0m\u001B[0;34m:\u001B[0m\u001B[0;34m\u001B[0m\u001B[0;34m\u001B[0m\u001B[0m\n\u001B[0;32m--> 700\u001B[0;31m                 \u001B[0;32mraise\u001B[0m \u001B[0mIndexingError\u001B[0m\u001B[0;34m(\u001B[0m\u001B[0;34m\"Too many indexers\"\u001B[0m\u001B[0;34m)\u001B[0m\u001B[0;34m\u001B[0m\u001B[0;34m\u001B[0m\u001B[0m\n\u001B[0m\u001B[1;32m    701\u001B[0m             \u001B[0;32mtry\u001B[0m\u001B[0;34m:\u001B[0m\u001B[0;34m\u001B[0m\u001B[0;34m\u001B[0m\u001B[0m\n\u001B[1;32m    702\u001B[0m                 \u001B[0mself\u001B[0m\u001B[0;34m.\u001B[0m\u001B[0m_validate_key\u001B[0m\u001B[0;34m(\u001B[0m\u001B[0mk\u001B[0m\u001B[0;34m,\u001B[0m \u001B[0mi\u001B[0m\u001B[0;34m)\u001B[0m\u001B[0;34m\u001B[0m\u001B[0;34m\u001B[0m\u001B[0m\n",
      "\u001B[0;31mIndexingError\u001B[0m: Too many indexers"
     ]
    }
   ],
   "source": [
    "df = df.drop(df.iloc[:, -1])\n",
    "print(df)"
   ],
   "metadata": {
    "collapsed": false,
    "pycharm": {
     "name": "#%%\n"
    }
   }
  },
  {
   "cell_type": "code",
   "execution_count": null,
   "outputs": [],
   "source": [],
   "metadata": {
    "collapsed": false,
    "pycharm": {
     "name": "#%%\n"
    }
   }
  }
 ],
 "metadata": {
  "kernelspec": {
   "display_name": "Python 3",
   "language": "python",
   "name": "python3"
  },
  "language_info": {
   "codemirror_mode": {
    "name": "ipython",
    "version": 2
   },
   "file_extension": ".py",
   "mimetype": "text/x-python",
   "name": "python",
   "nbconvert_exporter": "python",
   "pygments_lexer": "ipython2",
   "version": "2.7.6"
  }
 },
 "nbformat": 4,
 "nbformat_minor": 0
}