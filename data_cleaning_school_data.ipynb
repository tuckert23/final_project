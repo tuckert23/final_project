{
 "cells": [
  {
   "cell_type": "markdown",
   "source": [
    "Data Cleaning for our data set, derived from data found at:\n",
    "https://nces.ed.gov/ipeds/use-the-data\n",
    "\n",
    "Authors:\n",
    "- Tina Jin\n",
    "- Virginia Weston\n",
    "- Jeffrey Bradley\n",
    "- Taylor Tucker"
   ],
   "metadata": {
    "collapsed": false,
    "pycharm": {
     "name": "#%% md\n"
    }
   }
  },
  {
   "cell_type": "markdown",
   "source": [
    "Import Statements"
   ],
   "metadata": {
    "collapsed": false,
    "pycharm": {
     "name": "#%% md\n"
    }
   }
  },
  {
   "cell_type": "code",
   "execution_count": 46,
   "metadata": {},
   "outputs": [],
   "source": [
    "import numpy as np\n",
    "import pandas as pd"
   ]
  },
  {
   "cell_type": "markdown",
   "source": [
    "Importing the dataset as a Pandas DataFrame."
   ],
   "metadata": {
    "collapsed": false,
    "pycharm": {
     "name": "#%% md\n"
    }
   }
  },
  {
   "cell_type": "code",
   "execution_count": 47,
   "metadata": {
    "pycharm": {
     "name": "#%%\n"
    },
    "scrolled": false
   },
   "outputs": [
    {
     "name": "stdout",
     "output_type": "stream",
     "text": [
      "   UnitID     Institution Name  Carnegie Classification 2018: Basic (HD2019)  \\\n",
      "0  138600  Agnes Scott College                                            21   \n",
      "1  168546       Albion College                                            21   \n",
      "2  210571     Albright College                                            21   \n",
      "3  210669    Allegheny College                                            21   \n",
      "4  217624     Allen University                                            21   \n",
      "\n",
      "   Number of students receiving a Bachelor's degree (DRVC2019)  \\\n",
      "0                                              208.0             \n",
      "1                                              310.0             \n",
      "2                                              398.0             \n",
      "3                                              382.0             \n",
      "4                                               61.0             \n",
      "\n",
      "   Percent of full-time first-time undergraduates awarded any financial aid (SFA1819)  \\\n",
      "0                                              100.0                                    \n",
      "1                                              100.0                                    \n",
      "2                                              100.0                                    \n",
      "3                                              100.0                                    \n",
      "4                                               97.0                                    \n",
      "\n",
      "   Average amount of federal  state  local or institutional grant aid awarded (SFA1819)  \\\n",
      "0                                            32400.0                                      \n",
      "1                                            40855.0                                      \n",
      "2                                            39796.0                                      \n",
      "3                                            38689.0                                      \n",
      "4                                            10055.0                                      \n",
      "\n",
      "   Total price for out-of-state students living on campus 2018-19 (DRVIC2018)  \\\n",
      "0                                            55625.0                            \n",
      "1                                            59470.0                            \n",
      "2                                            60636.0                            \n",
      "3                                            63180.0                            \n",
      "4                                            23170.0                            \n",
      "\n",
      "   Percent admitted - men (DRVADM2018_RV)  \\\n",
      "0                                     NaN   \n",
      "1                                    65.0   \n",
      "2                                    62.0   \n",
      "3                                    60.0   \n",
      "4                                     NaN   \n",
      "\n",
      "   Percent admitted - women (DRVADM2018_RV)  \\\n",
      "0                                      70.0   \n",
      "1                                      70.0   \n",
      "2                                      62.0   \n",
      "3                                      66.0   \n",
      "4                                       NaN   \n",
      "\n",
      "   Full-time retention rate  2018 (EF2018D)  ...  \\\n",
      "0                                      79.0  ...   \n",
      "1                                      75.0  ...   \n",
      "2                                      68.0  ...   \n",
      "3                                      82.0  ...   \n",
      "4                                      37.0  ...   \n",
      "\n",
      "   Graduation rate  total cohort (DRVGR2018_RV)  \\\n",
      "0                                          69.0   \n",
      "1                                          64.0   \n",
      "2                                          51.0   \n",
      "3                                          74.0   \n",
      "4                                          31.0   \n",
      "\n",
      "   Percent full-time first-time receiving an award - 4 years (DRVOM2018_RV)  \\\n",
      "0                                               66.0                          \n",
      "1                                               61.0                          \n",
      "2                                               48.0                          \n",
      "3                                               70.0                          \n",
      "4                                               10.0                          \n",
      "\n",
      "   Total FTE staff (DRVHR2018)  Instructional FTE (DRVHR2018)  \\\n",
      "0                        357.0                          105.0   \n",
      "1                        435.0                          132.0   \n",
      "2                        355.0                          123.0   \n",
      "3                        426.0                          160.0   \n",
      "4                        115.0                           41.0   \n",
      "\n",
      "   Student and Academic Affairs and Other Education Services FTE (DRVHR2018)  \\\n",
      "0                                               56.0                           \n",
      "1                                               21.0                           \n",
      "2                                               17.0                           \n",
      "3                                               41.0                           \n",
      "4                                                4.0                           \n",
      "\n",
      "   Librarians  Curators  and Archivists/Student and Academic Affairs and Other Education Services FTE (DRVHR2018)  \\\n",
      "0                                               62.0                                                                \n",
      "1                                               27.0                                                                \n",
      "2                                               21.0                                                                \n",
      "3                                               50.0                                                                \n",
      "4                                                7.0                                                                \n",
      "\n",
      "   Physical books as a percent of the total library collection (DRVAL2018)  \\\n",
      "0                                                 41                         \n",
      "1                                                 37                         \n",
      "2                                                 28                         \n",
      "3                                                 27                         \n",
      "4                                                 20                         \n",
      "\n",
      "   Digital/Electronic books as a percent of the total library collection (DRVAL2018)  \\\n",
      "0                                                 12                                   \n",
      "1                                                 54                                   \n",
      "2                                                 13                                   \n",
      "3                                                 46                                   \n",
      "4                                                 76                                   \n",
      "\n",
      "   Databases as a percent of the total library collection (DRVAL2018)  \\\n",
      "0                                                  0                    \n",
      "1                                                  0                    \n",
      "2                                                  0                    \n",
      "3                                                  0                    \n",
      "4                                                  0                    \n",
      "\n",
      "   Unnamed: 25  \n",
      "0          NaN  \n",
      "1          NaN  \n",
      "2          NaN  \n",
      "3          NaN  \n",
      "4          NaN  \n",
      "\n",
      "[5 rows x 26 columns]\n"
     ]
    }
   ],
   "source": [
    "df = pd.read_csv(\"./school_data.csv\")\n",
    "print(df.head())\n",
    "columns = df.columns"
   ]
  },
  {
   "cell_type": "markdown",
   "source": [
    "Printing the column name and the number of null data points to get a good idea of what we are working with."
   ],
   "metadata": {
    "collapsed": false,
    "pycharm": {
     "name": "#%% md\n"
    }
   }
  },
  {
   "cell_type": "code",
   "execution_count": 48,
   "metadata": {
    "pycharm": {
     "name": "#%%\n"
    }
   },
   "outputs": [
    {
     "name": "stdout",
     "output_type": "stream",
     "text": [
      "UnitID 0\n",
      "Institution Name 0\n",
      "Carnegie Classification 2018: Basic (HD2019) 0\n",
      "Number of students receiving a Bachelor's degree (DRVC2019) 1\n",
      "Percent of full-time first-time undergraduates awarded any financial aid (SFA1819) 9\n",
      "Average amount of federal  state  local or institutional grant aid awarded (SFA1819) 9\n",
      "Total price for out-of-state students living on campus 2018-19 (DRVIC2018) 13\n",
      "Percent admitted - men (DRVADM2018_RV) 32\n",
      "Percent admitted - women (DRVADM2018_RV) 19\n",
      "Full-time retention rate  2018 (EF2018D) 4\n",
      "Undergraduate enrollment (DRVEF2018) 0\n",
      "Percent of undergraduate enrollment that are women (DRVEF2018) 1\n",
      "Percent of first-time undergraduates - in-state (DRVEF2018) 2\n",
      "Percent of first-time undergraduates - out-of-state (DRVEF2018) 2\n",
      "Percent of first-time undergraduates - foreign countries (DRVEF2018) 2\n",
      "Percent of first-time undergraduates - residence unknown (DRVEF2018) 2\n",
      "Graduation rate  total cohort (DRVGR2018_RV) 4\n",
      "Percent full-time first-time receiving an award - 4 years (DRVOM2018_RV) 5\n",
      "Total FTE staff (DRVHR2018) 2\n",
      "Instructional FTE (DRVHR2018) 2\n",
      "Student and Academic Affairs and Other Education Services FTE (DRVHR2018) 2\n",
      "Librarians  Curators  and Archivists/Student and Academic Affairs and Other Education Services FTE (DRVHR2018) 2\n",
      "Physical books as a percent of the total library collection (DRVAL2018) 0\n",
      "Digital/Electronic books as a percent of the total library collection (DRVAL2018) 0\n",
      "Databases as a percent of the total library collection (DRVAL2018) 0\n",
      "Unnamed: 25 238\n"
     ]
    }
   ],
   "source": [
    "for c in columns:\n",
    "    print(c, df[c].isna().sum())"
   ]
  },
  {
   "cell_type": "markdown",
   "source": [
    "It seems the columns associated with admittance rates for men and women have the highest, by far, instance of containing\n",
    "a null value. This is likely due to either a lack of reporting or the prevalence of single-sex universities.\n",
    "Therefore, we are going to drop those columns and add the total admissions rate."
   ],
   "metadata": {
    "collapsed": false,
    "pycharm": {
     "name": "#%% md\n"
    }
   }
  },
  {
   "cell_type": "code",
   "execution_count": 49,
   "metadata": {
    "pycharm": {
     "name": "#%%\n"
    }
   },
   "outputs": [
    {
     "name": "stdout",
     "output_type": "stream",
     "text": [
      "     UnitID             Institution Name  \\\n",
      "0    138600          Agnes Scott College   \n",
      "1    168546               Albion College   \n",
      "2    210571             Albright College   \n",
      "3    210669            Allegheny College   \n",
      "4    217624             Allen University   \n",
      "..      ...                          ...   \n",
      "233  107877  Williams Baptist University   \n",
      "234  168342             Williams College   \n",
      "235  206525        Wittenberg University   \n",
      "236  218973              Wofford College   \n",
      "237  141361         Young Harris College   \n",
      "\n",
      "     Carnegie Classification 2018: Basic (HD2019)  \\\n",
      "0                                              21   \n",
      "1                                              21   \n",
      "2                                              21   \n",
      "3                                              21   \n",
      "4                                              21   \n",
      "..                                            ...   \n",
      "233                                            21   \n",
      "234                                            21   \n",
      "235                                            21   \n",
      "236                                            21   \n",
      "237                                            21   \n",
      "\n",
      "     Number of students receiving a Bachelor's degree (DRVC2019)  \\\n",
      "0                                                208.0             \n",
      "1                                                310.0             \n",
      "2                                                398.0             \n",
      "3                                                382.0             \n",
      "4                                                 61.0             \n",
      "..                                                 ...             \n",
      "233                                               71.0             \n",
      "234                                              511.0             \n",
      "235                                              363.0             \n",
      "236                                              379.0             \n",
      "237                                              194.0             \n",
      "\n",
      "     Percent of full-time first-time undergraduates awarded any financial aid (SFA1819)  \\\n",
      "0                                                100.0                                    \n",
      "1                                                100.0                                    \n",
      "2                                                100.0                                    \n",
      "3                                                100.0                                    \n",
      "4                                                 97.0                                    \n",
      "..                                                 ...                                    \n",
      "233                                              100.0                                    \n",
      "234                                               63.0                                    \n",
      "235                                              100.0                                    \n",
      "236                                               98.0                                    \n",
      "237                                               99.0                                    \n",
      "\n",
      "     Average amount of federal  state  local or institutional grant aid awarded (SFA1819)  \\\n",
      "0                                              32400.0                                      \n",
      "1                                              40855.0                                      \n",
      "2                                              39796.0                                      \n",
      "3                                              38689.0                                      \n",
      "4                                              10055.0                                      \n",
      "..                                                 ...                                      \n",
      "233                                             9682.0                                      \n",
      "234                                            55897.0                                      \n",
      "235                                            29504.0                                      \n",
      "236                                            31824.0                                      \n",
      "237                                            24513.0                                      \n",
      "\n",
      "     Total price for out-of-state students living on campus 2018-19 (DRVIC2018)  \\\n",
      "0                                              55625.0                            \n",
      "1                                              59470.0                            \n",
      "2                                              60636.0                            \n",
      "3                                              63180.0                            \n",
      "4                                              23170.0                            \n",
      "..                                                 ...                            \n",
      "233                                            29630.0                            \n",
      "234                                            73200.0                            \n",
      "235                                            53056.0                            \n",
      "236                                            60363.0                            \n",
      "237                                            43389.0                            \n",
      "\n",
      "     Full-time retention rate  2018 (EF2018D)  \\\n",
      "0                                        79.0   \n",
      "1                                        75.0   \n",
      "2                                        68.0   \n",
      "3                                        82.0   \n",
      "4                                        37.0   \n",
      "..                                        ...   \n",
      "233                                      52.0   \n",
      "234                                      99.0   \n",
      "235                                      70.0   \n",
      "236                                      88.0   \n",
      "237                                      76.0   \n",
      "\n",
      "     Undergraduate enrollment (DRVEF2018)  \\\n",
      "0                                     996   \n",
      "1                                    1533   \n",
      "2                                    1912   \n",
      "3                                    1771   \n",
      "4                                     698   \n",
      "..                                    ...   \n",
      "233                                   479   \n",
      "234                                  2095   \n",
      "235                                  1757   \n",
      "236                                  1666   \n",
      "237                                  1425   \n",
      "\n",
      "     Percent of undergraduate enrollment that are women (DRVEF2018)  ...  \\\n",
      "0                                                 99.0               ...   \n",
      "1                                                 54.0               ...   \n",
      "2                                                 60.0               ...   \n",
      "3                                                 56.0               ...   \n",
      "4                                                 45.0               ...   \n",
      "..                                                 ...               ...   \n",
      "233                                               43.0               ...   \n",
      "234                                               48.0               ...   \n",
      "235                                               55.0               ...   \n",
      "236                                               53.0               ...   \n",
      "237                                               55.0               ...   \n",
      "\n",
      "     Graduation rate  total cohort (DRVGR2018_RV)  \\\n",
      "0                                            69.0   \n",
      "1                                            64.0   \n",
      "2                                            51.0   \n",
      "3                                            74.0   \n",
      "4                                            31.0   \n",
      "..                                            ...   \n",
      "233                                          38.0   \n",
      "234                                          95.0   \n",
      "235                                          62.0   \n",
      "236                                          81.0   \n",
      "237                                          41.0   \n",
      "\n",
      "     Percent full-time first-time receiving an award - 4 years (DRVOM2018_RV)  \\\n",
      "0                                                 66.0                          \n",
      "1                                                 61.0                          \n",
      "2                                                 48.0                          \n",
      "3                                                 70.0                          \n",
      "4                                                 10.0                          \n",
      "..                                                 ...                          \n",
      "233                                               30.0                          \n",
      "234                                               86.0                          \n",
      "235                                               61.0                          \n",
      "236                                               77.0                          \n",
      "237                                               32.0                          \n",
      "\n",
      "     Total FTE staff (DRVHR2018)  Instructional FTE (DRVHR2018)  \\\n",
      "0                          357.0                          105.0   \n",
      "1                          435.0                          132.0   \n",
      "2                          355.0                          123.0   \n",
      "3                          426.0                          160.0   \n",
      "4                          115.0                           41.0   \n",
      "..                           ...                            ...   \n",
      "233                        117.0                           33.0   \n",
      "234                       1133.0                          342.0   \n",
      "235                        373.0                          142.0   \n",
      "236                        440.0                          152.0   \n",
      "237                        208.0                           87.0   \n",
      "\n",
      "     Student and Academic Affairs and Other Education Services FTE (DRVHR2018)  \\\n",
      "0                                                 56.0                           \n",
      "1                                                 21.0                           \n",
      "2                                                 17.0                           \n",
      "3                                                 41.0                           \n",
      "4                                                  4.0                           \n",
      "..                                                 ...                           \n",
      "233                                                8.0                           \n",
      "234                                               44.0                           \n",
      "235                                               13.0                           \n",
      "236                                               23.0                           \n",
      "237                                               20.0                           \n",
      "\n",
      "     Librarians  Curators  and Archivists/Student and Academic Affairs and Other Education Services FTE (DRVHR2018)  \\\n",
      "0                                                 62.0                                                                \n",
      "1                                                 27.0                                                                \n",
      "2                                                 21.0                                                                \n",
      "3                                                 50.0                                                                \n",
      "4                                                  7.0                                                                \n",
      "..                                                 ...                                                                \n",
      "233                                               11.0                                                                \n",
      "234                                               83.0                                                                \n",
      "235                                               17.0                                                                \n",
      "236                                               34.0                                                                \n",
      "237                                               23.0                                                                \n",
      "\n",
      "     Physical books as a percent of the total library collection (DRVAL2018)  \\\n",
      "0                                                   41                         \n",
      "1                                                   37                         \n",
      "2                                                   28                         \n",
      "3                                                   27                         \n",
      "4                                                   20                         \n",
      "..                                                 ...                         \n",
      "233                                                 39                         \n",
      "234                                                 28                         \n",
      "235                                                 49                         \n",
      "236                                                 14                         \n",
      "237                                                  5                         \n",
      "\n",
      "     Digital/Electronic books as a percent of the total library collection (DRVAL2018)  \\\n",
      "0                                                   12                                   \n",
      "1                                                   54                                   \n",
      "2                                                   13                                   \n",
      "3                                                   46                                   \n",
      "4                                                   76                                   \n",
      "..                                                 ...                                   \n",
      "233                                                 61                                   \n",
      "234                                                 56                                   \n",
      "235                                                 22                                   \n",
      "236                                                 60                                   \n",
      "237                                                 37                                   \n",
      "\n",
      "     Databases as a percent of the total library collection (DRVAL2018)  \\\n",
      "0                                                    0                    \n",
      "1                                                    0                    \n",
      "2                                                    0                    \n",
      "3                                                    0                    \n",
      "4                                                    0                    \n",
      "..                                                 ...                    \n",
      "233                                                  0                    \n",
      "234                                                  0                    \n",
      "235                                                  0                    \n",
      "236                                                  0                    \n",
      "237                                                  0                    \n",
      "\n",
      "     Unnamed: 25  \n",
      "0            NaN  \n",
      "1            NaN  \n",
      "2            NaN  \n",
      "3            NaN  \n",
      "4            NaN  \n",
      "..           ...  \n",
      "233          NaN  \n",
      "234          NaN  \n",
      "235          NaN  \n",
      "236          NaN  \n",
      "237          NaN  \n",
      "\n",
      "[238 rows x 24 columns]\n"
     ]
    }
   ],
   "source": [
    "df.drop([\"Percent admitted - men (DRVADM2018_RV)\", \"Percent admitted - women (DRVADM2018_RV)\"], axis=1, inplace=True)\n",
    "print(df)"
   ]
  },
  {
   "cell_type": "markdown",
   "metadata": {
    "pycharm": {
     "name": "#%% md\n"
    }
   },
   "source": [
    "New DataFrame containing the total admissions rate, also found at\n",
    "https://nces.ed.gov/ipeds/use-the-data."
   ]
  },
  {
   "cell_type": "code",
   "execution_count": 50,
   "outputs": [],
   "source": [
    "admissions_rate = pd.read_csv(\"./total_admissions_rate.csv\")"
   ],
   "metadata": {
    "collapsed": false,
    "pycharm": {
     "name": "#%%\n"
    }
   }
  },
  {
   "cell_type": "markdown",
   "source": [
    "Concatenating our two DataFrames to make a final one"
   ],
   "metadata": {
    "collapsed": false,
    "pycharm": {
     "name": "#%% md\n"
    }
   }
  },
  {
   "cell_type": "code",
   "execution_count": 51,
   "outputs": [
    {
     "name": "stdout",
     "output_type": "stream",
     "text": [
      "Index(['UnitID', 'Institution Name',\n",
      "       'Carnegie Classification 2018: Basic (HD2019)',\n",
      "       'Number of students receiving a Bachelor's degree (DRVC2019)',\n",
      "       'Percent of full-time first-time undergraduates awarded any financial aid (SFA1819)',\n",
      "       'Average amount of federal  state  local or institutional grant aid awarded (SFA1819)',\n",
      "       'Total price for out-of-state students living on campus 2018-19 (DRVIC2018)',\n",
      "       'Full-time retention rate  2018 (EF2018D)',\n",
      "       'Undergraduate enrollment (DRVEF2018)',\n",
      "       'Percent of undergraduate enrollment that are women (DRVEF2018)',\n",
      "       'Percent of first-time undergraduates - in-state (DRVEF2018)',\n",
      "       'Percent of first-time undergraduates - out-of-state (DRVEF2018)',\n",
      "       'Percent of first-time undergraduates - foreign countries (DRVEF2018)',\n",
      "       'Percent of first-time undergraduates - residence unknown (DRVEF2018)',\n",
      "       'Graduation rate  total cohort (DRVGR2018_RV)',\n",
      "       'Percent full-time first-time receiving an award - 4 years (DRVOM2018_RV)',\n",
      "       'Total FTE staff (DRVHR2018)', 'Instructional FTE (DRVHR2018)',\n",
      "       'Student and Academic Affairs and Other Education Services FTE (DRVHR2018)',\n",
      "       'Librarians  Curators  and Archivists/Student and Academic Affairs and Other Education Services FTE (DRVHR2018)',\n",
      "       'Physical books as a percent of the total library collection (DRVAL2018)',\n",
      "       'Digital/Electronic books as a percent of the total library collection (DRVAL2018)',\n",
      "       'Databases as a percent of the total library collection (DRVAL2018)',\n",
      "       'Unnamed: 25', 'UnitID', 'Institution Name',\n",
      "       'Percent admitted - total (DRVADM2018_RV)', 'Unnamed: 3'],\n",
      "      dtype='object')\n"
     ]
    }
   ],
   "source": [
    "df = pd.concat([df, admissions_rate], axis=1)\n",
    "print(df.columns)"
   ],
   "metadata": {
    "collapsed": false,
    "pycharm": {
     "name": "#%%\n"
    }
   }
  },
  {
   "cell_type": "markdown",
   "source": [
    "dropping weird \"Unnamed:\" columns and the \"Institution Name\" and \"UnitID\" columns"
   ],
   "metadata": {
    "collapsed": false,
    "pycharm": {
     "name": "#%% md\n"
    }
   }
  },
  {
   "cell_type": "code",
   "execution_count": 52,
   "outputs": [
    {
     "name": "stdout",
     "output_type": "stream",
     "text": [
      "Index(['Carnegie Classification 2018: Basic (HD2019)',\n",
      "       'Number of students receiving a Bachelor's degree (DRVC2019)',\n",
      "       'Percent of full-time first-time undergraduates awarded any financial aid (SFA1819)',\n",
      "       'Average amount of federal  state  local or institutional grant aid awarded (SFA1819)',\n",
      "       'Total price for out-of-state students living on campus 2018-19 (DRVIC2018)',\n",
      "       'Full-time retention rate  2018 (EF2018D)',\n",
      "       'Undergraduate enrollment (DRVEF2018)',\n",
      "       'Percent of undergraduate enrollment that are women (DRVEF2018)',\n",
      "       'Percent of first-time undergraduates - in-state (DRVEF2018)',\n",
      "       'Percent of first-time undergraduates - out-of-state (DRVEF2018)',\n",
      "       'Percent of first-time undergraduates - foreign countries (DRVEF2018)',\n",
      "       'Percent of first-time undergraduates - residence unknown (DRVEF2018)',\n",
      "       'Graduation rate  total cohort (DRVGR2018_RV)',\n",
      "       'Percent full-time first-time receiving an award - 4 years (DRVOM2018_RV)',\n",
      "       'Total FTE staff (DRVHR2018)', 'Instructional FTE (DRVHR2018)',\n",
      "       'Student and Academic Affairs and Other Education Services FTE (DRVHR2018)',\n",
      "       'Librarians  Curators  and Archivists/Student and Academic Affairs and Other Education Services FTE (DRVHR2018)',\n",
      "       'Physical books as a percent of the total library collection (DRVAL2018)',\n",
      "       'Digital/Electronic books as a percent of the total library collection (DRVAL2018)',\n",
      "       'Databases as a percent of the total library collection (DRVAL2018)',\n",
      "       'Percent admitted - total (DRVADM2018_RV)'],\n",
      "      dtype='object')\n"
     ]
    }
   ],
   "source": [
    "df.drop([\"Unnamed: 25\", \"Unnamed: 3\", \"Institution Name\", \"UnitID\"], axis=1, inplace=True)\n",
    "print(df.columns)"
   ],
   "metadata": {
    "collapsed": false,
    "pycharm": {
     "name": "#%%\n"
    }
   }
  },
  {
   "cell_type": "markdown",
   "source": [
    "Checking once more the prevalence of missing data and printing the number of examples"
   ],
   "metadata": {
    "collapsed": false,
    "pycharm": {
     "name": "#%% md\n"
    }
   }
  },
  {
   "cell_type": "code",
   "execution_count": 55,
   "outputs": [
    {
     "name": "stdout",
     "output_type": "stream",
     "text": [
      "Carnegie Classification 2018: Basic (HD2019) 0\n",
      "Number of students receiving a Bachelor's degree (DRVC2019) 1\n",
      "Percent of full-time first-time undergraduates awarded any financial aid (SFA1819) 9\n",
      "Average amount of federal  state  local or institutional grant aid awarded (SFA1819) 9\n",
      "Total price for out-of-state students living on campus 2018-19 (DRVIC2018) 13\n",
      "Full-time retention rate  2018 (EF2018D) 4\n",
      "Undergraduate enrollment (DRVEF2018) 0\n",
      "Percent of undergraduate enrollment that are women (DRVEF2018) 1\n",
      "Percent of first-time undergraduates - in-state (DRVEF2018) 2\n",
      "Percent of first-time undergraduates - out-of-state (DRVEF2018) 2\n",
      "Percent of first-time undergraduates - foreign countries (DRVEF2018) 2\n",
      "Percent of first-time undergraduates - residence unknown (DRVEF2018) 2\n",
      "Graduation rate  total cohort (DRVGR2018_RV) 4\n",
      "Percent full-time first-time receiving an award - 4 years (DRVOM2018_RV) 5\n",
      "Total FTE staff (DRVHR2018) 2\n",
      "Instructional FTE (DRVHR2018) 2\n",
      "Student and Academic Affairs and Other Education Services FTE (DRVHR2018) 2\n",
      "Librarians  Curators  and Archivists/Student and Academic Affairs and Other Education Services FTE (DRVHR2018) 2\n",
      "Physical books as a percent of the total library collection (DRVAL2018) 0\n",
      "Digital/Electronic books as a percent of the total library collection (DRVAL2018) 0\n",
      "Databases as a percent of the total library collection (DRVAL2018) 0\n",
      "Percent admitted - total (DRVADM2018_RV) 17\n",
      "Number of features: 22\n",
      "Number of examples: 238\n"
     ]
    }
   ],
   "source": [
    "for c in df.columns:\n",
    "    print(c, df[c].isna().sum())\n",
    "\n",
    "print(\"Number of features:\", len(df.columns))\n",
    "print(\"Number of examples:\", len(df.iloc[:, 0]))"
   ],
   "metadata": {
    "collapsed": false,
    "pycharm": {
     "name": "#%%\n"
    }
   }
  },
  {
   "cell_type": "markdown",
   "source": [
    "Now we have a relatively coherent data set to work with around 21 features and 1 target variable, and around 238\n",
    "examples.\n"
   ],
   "metadata": {
    "collapsed": false,
    "pycharm": {
     "name": "#%% md\n"
    }
   }
  }
 ],
 "metadata": {
  "kernelspec": {
   "display_name": "Python 3",
   "language": "python",
   "name": "python3"
  },
  "language_info": {
   "codemirror_mode": {
    "name": "ipython",
    "version": 3
   },
   "file_extension": ".py",
   "mimetype": "text/x-python",
   "name": "python",
   "nbconvert_exporter": "python",
   "pygments_lexer": "ipython3",
   "version": "3.7.0"
  }
 },
 "nbformat": 4,
 "nbformat_minor": 1
}