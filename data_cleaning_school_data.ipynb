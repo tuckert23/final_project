{
 "cells": [
  {
   "cell_type": "code",
   "execution_count": 1,
   "metadata": {},
   "outputs": [],
   "source": [
    "import numpy as np\n",
    "import pandas as pd"
   ]
  },
  {
   "cell_type": "code",
   "execution_count": 2,
   "metadata": {
    "pycharm": {
     "name": "#%%\n"
    },
    "scrolled": false
   },
   "outputs": [
    {
     "name": "stdout",
     "output_type": "stream",
     "text": [
      "   UnitID     Institution Name  Carnegie Classification 2018: Basic (HD2019)  \\\n",
      "0  138600  Agnes Scott College                                            21   \n",
      "1  168546       Albion College                                            21   \n",
      "2  210571     Albright College                                            21   \n",
      "3  210669    Allegheny College                                            21   \n",
      "4  217624     Allen University                                            21   \n",
      "\n",
      "   Number of students receiving a Bachelor's degree (DRVC2019)  \\\n",
      "0                                              208.0             \n",
      "1                                              310.0             \n",
      "2                                              398.0             \n",
      "3                                              382.0             \n",
      "4                                               61.0             \n",
      "\n",
      "   Percent of full-time first-time undergraduates awarded any financial aid (SFA1819)  \\\n",
      "0                                              100.0                                    \n",
      "1                                              100.0                                    \n",
      "2                                              100.0                                    \n",
      "3                                              100.0                                    \n",
      "4                                               97.0                                    \n",
      "\n",
      "   Average amount of federal  state  local or institutional grant aid awarded (SFA1819)  \\\n",
      "0                                            32400.0                                      \n",
      "1                                            40855.0                                      \n",
      "2                                            39796.0                                      \n",
      "3                                            38689.0                                      \n",
      "4                                            10055.0                                      \n",
      "\n",
      "   Total price for out-of-state students living on campus 2018-19 (DRVIC2018)  \\\n",
      "0                                            55625.0                            \n",
      "1                                            59470.0                            \n",
      "2                                            60636.0                            \n",
      "3                                            63180.0                            \n",
      "4                                            23170.0                            \n",
      "\n",
      "   Percent admitted - men (DRVADM2018_RV)  \\\n",
      "0                                     NaN   \n",
      "1                                    65.0   \n",
      "2                                    62.0   \n",
      "3                                    60.0   \n",
      "4                                     NaN   \n",
      "\n",
      "   Percent admitted - women (DRVADM2018_RV)  \\\n",
      "0                                      70.0   \n",
      "1                                      70.0   \n",
      "2                                      62.0   \n",
      "3                                      66.0   \n",
      "4                                       NaN   \n",
      "\n",
      "   Full-time retention rate  2018 (EF2018D)  ...  \\\n",
      "0                                      79.0  ...   \n",
      "1                                      75.0  ...   \n",
      "2                                      68.0  ...   \n",
      "3                                      82.0  ...   \n",
      "4                                      37.0  ...   \n",
      "\n",
      "   Graduation rate  total cohort (DRVGR2018_RV)  \\\n",
      "0                                          69.0   \n",
      "1                                          64.0   \n",
      "2                                          51.0   \n",
      "3                                          74.0   \n",
      "4                                          31.0   \n",
      "\n",
      "   Percent full-time first-time receiving an award - 4 years (DRVOM2018_RV)  \\\n",
      "0                                               66.0                          \n",
      "1                                               61.0                          \n",
      "2                                               48.0                          \n",
      "3                                               70.0                          \n",
      "4                                               10.0                          \n",
      "\n",
      "   Total FTE staff (DRVHR2018)  Instructional FTE (DRVHR2018)  \\\n",
      "0                        357.0                          105.0   \n",
      "1                        435.0                          132.0   \n",
      "2                        355.0                          123.0   \n",
      "3                        426.0                          160.0   \n",
      "4                        115.0                           41.0   \n",
      "\n",
      "   Student and Academic Affairs and Other Education Services FTE (DRVHR2018)  \\\n",
      "0                                               56.0                           \n",
      "1                                               21.0                           \n",
      "2                                               17.0                           \n",
      "3                                               41.0                           \n",
      "4                                                4.0                           \n",
      "\n",
      "   Librarians  Curators  and Archivists/Student and Academic Affairs and Other Education Services FTE (DRVHR2018)  \\\n",
      "0                                               62.0                                                                \n",
      "1                                               27.0                                                                \n",
      "2                                               21.0                                                                \n",
      "3                                               50.0                                                                \n",
      "4                                                7.0                                                                \n",
      "\n",
      "   Physical books as a percent of the total library collection (DRVAL2018)  \\\n",
      "0                                                 41                         \n",
      "1                                                 37                         \n",
      "2                                                 28                         \n",
      "3                                                 27                         \n",
      "4                                                 20                         \n",
      "\n",
      "   Digital/Electronic books as a percent of the total library collection (DRVAL2018)  \\\n",
      "0                                                 12                                   \n",
      "1                                                 54                                   \n",
      "2                                                 13                                   \n",
      "3                                                 46                                   \n",
      "4                                                 76                                   \n",
      "\n",
      "   Databases as a percent of the total library collection (DRVAL2018)  \\\n",
      "0                                                  0                    \n",
      "1                                                  0                    \n",
      "2                                                  0                    \n",
      "3                                                  0                    \n",
      "4                                                  0                    \n",
      "\n",
      "   Unnamed: 25  \n",
      "0          NaN  \n",
      "1          NaN  \n",
      "2          NaN  \n",
      "3          NaN  \n",
      "4          NaN  \n",
      "\n",
      "[5 rows x 26 columns]\n"
     ]
    }
   ],
   "source": [
    "df = pd.read_csv(\"./Data_11-8-2020---552.csv\")\n",
    "print(df.head())\n",
    "columns = df.columns"
   ]
  },
  {
   "cell_type": "code",
   "execution_count": 3,
   "metadata": {
    "pycharm": {
     "name": "#%%\n"
    }
   },
   "outputs": [
    {
     "name": "stdout",
     "output_type": "stream",
     "text": [
      "0\n",
      "0\n",
      "0\n",
      "1\n",
      "9\n",
      "9\n",
      "13\n",
      "32\n",
      "19\n",
      "4\n",
      "0\n",
      "1\n",
      "2\n",
      "2\n",
      "2\n",
      "2\n",
      "4\n",
      "5\n",
      "2\n",
      "2\n",
      "2\n",
      "2\n",
      "0\n",
      "0\n",
      "0\n",
      "238\n"
     ]
    }
   ],
   "source": [
    "for c in columns:\n",
    "    print(df[c].isna().sum())"
   ]
  },
  {
   "cell_type": "code",
   "execution_count": 4,
   "metadata": {
    "pycharm": {
     "name": "#%%\n"
    }
   },
   "outputs": [
    {
     "ename": "KeyError",
     "evalue": "'[nan nan nan nan nan nan nan nan nan nan nan nan nan nan nan nan nan nan\\n nan nan nan nan nan nan nan nan nan nan nan nan nan nan nan nan nan nan\\n nan nan nan nan nan nan nan nan nan nan nan nan nan nan nan nan nan nan\\n nan nan nan nan nan nan nan nan nan nan nan nan nan nan nan nan nan nan\\n nan nan nan nan nan nan nan nan nan nan nan nan nan nan nan nan nan nan\\n nan nan nan nan nan nan nan nan nan nan nan nan nan nan nan nan nan nan\\n nan nan nan nan nan nan nan nan nan nan nan nan nan nan nan nan nan nan\\n nan nan nan nan nan nan nan nan nan nan nan nan nan nan nan nan nan nan\\n nan nan nan nan nan nan nan nan nan nan nan nan nan nan nan nan nan nan\\n nan nan nan nan nan nan nan nan nan nan nan nan nan nan nan nan nan nan\\n nan nan nan nan nan nan nan nan nan nan nan nan nan nan nan nan nan nan\\n nan nan nan nan nan nan nan nan nan nan nan nan nan nan nan nan nan nan\\n nan nan nan nan nan nan nan nan nan nan nan nan nan nan nan nan nan nan\\n nan nan nan nan] not found in axis'",
     "output_type": "error",
     "traceback": [
      "\u001b[1;31m---------------------------------------------------------------------------\u001b[0m",
      "\u001b[1;31mKeyError\u001b[0m                                  Traceback (most recent call last)",
      "\u001b[1;32m<ipython-input-4-5f17907548f1>\u001b[0m in \u001b[0;36m<module>\u001b[1;34m\u001b[0m\n\u001b[1;32m----> 1\u001b[1;33m \u001b[0mdf\u001b[0m \u001b[1;33m=\u001b[0m \u001b[0mdf\u001b[0m\u001b[1;33m.\u001b[0m\u001b[0mdrop\u001b[0m\u001b[1;33m(\u001b[0m\u001b[0mdf\u001b[0m\u001b[1;33m.\u001b[0m\u001b[0miloc\u001b[0m\u001b[1;33m[\u001b[0m\u001b[1;33m:\u001b[0m\u001b[1;33m,\u001b[0m \u001b[1;33m-\u001b[0m\u001b[1;36m1\u001b[0m\u001b[1;33m]\u001b[0m\u001b[1;33m)\u001b[0m\u001b[1;33m\u001b[0m\u001b[0m\n\u001b[0m\u001b[0;32m      2\u001b[0m \u001b[0mprint\u001b[0m\u001b[1;33m(\u001b[0m\u001b[0mdf\u001b[0m\u001b[1;33m)\u001b[0m\u001b[1;33m\u001b[0m\u001b[0m\n",
      "\u001b[1;32mc:\\users\\tinak\\appdata\\local\\programs\\python\\python37\\lib\\site-packages\\pandas\\core\\frame.py\u001b[0m in \u001b[0;36mdrop\u001b[1;34m(self, labels, axis, index, columns, level, inplace, errors)\u001b[0m\n\u001b[0;32m   4115\u001b[0m             \u001b[0mlevel\u001b[0m\u001b[1;33m=\u001b[0m\u001b[0mlevel\u001b[0m\u001b[1;33m,\u001b[0m\u001b[1;33m\u001b[0m\u001b[0m\n\u001b[0;32m   4116\u001b[0m             \u001b[0minplace\u001b[0m\u001b[1;33m=\u001b[0m\u001b[0minplace\u001b[0m\u001b[1;33m,\u001b[0m\u001b[1;33m\u001b[0m\u001b[0m\n\u001b[1;32m-> 4117\u001b[1;33m             \u001b[0merrors\u001b[0m\u001b[1;33m=\u001b[0m\u001b[0merrors\u001b[0m\u001b[1;33m,\u001b[0m\u001b[1;33m\u001b[0m\u001b[0m\n\u001b[0m\u001b[0;32m   4118\u001b[0m         )\n\u001b[0;32m   4119\u001b[0m \u001b[1;33m\u001b[0m\u001b[0m\n",
      "\u001b[1;32mc:\\users\\tinak\\appdata\\local\\programs\\python\\python37\\lib\\site-packages\\pandas\\core\\generic.py\u001b[0m in \u001b[0;36mdrop\u001b[1;34m(self, labels, axis, index, columns, level, inplace, errors)\u001b[0m\n\u001b[0;32m   3912\u001b[0m         \u001b[1;32mfor\u001b[0m \u001b[0maxis\u001b[0m\u001b[1;33m,\u001b[0m \u001b[0mlabels\u001b[0m \u001b[1;32min\u001b[0m \u001b[0maxes\u001b[0m\u001b[1;33m.\u001b[0m\u001b[0mitems\u001b[0m\u001b[1;33m(\u001b[0m\u001b[1;33m)\u001b[0m\u001b[1;33m:\u001b[0m\u001b[1;33m\u001b[0m\u001b[0m\n\u001b[0;32m   3913\u001b[0m             \u001b[1;32mif\u001b[0m \u001b[0mlabels\u001b[0m \u001b[1;32mis\u001b[0m \u001b[1;32mnot\u001b[0m \u001b[1;32mNone\u001b[0m\u001b[1;33m:\u001b[0m\u001b[1;33m\u001b[0m\u001b[0m\n\u001b[1;32m-> 3914\u001b[1;33m                 \u001b[0mobj\u001b[0m \u001b[1;33m=\u001b[0m \u001b[0mobj\u001b[0m\u001b[1;33m.\u001b[0m\u001b[0m_drop_axis\u001b[0m\u001b[1;33m(\u001b[0m\u001b[0mlabels\u001b[0m\u001b[1;33m,\u001b[0m \u001b[0maxis\u001b[0m\u001b[1;33m,\u001b[0m \u001b[0mlevel\u001b[0m\u001b[1;33m=\u001b[0m\u001b[0mlevel\u001b[0m\u001b[1;33m,\u001b[0m \u001b[0merrors\u001b[0m\u001b[1;33m=\u001b[0m\u001b[0merrors\u001b[0m\u001b[1;33m)\u001b[0m\u001b[1;33m\u001b[0m\u001b[0m\n\u001b[0m\u001b[0;32m   3915\u001b[0m \u001b[1;33m\u001b[0m\u001b[0m\n\u001b[0;32m   3916\u001b[0m         \u001b[1;32mif\u001b[0m \u001b[0minplace\u001b[0m\u001b[1;33m:\u001b[0m\u001b[1;33m\u001b[0m\u001b[0m\n",
      "\u001b[1;32mc:\\users\\tinak\\appdata\\local\\programs\\python\\python37\\lib\\site-packages\\pandas\\core\\generic.py\u001b[0m in \u001b[0;36m_drop_axis\u001b[1;34m(self, labels, axis, level, errors)\u001b[0m\n\u001b[0;32m   3944\u001b[0m                 \u001b[0mnew_axis\u001b[0m \u001b[1;33m=\u001b[0m \u001b[0maxis\u001b[0m\u001b[1;33m.\u001b[0m\u001b[0mdrop\u001b[0m\u001b[1;33m(\u001b[0m\u001b[0mlabels\u001b[0m\u001b[1;33m,\u001b[0m \u001b[0mlevel\u001b[0m\u001b[1;33m=\u001b[0m\u001b[0mlevel\u001b[0m\u001b[1;33m,\u001b[0m \u001b[0merrors\u001b[0m\u001b[1;33m=\u001b[0m\u001b[0merrors\u001b[0m\u001b[1;33m)\u001b[0m\u001b[1;33m\u001b[0m\u001b[0m\n\u001b[0;32m   3945\u001b[0m             \u001b[1;32melse\u001b[0m\u001b[1;33m:\u001b[0m\u001b[1;33m\u001b[0m\u001b[0m\n\u001b[1;32m-> 3946\u001b[1;33m                 \u001b[0mnew_axis\u001b[0m \u001b[1;33m=\u001b[0m \u001b[0maxis\u001b[0m\u001b[1;33m.\u001b[0m\u001b[0mdrop\u001b[0m\u001b[1;33m(\u001b[0m\u001b[0mlabels\u001b[0m\u001b[1;33m,\u001b[0m \u001b[0merrors\u001b[0m\u001b[1;33m=\u001b[0m\u001b[0merrors\u001b[0m\u001b[1;33m)\u001b[0m\u001b[1;33m\u001b[0m\u001b[0m\n\u001b[0m\u001b[0;32m   3947\u001b[0m             \u001b[0mresult\u001b[0m \u001b[1;33m=\u001b[0m \u001b[0mself\u001b[0m\u001b[1;33m.\u001b[0m\u001b[0mreindex\u001b[0m\u001b[1;33m(\u001b[0m\u001b[1;33m**\u001b[0m\u001b[1;33m{\u001b[0m\u001b[0maxis_name\u001b[0m\u001b[1;33m:\u001b[0m \u001b[0mnew_axis\u001b[0m\u001b[1;33m}\u001b[0m\u001b[1;33m)\u001b[0m\u001b[1;33m\u001b[0m\u001b[0m\n\u001b[0;32m   3948\u001b[0m \u001b[1;33m\u001b[0m\u001b[0m\n",
      "\u001b[1;32mc:\\users\\tinak\\appdata\\local\\programs\\python\\python37\\lib\\site-packages\\pandas\\core\\indexes\\base.py\u001b[0m in \u001b[0;36mdrop\u001b[1;34m(self, labels, errors)\u001b[0m\n\u001b[0;32m   5338\u001b[0m         \u001b[1;32mif\u001b[0m \u001b[0mmask\u001b[0m\u001b[1;33m.\u001b[0m\u001b[0many\u001b[0m\u001b[1;33m(\u001b[0m\u001b[1;33m)\u001b[0m\u001b[1;33m:\u001b[0m\u001b[1;33m\u001b[0m\u001b[0m\n\u001b[0;32m   5339\u001b[0m             \u001b[1;32mif\u001b[0m \u001b[0merrors\u001b[0m \u001b[1;33m!=\u001b[0m \u001b[1;34m\"ignore\"\u001b[0m\u001b[1;33m:\u001b[0m\u001b[1;33m\u001b[0m\u001b[0m\n\u001b[1;32m-> 5340\u001b[1;33m                 \u001b[1;32mraise\u001b[0m \u001b[0mKeyError\u001b[0m\u001b[1;33m(\u001b[0m\u001b[1;34m\"{} not found in axis\"\u001b[0m\u001b[1;33m.\u001b[0m\u001b[0mformat\u001b[0m\u001b[1;33m(\u001b[0m\u001b[0mlabels\u001b[0m\u001b[1;33m[\u001b[0m\u001b[0mmask\u001b[0m\u001b[1;33m]\u001b[0m\u001b[1;33m)\u001b[0m\u001b[1;33m)\u001b[0m\u001b[1;33m\u001b[0m\u001b[0m\n\u001b[0m\u001b[0;32m   5341\u001b[0m             \u001b[0mindexer\u001b[0m \u001b[1;33m=\u001b[0m \u001b[0mindexer\u001b[0m\u001b[1;33m[\u001b[0m\u001b[1;33m~\u001b[0m\u001b[0mmask\u001b[0m\u001b[1;33m]\u001b[0m\u001b[1;33m\u001b[0m\u001b[0m\n\u001b[0;32m   5342\u001b[0m         \u001b[1;32mreturn\u001b[0m \u001b[0mself\u001b[0m\u001b[1;33m.\u001b[0m\u001b[0mdelete\u001b[0m\u001b[1;33m(\u001b[0m\u001b[0mindexer\u001b[0m\u001b[1;33m)\u001b[0m\u001b[1;33m\u001b[0m\u001b[0m\n",
      "\u001b[1;31mKeyError\u001b[0m: '[nan nan nan nan nan nan nan nan nan nan nan nan nan nan nan nan nan nan\\n nan nan nan nan nan nan nan nan nan nan nan nan nan nan nan nan nan nan\\n nan nan nan nan nan nan nan nan nan nan nan nan nan nan nan nan nan nan\\n nan nan nan nan nan nan nan nan nan nan nan nan nan nan nan nan nan nan\\n nan nan nan nan nan nan nan nan nan nan nan nan nan nan nan nan nan nan\\n nan nan nan nan nan nan nan nan nan nan nan nan nan nan nan nan nan nan\\n nan nan nan nan nan nan nan nan nan nan nan nan nan nan nan nan nan nan\\n nan nan nan nan nan nan nan nan nan nan nan nan nan nan nan nan nan nan\\n nan nan nan nan nan nan nan nan nan nan nan nan nan nan nan nan nan nan\\n nan nan nan nan nan nan nan nan nan nan nan nan nan nan nan nan nan nan\\n nan nan nan nan nan nan nan nan nan nan nan nan nan nan nan nan nan nan\\n nan nan nan nan nan nan nan nan nan nan nan nan nan nan nan nan nan nan\\n nan nan nan nan nan nan nan nan nan nan nan nan nan nan nan nan nan nan\\n nan nan nan nan] not found in axis'"
     ]
    }
   ],
   "source": [
    "df = df.drop(df.iloc[:, -1])\n",
    "print(df)"
   ]
  },
  {
   "cell_type": "code",
   "execution_count": null,
   "metadata": {
    "pycharm": {
     "name": "#%%\n"
    }
   },
   "outputs": [],
   "source": []
  }
 ],
 "metadata": {
  "kernelspec": {
   "display_name": "Python 3",
   "language": "python",
   "name": "python3"
  },
  "language_info": {
   "codemirror_mode": {
    "name": "ipython",
    "version": 3
   },
   "file_extension": ".py",
   "mimetype": "text/x-python",
   "name": "python",
   "nbconvert_exporter": "python",
   "pygments_lexer": "ipython3",
   "version": "3.7.0"
  }
 },
 "nbformat": 4,
 "nbformat_minor": 1
}
