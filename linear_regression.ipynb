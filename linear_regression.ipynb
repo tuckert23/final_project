{
 "cells": [
  {
   "cell_type": "markdown",
   "metadata": {
    "collapsed": true,
    "pycharm": {
     "name": "#%% md\n"
    }
   },
   "source": [
    "# Final Project\n",
    "## Authors:\n",
    "- Taylor Tucker\n",
    "- Virginia Weston\n",
    "- Tina Jin\n",
    "- Jeffrey Bradley\n",
    "\n",
    "## Code for linear regression modeling."
   ]
  },
  {
   "cell_type": "markdown",
   "source": [
    "Import Statements"
   ],
   "metadata": {
    "collapsed": false,
    "pycharm": {
     "name": "#%% md\n"
    }
   }
  },
  {
   "cell_type": "code",
   "execution_count": 27,
   "outputs": [],
   "source": [
    "import pandas as pd\n",
    "from sklearn.linear_model import LinearRegression\n",
    "from sklearn.model_selection import train_test_split\n",
    "from sklearn.pipeline import make_pipeline, Pipeline\n",
    "from sklearn.preprocessing import StandardScaler, MinMaxScaler"
   ],
   "metadata": {
    "collapsed": false,
    "pycharm": {
     "name": "#%%\n"
    }
   }
  },
  {
   "cell_type": "markdown",
   "source": [
    "Importing the continuous dataset"
   ],
   "metadata": {
    "collapsed": false,
    "pycharm": {
     "name": "#%% md\n"
    }
   }
  },
  {
   "cell_type": "code",
   "execution_count": 28,
   "outputs": [],
   "source": [
    "df = pd.read_csv(\"./cleaned_data.csv\")"
   ],
   "metadata": {
    "collapsed": false,
    "pycharm": {
     "name": "#%%\n"
    }
   }
  },
  {
   "cell_type": "code",
   "execution_count": 29,
   "outputs": [
    {
     "data": {
      "text/plain": "     Unnamed: 0  Number of Bachelor's Degrees  Percent Financial Aid  \\\n0             0                         208.0                  100.0   \n1             1                         310.0                  100.0   \n2             2                         398.0                  100.0   \n3             3                         382.0                  100.0   \n4             4                          61.0                   97.0   \n..          ...                           ...                    ...   \n220         233                          71.0                  100.0   \n221         234                         511.0                   63.0   \n222         235                         363.0                  100.0   \n223         236                         379.0                   98.0   \n224         237                         194.0                   99.0   \n\n     Average Amount of Aid  Retention Rate  Enrollment  Percent Women  \\\n0                  32400.0            79.0         996           99.0   \n1                  40855.0            75.0        1533           54.0   \n2                  39796.0            68.0        1912           60.0   \n3                  38689.0            82.0        1771           56.0   \n4                  10055.0            37.0         698           45.0   \n..                     ...             ...         ...            ...   \n220                 9682.0            52.0         479           43.0   \n221                55897.0            99.0        2095           48.0   \n222                29504.0            70.0        1757           55.0   \n223                31824.0            88.0        1666           53.0   \n224                24513.0            76.0        1425           55.0   \n\n     Percent In State  Percent Out of State  Percent Foreign  ...  \\\n0                59.0                  36.0              4.0  ...   \n1                66.0                  32.0              1.0  ...   \n2                53.0                  46.0              1.0  ...   \n3                50.0                  45.0              4.0  ...   \n4                64.0                  34.0              0.0  ...   \n..                ...                   ...              ...  ...   \n220              67.0                  28.0              6.0  ...   \n221              12.0                  78.0              9.0  ...   \n222              79.0                  21.0              1.0  ...   \n223              55.0                  42.0              3.0  ...   \n224              80.0                  12.0              8.0  ...   \n\n     Graduation Rate  Percent Awarded  Total Staff  Instructional Staff  \\\n0               69.0             66.0        357.0                105.0   \n1               64.0             61.0        435.0                132.0   \n2               51.0             48.0        355.0                123.0   \n3               74.0             70.0        426.0                160.0   \n4               31.0             10.0        115.0                 41.0   \n..               ...              ...          ...                  ...   \n220             38.0             30.0        117.0                 33.0   \n221             95.0             86.0       1133.0                342.0   \n222             62.0             61.0        373.0                142.0   \n223             81.0             77.0        440.0                152.0   \n224             41.0             32.0        208.0                 87.0   \n\n     SA Staff  Librarian Staff  Percent Books  Percent Digital  \\\n0        56.0             62.0             41               12   \n1        21.0             27.0             37               54   \n2        17.0             21.0             28               13   \n3        41.0             50.0             27               46   \n4         4.0              7.0             20               76   \n..        ...              ...            ...              ...   \n220       8.0             11.0             39               61   \n221      44.0             83.0             28               56   \n222      13.0             17.0             49               22   \n223      23.0             34.0             14               60   \n224      20.0             23.0              5               37   \n\n     Percent Admitted  Total Price  \n0                70.0      55625.0  \n1                68.0      59470.0  \n2                62.0      60636.0  \n3                64.0      63180.0  \n4                64.0      23170.0  \n..                ...          ...  \n220              56.0      29630.0  \n221              13.0      73200.0  \n222              74.0      53056.0  \n223              64.0      60363.0  \n224              63.0      43389.0  \n\n[225 rows x 21 columns]",
      "text/html": "<div>\n<style scoped>\n    .dataframe tbody tr th:only-of-type {\n        vertical-align: middle;\n    }\n\n    .dataframe tbody tr th {\n        vertical-align: top;\n    }\n\n    .dataframe thead th {\n        text-align: right;\n    }\n</style>\n<table border=\"1\" class=\"dataframe\">\n  <thead>\n    <tr style=\"text-align: right;\">\n      <th></th>\n      <th>Unnamed: 0</th>\n      <th>Number of Bachelor's Degrees</th>\n      <th>Percent Financial Aid</th>\n      <th>Average Amount of Aid</th>\n      <th>Retention Rate</th>\n      <th>Enrollment</th>\n      <th>Percent Women</th>\n      <th>Percent In State</th>\n      <th>Percent Out of State</th>\n      <th>Percent Foreign</th>\n      <th>...</th>\n      <th>Graduation Rate</th>\n      <th>Percent Awarded</th>\n      <th>Total Staff</th>\n      <th>Instructional Staff</th>\n      <th>SA Staff</th>\n      <th>Librarian Staff</th>\n      <th>Percent Books</th>\n      <th>Percent Digital</th>\n      <th>Percent Admitted</th>\n      <th>Total Price</th>\n    </tr>\n  </thead>\n  <tbody>\n    <tr>\n      <th>0</th>\n      <td>0</td>\n      <td>208.0</td>\n      <td>100.0</td>\n      <td>32400.0</td>\n      <td>79.0</td>\n      <td>996</td>\n      <td>99.0</td>\n      <td>59.0</td>\n      <td>36.0</td>\n      <td>4.0</td>\n      <td>...</td>\n      <td>69.0</td>\n      <td>66.0</td>\n      <td>357.0</td>\n      <td>105.0</td>\n      <td>56.0</td>\n      <td>62.0</td>\n      <td>41</td>\n      <td>12</td>\n      <td>70.0</td>\n      <td>55625.0</td>\n    </tr>\n    <tr>\n      <th>1</th>\n      <td>1</td>\n      <td>310.0</td>\n      <td>100.0</td>\n      <td>40855.0</td>\n      <td>75.0</td>\n      <td>1533</td>\n      <td>54.0</td>\n      <td>66.0</td>\n      <td>32.0</td>\n      <td>1.0</td>\n      <td>...</td>\n      <td>64.0</td>\n      <td>61.0</td>\n      <td>435.0</td>\n      <td>132.0</td>\n      <td>21.0</td>\n      <td>27.0</td>\n      <td>37</td>\n      <td>54</td>\n      <td>68.0</td>\n      <td>59470.0</td>\n    </tr>\n    <tr>\n      <th>2</th>\n      <td>2</td>\n      <td>398.0</td>\n      <td>100.0</td>\n      <td>39796.0</td>\n      <td>68.0</td>\n      <td>1912</td>\n      <td>60.0</td>\n      <td>53.0</td>\n      <td>46.0</td>\n      <td>1.0</td>\n      <td>...</td>\n      <td>51.0</td>\n      <td>48.0</td>\n      <td>355.0</td>\n      <td>123.0</td>\n      <td>17.0</td>\n      <td>21.0</td>\n      <td>28</td>\n      <td>13</td>\n      <td>62.0</td>\n      <td>60636.0</td>\n    </tr>\n    <tr>\n      <th>3</th>\n      <td>3</td>\n      <td>382.0</td>\n      <td>100.0</td>\n      <td>38689.0</td>\n      <td>82.0</td>\n      <td>1771</td>\n      <td>56.0</td>\n      <td>50.0</td>\n      <td>45.0</td>\n      <td>4.0</td>\n      <td>...</td>\n      <td>74.0</td>\n      <td>70.0</td>\n      <td>426.0</td>\n      <td>160.0</td>\n      <td>41.0</td>\n      <td>50.0</td>\n      <td>27</td>\n      <td>46</td>\n      <td>64.0</td>\n      <td>63180.0</td>\n    </tr>\n    <tr>\n      <th>4</th>\n      <td>4</td>\n      <td>61.0</td>\n      <td>97.0</td>\n      <td>10055.0</td>\n      <td>37.0</td>\n      <td>698</td>\n      <td>45.0</td>\n      <td>64.0</td>\n      <td>34.0</td>\n      <td>0.0</td>\n      <td>...</td>\n      <td>31.0</td>\n      <td>10.0</td>\n      <td>115.0</td>\n      <td>41.0</td>\n      <td>4.0</td>\n      <td>7.0</td>\n      <td>20</td>\n      <td>76</td>\n      <td>64.0</td>\n      <td>23170.0</td>\n    </tr>\n    <tr>\n      <th>...</th>\n      <td>...</td>\n      <td>...</td>\n      <td>...</td>\n      <td>...</td>\n      <td>...</td>\n      <td>...</td>\n      <td>...</td>\n      <td>...</td>\n      <td>...</td>\n      <td>...</td>\n      <td>...</td>\n      <td>...</td>\n      <td>...</td>\n      <td>...</td>\n      <td>...</td>\n      <td>...</td>\n      <td>...</td>\n      <td>...</td>\n      <td>...</td>\n      <td>...</td>\n      <td>...</td>\n    </tr>\n    <tr>\n      <th>220</th>\n      <td>233</td>\n      <td>71.0</td>\n      <td>100.0</td>\n      <td>9682.0</td>\n      <td>52.0</td>\n      <td>479</td>\n      <td>43.0</td>\n      <td>67.0</td>\n      <td>28.0</td>\n      <td>6.0</td>\n      <td>...</td>\n      <td>38.0</td>\n      <td>30.0</td>\n      <td>117.0</td>\n      <td>33.0</td>\n      <td>8.0</td>\n      <td>11.0</td>\n      <td>39</td>\n      <td>61</td>\n      <td>56.0</td>\n      <td>29630.0</td>\n    </tr>\n    <tr>\n      <th>221</th>\n      <td>234</td>\n      <td>511.0</td>\n      <td>63.0</td>\n      <td>55897.0</td>\n      <td>99.0</td>\n      <td>2095</td>\n      <td>48.0</td>\n      <td>12.0</td>\n      <td>78.0</td>\n      <td>9.0</td>\n      <td>...</td>\n      <td>95.0</td>\n      <td>86.0</td>\n      <td>1133.0</td>\n      <td>342.0</td>\n      <td>44.0</td>\n      <td>83.0</td>\n      <td>28</td>\n      <td>56</td>\n      <td>13.0</td>\n      <td>73200.0</td>\n    </tr>\n    <tr>\n      <th>222</th>\n      <td>235</td>\n      <td>363.0</td>\n      <td>100.0</td>\n      <td>29504.0</td>\n      <td>70.0</td>\n      <td>1757</td>\n      <td>55.0</td>\n      <td>79.0</td>\n      <td>21.0</td>\n      <td>1.0</td>\n      <td>...</td>\n      <td>62.0</td>\n      <td>61.0</td>\n      <td>373.0</td>\n      <td>142.0</td>\n      <td>13.0</td>\n      <td>17.0</td>\n      <td>49</td>\n      <td>22</td>\n      <td>74.0</td>\n      <td>53056.0</td>\n    </tr>\n    <tr>\n      <th>223</th>\n      <td>236</td>\n      <td>379.0</td>\n      <td>98.0</td>\n      <td>31824.0</td>\n      <td>88.0</td>\n      <td>1666</td>\n      <td>53.0</td>\n      <td>55.0</td>\n      <td>42.0</td>\n      <td>3.0</td>\n      <td>...</td>\n      <td>81.0</td>\n      <td>77.0</td>\n      <td>440.0</td>\n      <td>152.0</td>\n      <td>23.0</td>\n      <td>34.0</td>\n      <td>14</td>\n      <td>60</td>\n      <td>64.0</td>\n      <td>60363.0</td>\n    </tr>\n    <tr>\n      <th>224</th>\n      <td>237</td>\n      <td>194.0</td>\n      <td>99.0</td>\n      <td>24513.0</td>\n      <td>76.0</td>\n      <td>1425</td>\n      <td>55.0</td>\n      <td>80.0</td>\n      <td>12.0</td>\n      <td>8.0</td>\n      <td>...</td>\n      <td>41.0</td>\n      <td>32.0</td>\n      <td>208.0</td>\n      <td>87.0</td>\n      <td>20.0</td>\n      <td>23.0</td>\n      <td>5</td>\n      <td>37</td>\n      <td>63.0</td>\n      <td>43389.0</td>\n    </tr>\n  </tbody>\n</table>\n<p>225 rows × 21 columns</p>\n</div>"
     },
     "execution_count": 29,
     "metadata": {},
     "output_type": "execute_result"
    }
   ],
   "source": [
    "df"
   ],
   "metadata": {
    "collapsed": false,
    "pycharm": {
     "name": "#%%\n"
    }
   }
  },
  {
   "cell_type": "markdown",
   "source": [
    "Splitting the data into x and y"
   ],
   "metadata": {
    "collapsed": false,
    "pycharm": {
     "name": "#%% md\n"
    }
   }
  },
  {
   "cell_type": "code",
   "execution_count": 30,
   "outputs": [],
   "source": [
    "x = df.iloc[:, :-1]\n",
    "y = df.iloc[:, -1]"
   ],
   "metadata": {
    "collapsed": false,
    "pycharm": {
     "name": "#%%\n"
    }
   }
  },
  {
   "cell_type": "code",
   "execution_count": 31,
   "outputs": [
    {
     "data": {
      "text/plain": "     Unnamed: 0  Number of Bachelor's Degrees  Percent Financial Aid  \\\n0             0                         208.0                  100.0   \n1             1                         310.0                  100.0   \n2             2                         398.0                  100.0   \n3             3                         382.0                  100.0   \n4             4                          61.0                   97.0   \n..          ...                           ...                    ...   \n220         233                          71.0                  100.0   \n221         234                         511.0                   63.0   \n222         235                         363.0                  100.0   \n223         236                         379.0                   98.0   \n224         237                         194.0                   99.0   \n\n     Average Amount of Aid  Retention Rate  Enrollment  Percent Women  \\\n0                  32400.0            79.0         996           99.0   \n1                  40855.0            75.0        1533           54.0   \n2                  39796.0            68.0        1912           60.0   \n3                  38689.0            82.0        1771           56.0   \n4                  10055.0            37.0         698           45.0   \n..                     ...             ...         ...            ...   \n220                 9682.0            52.0         479           43.0   \n221                55897.0            99.0        2095           48.0   \n222                29504.0            70.0        1757           55.0   \n223                31824.0            88.0        1666           53.0   \n224                24513.0            76.0        1425           55.0   \n\n     Percent In State  Percent Out of State  Percent Foreign  Percent Unknown  \\\n0                59.0                  36.0              4.0              0.0   \n1                66.0                  32.0              1.0              0.0   \n2                53.0                  46.0              1.0              0.0   \n3                50.0                  45.0              4.0              0.0   \n4                64.0                  34.0              0.0              2.0   \n..                ...                   ...              ...              ...   \n220              67.0                  28.0              6.0              0.0   \n221              12.0                  78.0              9.0              0.0   \n222              79.0                  21.0              1.0              0.0   \n223              55.0                  42.0              3.0              0.0   \n224              80.0                  12.0              8.0              0.0   \n\n     Graduation Rate  Percent Awarded  Total Staff  Instructional Staff  \\\n0               69.0             66.0        357.0                105.0   \n1               64.0             61.0        435.0                132.0   \n2               51.0             48.0        355.0                123.0   \n3               74.0             70.0        426.0                160.0   \n4               31.0             10.0        115.0                 41.0   \n..               ...              ...          ...                  ...   \n220             38.0             30.0        117.0                 33.0   \n221             95.0             86.0       1133.0                342.0   \n222             62.0             61.0        373.0                142.0   \n223             81.0             77.0        440.0                152.0   \n224             41.0             32.0        208.0                 87.0   \n\n     SA Staff  Librarian Staff  Percent Books  Percent Digital  \\\n0        56.0             62.0             41               12   \n1        21.0             27.0             37               54   \n2        17.0             21.0             28               13   \n3        41.0             50.0             27               46   \n4         4.0              7.0             20               76   \n..        ...              ...            ...              ...   \n220       8.0             11.0             39               61   \n221      44.0             83.0             28               56   \n222      13.0             17.0             49               22   \n223      23.0             34.0             14               60   \n224      20.0             23.0              5               37   \n\n     Percent Admitted  \n0                70.0  \n1                68.0  \n2                62.0  \n3                64.0  \n4                64.0  \n..                ...  \n220              56.0  \n221              13.0  \n222              74.0  \n223              64.0  \n224              63.0  \n\n[225 rows x 20 columns]",
      "text/html": "<div>\n<style scoped>\n    .dataframe tbody tr th:only-of-type {\n        vertical-align: middle;\n    }\n\n    .dataframe tbody tr th {\n        vertical-align: top;\n    }\n\n    .dataframe thead th {\n        text-align: right;\n    }\n</style>\n<table border=\"1\" class=\"dataframe\">\n  <thead>\n    <tr style=\"text-align: right;\">\n      <th></th>\n      <th>Unnamed: 0</th>\n      <th>Number of Bachelor's Degrees</th>\n      <th>Percent Financial Aid</th>\n      <th>Average Amount of Aid</th>\n      <th>Retention Rate</th>\n      <th>Enrollment</th>\n      <th>Percent Women</th>\n      <th>Percent In State</th>\n      <th>Percent Out of State</th>\n      <th>Percent Foreign</th>\n      <th>Percent Unknown</th>\n      <th>Graduation Rate</th>\n      <th>Percent Awarded</th>\n      <th>Total Staff</th>\n      <th>Instructional Staff</th>\n      <th>SA Staff</th>\n      <th>Librarian Staff</th>\n      <th>Percent Books</th>\n      <th>Percent Digital</th>\n      <th>Percent Admitted</th>\n    </tr>\n  </thead>\n  <tbody>\n    <tr>\n      <th>0</th>\n      <td>0</td>\n      <td>208.0</td>\n      <td>100.0</td>\n      <td>32400.0</td>\n      <td>79.0</td>\n      <td>996</td>\n      <td>99.0</td>\n      <td>59.0</td>\n      <td>36.0</td>\n      <td>4.0</td>\n      <td>0.0</td>\n      <td>69.0</td>\n      <td>66.0</td>\n      <td>357.0</td>\n      <td>105.0</td>\n      <td>56.0</td>\n      <td>62.0</td>\n      <td>41</td>\n      <td>12</td>\n      <td>70.0</td>\n    </tr>\n    <tr>\n      <th>1</th>\n      <td>1</td>\n      <td>310.0</td>\n      <td>100.0</td>\n      <td>40855.0</td>\n      <td>75.0</td>\n      <td>1533</td>\n      <td>54.0</td>\n      <td>66.0</td>\n      <td>32.0</td>\n      <td>1.0</td>\n      <td>0.0</td>\n      <td>64.0</td>\n      <td>61.0</td>\n      <td>435.0</td>\n      <td>132.0</td>\n      <td>21.0</td>\n      <td>27.0</td>\n      <td>37</td>\n      <td>54</td>\n      <td>68.0</td>\n    </tr>\n    <tr>\n      <th>2</th>\n      <td>2</td>\n      <td>398.0</td>\n      <td>100.0</td>\n      <td>39796.0</td>\n      <td>68.0</td>\n      <td>1912</td>\n      <td>60.0</td>\n      <td>53.0</td>\n      <td>46.0</td>\n      <td>1.0</td>\n      <td>0.0</td>\n      <td>51.0</td>\n      <td>48.0</td>\n      <td>355.0</td>\n      <td>123.0</td>\n      <td>17.0</td>\n      <td>21.0</td>\n      <td>28</td>\n      <td>13</td>\n      <td>62.0</td>\n    </tr>\n    <tr>\n      <th>3</th>\n      <td>3</td>\n      <td>382.0</td>\n      <td>100.0</td>\n      <td>38689.0</td>\n      <td>82.0</td>\n      <td>1771</td>\n      <td>56.0</td>\n      <td>50.0</td>\n      <td>45.0</td>\n      <td>4.0</td>\n      <td>0.0</td>\n      <td>74.0</td>\n      <td>70.0</td>\n      <td>426.0</td>\n      <td>160.0</td>\n      <td>41.0</td>\n      <td>50.0</td>\n      <td>27</td>\n      <td>46</td>\n      <td>64.0</td>\n    </tr>\n    <tr>\n      <th>4</th>\n      <td>4</td>\n      <td>61.0</td>\n      <td>97.0</td>\n      <td>10055.0</td>\n      <td>37.0</td>\n      <td>698</td>\n      <td>45.0</td>\n      <td>64.0</td>\n      <td>34.0</td>\n      <td>0.0</td>\n      <td>2.0</td>\n      <td>31.0</td>\n      <td>10.0</td>\n      <td>115.0</td>\n      <td>41.0</td>\n      <td>4.0</td>\n      <td>7.0</td>\n      <td>20</td>\n      <td>76</td>\n      <td>64.0</td>\n    </tr>\n    <tr>\n      <th>...</th>\n      <td>...</td>\n      <td>...</td>\n      <td>...</td>\n      <td>...</td>\n      <td>...</td>\n      <td>...</td>\n      <td>...</td>\n      <td>...</td>\n      <td>...</td>\n      <td>...</td>\n      <td>...</td>\n      <td>...</td>\n      <td>...</td>\n      <td>...</td>\n      <td>...</td>\n      <td>...</td>\n      <td>...</td>\n      <td>...</td>\n      <td>...</td>\n      <td>...</td>\n    </tr>\n    <tr>\n      <th>220</th>\n      <td>233</td>\n      <td>71.0</td>\n      <td>100.0</td>\n      <td>9682.0</td>\n      <td>52.0</td>\n      <td>479</td>\n      <td>43.0</td>\n      <td>67.0</td>\n      <td>28.0</td>\n      <td>6.0</td>\n      <td>0.0</td>\n      <td>38.0</td>\n      <td>30.0</td>\n      <td>117.0</td>\n      <td>33.0</td>\n      <td>8.0</td>\n      <td>11.0</td>\n      <td>39</td>\n      <td>61</td>\n      <td>56.0</td>\n    </tr>\n    <tr>\n      <th>221</th>\n      <td>234</td>\n      <td>511.0</td>\n      <td>63.0</td>\n      <td>55897.0</td>\n      <td>99.0</td>\n      <td>2095</td>\n      <td>48.0</td>\n      <td>12.0</td>\n      <td>78.0</td>\n      <td>9.0</td>\n      <td>0.0</td>\n      <td>95.0</td>\n      <td>86.0</td>\n      <td>1133.0</td>\n      <td>342.0</td>\n      <td>44.0</td>\n      <td>83.0</td>\n      <td>28</td>\n      <td>56</td>\n      <td>13.0</td>\n    </tr>\n    <tr>\n      <th>222</th>\n      <td>235</td>\n      <td>363.0</td>\n      <td>100.0</td>\n      <td>29504.0</td>\n      <td>70.0</td>\n      <td>1757</td>\n      <td>55.0</td>\n      <td>79.0</td>\n      <td>21.0</td>\n      <td>1.0</td>\n      <td>0.0</td>\n      <td>62.0</td>\n      <td>61.0</td>\n      <td>373.0</td>\n      <td>142.0</td>\n      <td>13.0</td>\n      <td>17.0</td>\n      <td>49</td>\n      <td>22</td>\n      <td>74.0</td>\n    </tr>\n    <tr>\n      <th>223</th>\n      <td>236</td>\n      <td>379.0</td>\n      <td>98.0</td>\n      <td>31824.0</td>\n      <td>88.0</td>\n      <td>1666</td>\n      <td>53.0</td>\n      <td>55.0</td>\n      <td>42.0</td>\n      <td>3.0</td>\n      <td>0.0</td>\n      <td>81.0</td>\n      <td>77.0</td>\n      <td>440.0</td>\n      <td>152.0</td>\n      <td>23.0</td>\n      <td>34.0</td>\n      <td>14</td>\n      <td>60</td>\n      <td>64.0</td>\n    </tr>\n    <tr>\n      <th>224</th>\n      <td>237</td>\n      <td>194.0</td>\n      <td>99.0</td>\n      <td>24513.0</td>\n      <td>76.0</td>\n      <td>1425</td>\n      <td>55.0</td>\n      <td>80.0</td>\n      <td>12.0</td>\n      <td>8.0</td>\n      <td>0.0</td>\n      <td>41.0</td>\n      <td>32.0</td>\n      <td>208.0</td>\n      <td>87.0</td>\n      <td>20.0</td>\n      <td>23.0</td>\n      <td>5</td>\n      <td>37</td>\n      <td>63.0</td>\n    </tr>\n  </tbody>\n</table>\n<p>225 rows × 20 columns</p>\n</div>"
     },
     "execution_count": 31,
     "metadata": {},
     "output_type": "execute_result"
    }
   ],
   "source": [
    "x"
   ],
   "metadata": {
    "collapsed": false,
    "pycharm": {
     "name": "#%%\n"
    }
   }
  },
  {
   "cell_type": "code",
   "execution_count": 32,
   "outputs": [
    {
     "data": {
      "text/plain": "0      55625.0\n1      59470.0\n2      60636.0\n3      63180.0\n4      23170.0\n        ...   \n220    29630.0\n221    73200.0\n222    53056.0\n223    60363.0\n224    43389.0\nName: Total Price, Length: 225, dtype: float64"
     },
     "execution_count": 32,
     "metadata": {},
     "output_type": "execute_result"
    }
   ],
   "source": [
    "y"
   ],
   "metadata": {
    "collapsed": false,
    "pycharm": {
     "name": "#%%\n"
    }
   }
  },
  {
   "cell_type": "markdown",
   "source": [
    "Train test split 70-30"
   ],
   "metadata": {
    "collapsed": false,
    "pycharm": {
     "name": "#%% md\n"
    }
   }
  },
  {
   "cell_type": "code",
   "execution_count": 33,
   "outputs": [],
   "source": [
    "x_train, x_test, y_train, y_test = train_test_split(x, y, random_state=1, shuffle=True)"
   ],
   "metadata": {
    "collapsed": false,
    "pycharm": {
     "name": "#%%\n"
    }
   }
  },
  {
   "cell_type": "markdown",
   "source": [
    "Creating the linear regression pipeline"
   ],
   "metadata": {
    "collapsed": false,
    "pycharm": {
     "name": "#%% md\n"
    }
   }
  },
  {
   "cell_type": "code",
   "execution_count": 34,
   "outputs": [],
   "source": [
    "pl = make_pipeline(StandardScaler(), MinMaxScaler(), LinearRegression(normalize=True), verbose=True)"
   ],
   "metadata": {
    "collapsed": false,
    "pycharm": {
     "name": "#%%\n"
    }
   }
  },
  {
   "cell_type": "markdown",
   "source": [
    "Fitting the pipeline to the training data"
   ],
   "metadata": {
    "collapsed": false,
    "pycharm": {
     "name": "#%% md\n"
    }
   }
  },
  {
   "cell_type": "code",
   "execution_count": 35,
   "outputs": [
    {
     "name": "stdout",
     "output_type": "stream",
     "text": [
      "[Pipeline] .... (step 1 of 3) Processing standardscaler, total=   0.0s\n",
      "[Pipeline] ...... (step 2 of 3) Processing minmaxscaler, total=   0.0s\n",
      "[Pipeline] .. (step 3 of 3) Processing linearregression, total=   0.0s\n"
     ]
    },
    {
     "data": {
      "text/plain": "Pipeline(steps=[('standardscaler', StandardScaler()),\n                ('minmaxscaler', MinMaxScaler()),\n                ('linearregression', LinearRegression(normalize=True))],\n         verbose=True)"
     },
     "execution_count": 35,
     "metadata": {},
     "output_type": "execute_result"
    }
   ],
   "source": [
    "pl.fit(x_train, y_train)"
   ],
   "metadata": {
    "collapsed": false,
    "pycharm": {
     "name": "#%%\n"
    }
   }
  },
  {
   "cell_type": "markdown",
   "source": [
    "Scoring the pipeline, which will show the R^2 value from the Linear Regression model"
   ],
   "metadata": {
    "collapsed": false,
    "pycharm": {
     "name": "#%% md\n"
    }
   }
  },
  {
   "cell_type": "code",
   "execution_count": 36,
   "outputs": [
    {
     "name": "stdout",
     "output_type": "stream",
     "text": [
      "Model Score (whole dataset): 0.8559371841057071\n"
     ]
    }
   ],
   "source": [
    "print(\"Model Score (whole dataset):\", pl.score(x_test, y_test))"
   ],
   "metadata": {
    "collapsed": false,
    "pycharm": {
     "name": "#%%\n"
    }
   }
  },
  {
   "cell_type": "markdown",
   "source": [
    "We can see above that using the whole dataset for a simple linear regression using L2 regularization, we can\n",
    "achieve an an R^2 of 85.5%. However, I want to use only the most 1 or 2 linearly correlated features we can see from\n",
    "the correlation heatmap in the figs directory. These features are [\"Average Amount of Aid\", \"Graduation Rate\"]\n"
   ],
   "metadata": {
    "collapsed": false,
    "pycharm": {
     "name": "#%% md\n"
    }
   }
  },
  {
   "cell_type": "markdown",
   "source": [
    "Redefining x and y from a fresh copy of the continuous dataset"
   ],
   "metadata": {
    "collapsed": false,
    "pycharm": {
     "name": "#%% md\n"
    }
   }
  },
  {
   "cell_type": "code",
   "execution_count": 37,
   "outputs": [],
   "source": [
    "df = pd.read_csv(\"./cleaned_data.csv\")\n",
    "x = df[[\"Average Amount of Aid\", \"Graduation Rate\"]]\n",
    "y = df.iloc[:, -1]"
   ],
   "metadata": {
    "collapsed": false,
    "pycharm": {
     "name": "#%%\n"
    }
   }
  },
  {
   "cell_type": "code",
   "execution_count": 38,
   "outputs": [
    {
     "data": {
      "text/plain": "     Average Amount of Aid  Graduation Rate\n0                  32400.0             69.0\n1                  40855.0             64.0\n2                  39796.0             51.0\n3                  38689.0             74.0\n4                  10055.0             31.0\n..                     ...              ...\n220                 9682.0             38.0\n221                55897.0             95.0\n222                29504.0             62.0\n223                31824.0             81.0\n224                24513.0             41.0\n\n[225 rows x 2 columns]",
      "text/html": "<div>\n<style scoped>\n    .dataframe tbody tr th:only-of-type {\n        vertical-align: middle;\n    }\n\n    .dataframe tbody tr th {\n        vertical-align: top;\n    }\n\n    .dataframe thead th {\n        text-align: right;\n    }\n</style>\n<table border=\"1\" class=\"dataframe\">\n  <thead>\n    <tr style=\"text-align: right;\">\n      <th></th>\n      <th>Average Amount of Aid</th>\n      <th>Graduation Rate</th>\n    </tr>\n  </thead>\n  <tbody>\n    <tr>\n      <th>0</th>\n      <td>32400.0</td>\n      <td>69.0</td>\n    </tr>\n    <tr>\n      <th>1</th>\n      <td>40855.0</td>\n      <td>64.0</td>\n    </tr>\n    <tr>\n      <th>2</th>\n      <td>39796.0</td>\n      <td>51.0</td>\n    </tr>\n    <tr>\n      <th>3</th>\n      <td>38689.0</td>\n      <td>74.0</td>\n    </tr>\n    <tr>\n      <th>4</th>\n      <td>10055.0</td>\n      <td>31.0</td>\n    </tr>\n    <tr>\n      <th>...</th>\n      <td>...</td>\n      <td>...</td>\n    </tr>\n    <tr>\n      <th>220</th>\n      <td>9682.0</td>\n      <td>38.0</td>\n    </tr>\n    <tr>\n      <th>221</th>\n      <td>55897.0</td>\n      <td>95.0</td>\n    </tr>\n    <tr>\n      <th>222</th>\n      <td>29504.0</td>\n      <td>62.0</td>\n    </tr>\n    <tr>\n      <th>223</th>\n      <td>31824.0</td>\n      <td>81.0</td>\n    </tr>\n    <tr>\n      <th>224</th>\n      <td>24513.0</td>\n      <td>41.0</td>\n    </tr>\n  </tbody>\n</table>\n<p>225 rows × 2 columns</p>\n</div>"
     },
     "execution_count": 38,
     "metadata": {},
     "output_type": "execute_result"
    }
   ],
   "source": [
    "x"
   ],
   "metadata": {
    "collapsed": false,
    "pycharm": {
     "name": "#%%\n"
    }
   }
  },
  {
   "cell_type": "code",
   "execution_count": 39,
   "outputs": [
    {
     "data": {
      "text/plain": "0      55625.0\n1      59470.0\n2      60636.0\n3      63180.0\n4      23170.0\n        ...   \n220    29630.0\n221    73200.0\n222    53056.0\n223    60363.0\n224    43389.0\nName: Total Price, Length: 225, dtype: float64"
     },
     "execution_count": 39,
     "metadata": {},
     "output_type": "execute_result"
    }
   ],
   "source": [
    "y"
   ],
   "metadata": {
    "collapsed": false,
    "pycharm": {
     "name": "#%%\n"
    }
   }
  },
  {
   "cell_type": "markdown",
   "source": [
    "Same exact process as before, with the same pipeline"
   ],
   "metadata": {
    "collapsed": false,
    "pycharm": {
     "name": "#%% md\n"
    }
   }
  },
  {
   "cell_type": "code",
   "execution_count": 40,
   "outputs": [],
   "source": [
    "x_train, x_test, y_train, y_test = train_test_split(x, y, random_state=1, shuffle=True)"
   ],
   "metadata": {
    "collapsed": false,
    "pycharm": {
     "name": "#%%\n"
    }
   }
  },
  {
   "cell_type": "code",
   "execution_count": 41,
   "outputs": [],
   "source": [
    "pl = make_pipeline(StandardScaler(), MinMaxScaler(), LinearRegression(normalize=True), verbose=True)"
   ],
   "metadata": {
    "collapsed": false,
    "pycharm": {
     "name": "#%%\n"
    }
   }
  },
  {
   "cell_type": "markdown",
   "source": [
    "Fitting the pipeline to the training data"
   ],
   "metadata": {
    "collapsed": false
   }
  },
  {
   "cell_type": "code",
   "execution_count": 42,
   "outputs": [
    {
     "name": "stdout",
     "output_type": "stream",
     "text": [
      "[Pipeline] .... (step 1 of 3) Processing standardscaler, total=   0.0s\n",
      "[Pipeline] ...... (step 2 of 3) Processing minmaxscaler, total=   0.0s\n",
      "[Pipeline] .. (step 3 of 3) Processing linearregression, total=   0.0s\n"
     ]
    },
    {
     "data": {
      "text/plain": "Pipeline(steps=[('standardscaler', StandardScaler()),\n                ('minmaxscaler', MinMaxScaler()),\n                ('linearregression', LinearRegression(normalize=True))],\n         verbose=True)"
     },
     "execution_count": 42,
     "metadata": {},
     "output_type": "execute_result"
    }
   ],
   "source": [
    "pl.fit(x_train, y_train)"
   ],
   "metadata": {
    "collapsed": false,
    "pycharm": {
     "name": "#%%\n"
    }
   }
  },
  {
   "cell_type": "markdown",
   "source": [
    "Scoring the pipeline, which will show the R^2 value from the Linear Regression model"
   ],
   "metadata": {
    "collapsed": false
   }
  },
  {
   "cell_type": "code",
   "execution_count": 43,
   "outputs": [
    {
     "name": "stdout",
     "output_type": "stream",
     "text": [
      "Model Score (partial dataset): 0.8321733454080151\n"
     ]
    }
   ],
   "source": [
    "print(\"Model Score (partial dataset):\", pl.score(x_test, y_test))"
   ],
   "metadata": {
    "collapsed": false,
    "pycharm": {
     "name": "#%%\n"
    }
   }
  },
  {
   "cell_type": "markdown",
   "source": [
    "As we can see, we get almost the exact same accuracy, although slightly lower. However, this accuracy is much better than\n",
    "the accuracy on any of our other models. "
   ],
   "metadata": {
    "collapsed": false,
    "pycharm": {
     "name": "#%% md\n"
    }
   }
  }
 ],
 "metadata": {
  "kernelspec": {
   "display_name": "Python 3",
   "language": "python",
   "name": "python3"
  },
  "language_info": {
   "codemirror_mode": {
    "name": "ipython",
    "version": 2
   },
   "file_extension": ".py",
   "mimetype": "text/x-python",
   "name": "python",
   "nbconvert_exporter": "python",
   "pygments_lexer": "ipython2",
   "version": "2.7.6"
  }
 },
 "nbformat": 4,
 "nbformat_minor": 0
}