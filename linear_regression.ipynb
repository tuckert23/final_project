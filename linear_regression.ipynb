{
 "cells": [
  {
   "cell_type": "markdown",
   "metadata": {},
   "source": [
    "# Final Project\n",
    "## Authors:\n",
    "- Taylor Tucker\n",
    "- Virginia Weston\n",
    "- Tina Jin\n",
    "- Jeffrey Bradley\n",
    "\n",
    "## Code for linear regression modeling"
   ]
  },
  {
   "cell_type": "markdown",
   "metadata": {},
   "source": [
    "Import Statements"
   ]
  },
  {
   "cell_type": "code",
   "execution_count": 2,
   "metadata": {
    "pycharm": {
     "name": "#%%\n"
    }
   },
   "outputs": [],
   "source": [
    "import pandas as pd\n",
    "from sklearn.linear_model import LinearRegression, SGDRegressor, SGDClassifier, ElasticNetCV, LassoCV, RidgeCV\n",
    "from sklearn.model_selection import train_test_split\n",
    "from sklearn.pipeline import make_pipeline, Pipeline\n",
    "from sklearn.preprocessing import StandardScaler, MinMaxScaler, MaxAbsScaler"
   ]
  },
  {
   "cell_type": "markdown",
   "metadata": {},
   "source": [
    "Importing the continuous dataset"
   ]
  },
  {
   "cell_type": "code",
   "execution_count": 3,
   "metadata": {
    "pycharm": {
     "name": "#%%\n"
    }
   },
   "outputs": [],
   "source": [
    "df = pd.read_csv(\"./cleaned_data.csv\", index_col=0)"
   ]
  },
  {
   "cell_type": "code",
   "execution_count": 4,
   "metadata": {
    "pycharm": {
     "name": "#%%\n"
    }
   },
   "outputs": [
    {
     "data": {
      "text/html": [
       "<div>\n",
       "<style scoped>\n",
       "    .dataframe tbody tr th:only-of-type {\n",
       "        vertical-align: middle;\n",
       "    }\n",
       "\n",
       "    .dataframe tbody tr th {\n",
       "        vertical-align: top;\n",
       "    }\n",
       "\n",
       "    .dataframe thead th {\n",
       "        text-align: right;\n",
       "    }\n",
       "</style>\n",
       "<table border=\"1\" class=\"dataframe\">\n",
       "  <thead>\n",
       "    <tr style=\"text-align: right;\">\n",
       "      <th></th>\n",
       "      <th>Number of Bachelor's Degrees</th>\n",
       "      <th>Percent Financial Aid</th>\n",
       "      <th>Average Amount of Aid</th>\n",
       "      <th>Retention Rate</th>\n",
       "      <th>Enrollment</th>\n",
       "      <th>Percent Women</th>\n",
       "      <th>Percent In State</th>\n",
       "      <th>Percent Out of State</th>\n",
       "      <th>Percent Foreign</th>\n",
       "      <th>Percent Unknown</th>\n",
       "      <th>Graduation Rate</th>\n",
       "      <th>Percent Awarded</th>\n",
       "      <th>Total Staff</th>\n",
       "      <th>Instructional Staff</th>\n",
       "      <th>SA Staff</th>\n",
       "      <th>Librarian Staff</th>\n",
       "      <th>Percent Books</th>\n",
       "      <th>Percent Digital</th>\n",
       "      <th>Percent Admitted</th>\n",
       "      <th>Total Price</th>\n",
       "    </tr>\n",
       "  </thead>\n",
       "  <tbody>\n",
       "    <tr>\n",
       "      <th>0</th>\n",
       "      <td>208.0</td>\n",
       "      <td>100.0</td>\n",
       "      <td>32400.0</td>\n",
       "      <td>79.0</td>\n",
       "      <td>996</td>\n",
       "      <td>99.0</td>\n",
       "      <td>59.0</td>\n",
       "      <td>36.0</td>\n",
       "      <td>4.0</td>\n",
       "      <td>0.0</td>\n",
       "      <td>69.0</td>\n",
       "      <td>66.0</td>\n",
       "      <td>357.0</td>\n",
       "      <td>105.0</td>\n",
       "      <td>56.0</td>\n",
       "      <td>62.0</td>\n",
       "      <td>41</td>\n",
       "      <td>12</td>\n",
       "      <td>70.0</td>\n",
       "      <td>55625.0</td>\n",
       "    </tr>\n",
       "    <tr>\n",
       "      <th>1</th>\n",
       "      <td>310.0</td>\n",
       "      <td>100.0</td>\n",
       "      <td>40855.0</td>\n",
       "      <td>75.0</td>\n",
       "      <td>1533</td>\n",
       "      <td>54.0</td>\n",
       "      <td>66.0</td>\n",
       "      <td>32.0</td>\n",
       "      <td>1.0</td>\n",
       "      <td>0.0</td>\n",
       "      <td>64.0</td>\n",
       "      <td>61.0</td>\n",
       "      <td>435.0</td>\n",
       "      <td>132.0</td>\n",
       "      <td>21.0</td>\n",
       "      <td>27.0</td>\n",
       "      <td>37</td>\n",
       "      <td>54</td>\n",
       "      <td>68.0</td>\n",
       "      <td>59470.0</td>\n",
       "    </tr>\n",
       "    <tr>\n",
       "      <th>2</th>\n",
       "      <td>398.0</td>\n",
       "      <td>100.0</td>\n",
       "      <td>39796.0</td>\n",
       "      <td>68.0</td>\n",
       "      <td>1912</td>\n",
       "      <td>60.0</td>\n",
       "      <td>53.0</td>\n",
       "      <td>46.0</td>\n",
       "      <td>1.0</td>\n",
       "      <td>0.0</td>\n",
       "      <td>51.0</td>\n",
       "      <td>48.0</td>\n",
       "      <td>355.0</td>\n",
       "      <td>123.0</td>\n",
       "      <td>17.0</td>\n",
       "      <td>21.0</td>\n",
       "      <td>28</td>\n",
       "      <td>13</td>\n",
       "      <td>62.0</td>\n",
       "      <td>60636.0</td>\n",
       "    </tr>\n",
       "    <tr>\n",
       "      <th>3</th>\n",
       "      <td>382.0</td>\n",
       "      <td>100.0</td>\n",
       "      <td>38689.0</td>\n",
       "      <td>82.0</td>\n",
       "      <td>1771</td>\n",
       "      <td>56.0</td>\n",
       "      <td>50.0</td>\n",
       "      <td>45.0</td>\n",
       "      <td>4.0</td>\n",
       "      <td>0.0</td>\n",
       "      <td>74.0</td>\n",
       "      <td>70.0</td>\n",
       "      <td>426.0</td>\n",
       "      <td>160.0</td>\n",
       "      <td>41.0</td>\n",
       "      <td>50.0</td>\n",
       "      <td>27</td>\n",
       "      <td>46</td>\n",
       "      <td>64.0</td>\n",
       "      <td>63180.0</td>\n",
       "    </tr>\n",
       "    <tr>\n",
       "      <th>4</th>\n",
       "      <td>61.0</td>\n",
       "      <td>97.0</td>\n",
       "      <td>10055.0</td>\n",
       "      <td>37.0</td>\n",
       "      <td>698</td>\n",
       "      <td>45.0</td>\n",
       "      <td>64.0</td>\n",
       "      <td>34.0</td>\n",
       "      <td>0.0</td>\n",
       "      <td>2.0</td>\n",
       "      <td>31.0</td>\n",
       "      <td>10.0</td>\n",
       "      <td>115.0</td>\n",
       "      <td>41.0</td>\n",
       "      <td>4.0</td>\n",
       "      <td>7.0</td>\n",
       "      <td>20</td>\n",
       "      <td>76</td>\n",
       "      <td>64.0</td>\n",
       "      <td>23170.0</td>\n",
       "    </tr>\n",
       "    <tr>\n",
       "      <th>...</th>\n",
       "      <td>...</td>\n",
       "      <td>...</td>\n",
       "      <td>...</td>\n",
       "      <td>...</td>\n",
       "      <td>...</td>\n",
       "      <td>...</td>\n",
       "      <td>...</td>\n",
       "      <td>...</td>\n",
       "      <td>...</td>\n",
       "      <td>...</td>\n",
       "      <td>...</td>\n",
       "      <td>...</td>\n",
       "      <td>...</td>\n",
       "      <td>...</td>\n",
       "      <td>...</td>\n",
       "      <td>...</td>\n",
       "      <td>...</td>\n",
       "      <td>...</td>\n",
       "      <td>...</td>\n",
       "      <td>...</td>\n",
       "    </tr>\n",
       "    <tr>\n",
       "      <th>233</th>\n",
       "      <td>71.0</td>\n",
       "      <td>100.0</td>\n",
       "      <td>9682.0</td>\n",
       "      <td>52.0</td>\n",
       "      <td>479</td>\n",
       "      <td>43.0</td>\n",
       "      <td>67.0</td>\n",
       "      <td>28.0</td>\n",
       "      <td>6.0</td>\n",
       "      <td>0.0</td>\n",
       "      <td>38.0</td>\n",
       "      <td>30.0</td>\n",
       "      <td>117.0</td>\n",
       "      <td>33.0</td>\n",
       "      <td>8.0</td>\n",
       "      <td>11.0</td>\n",
       "      <td>39</td>\n",
       "      <td>61</td>\n",
       "      <td>56.0</td>\n",
       "      <td>29630.0</td>\n",
       "    </tr>\n",
       "    <tr>\n",
       "      <th>234</th>\n",
       "      <td>511.0</td>\n",
       "      <td>63.0</td>\n",
       "      <td>55897.0</td>\n",
       "      <td>99.0</td>\n",
       "      <td>2095</td>\n",
       "      <td>48.0</td>\n",
       "      <td>12.0</td>\n",
       "      <td>78.0</td>\n",
       "      <td>9.0</td>\n",
       "      <td>0.0</td>\n",
       "      <td>95.0</td>\n",
       "      <td>86.0</td>\n",
       "      <td>1133.0</td>\n",
       "      <td>342.0</td>\n",
       "      <td>44.0</td>\n",
       "      <td>83.0</td>\n",
       "      <td>28</td>\n",
       "      <td>56</td>\n",
       "      <td>13.0</td>\n",
       "      <td>73200.0</td>\n",
       "    </tr>\n",
       "    <tr>\n",
       "      <th>235</th>\n",
       "      <td>363.0</td>\n",
       "      <td>100.0</td>\n",
       "      <td>29504.0</td>\n",
       "      <td>70.0</td>\n",
       "      <td>1757</td>\n",
       "      <td>55.0</td>\n",
       "      <td>79.0</td>\n",
       "      <td>21.0</td>\n",
       "      <td>1.0</td>\n",
       "      <td>0.0</td>\n",
       "      <td>62.0</td>\n",
       "      <td>61.0</td>\n",
       "      <td>373.0</td>\n",
       "      <td>142.0</td>\n",
       "      <td>13.0</td>\n",
       "      <td>17.0</td>\n",
       "      <td>49</td>\n",
       "      <td>22</td>\n",
       "      <td>74.0</td>\n",
       "      <td>53056.0</td>\n",
       "    </tr>\n",
       "    <tr>\n",
       "      <th>236</th>\n",
       "      <td>379.0</td>\n",
       "      <td>98.0</td>\n",
       "      <td>31824.0</td>\n",
       "      <td>88.0</td>\n",
       "      <td>1666</td>\n",
       "      <td>53.0</td>\n",
       "      <td>55.0</td>\n",
       "      <td>42.0</td>\n",
       "      <td>3.0</td>\n",
       "      <td>0.0</td>\n",
       "      <td>81.0</td>\n",
       "      <td>77.0</td>\n",
       "      <td>440.0</td>\n",
       "      <td>152.0</td>\n",
       "      <td>23.0</td>\n",
       "      <td>34.0</td>\n",
       "      <td>14</td>\n",
       "      <td>60</td>\n",
       "      <td>64.0</td>\n",
       "      <td>60363.0</td>\n",
       "    </tr>\n",
       "    <tr>\n",
       "      <th>237</th>\n",
       "      <td>194.0</td>\n",
       "      <td>99.0</td>\n",
       "      <td>24513.0</td>\n",
       "      <td>76.0</td>\n",
       "      <td>1425</td>\n",
       "      <td>55.0</td>\n",
       "      <td>80.0</td>\n",
       "      <td>12.0</td>\n",
       "      <td>8.0</td>\n",
       "      <td>0.0</td>\n",
       "      <td>41.0</td>\n",
       "      <td>32.0</td>\n",
       "      <td>208.0</td>\n",
       "      <td>87.0</td>\n",
       "      <td>20.0</td>\n",
       "      <td>23.0</td>\n",
       "      <td>5</td>\n",
       "      <td>37</td>\n",
       "      <td>63.0</td>\n",
       "      <td>43389.0</td>\n",
       "    </tr>\n",
       "  </tbody>\n",
       "</table>\n",
       "<p>225 rows × 20 columns</p>\n",
       "</div>"
      ],
      "text/plain": [
       "     Number of Bachelor's Degrees  Percent Financial Aid  \\\n",
       "0                           208.0                  100.0   \n",
       "1                           310.0                  100.0   \n",
       "2                           398.0                  100.0   \n",
       "3                           382.0                  100.0   \n",
       "4                            61.0                   97.0   \n",
       "..                            ...                    ...   \n",
       "233                          71.0                  100.0   \n",
       "234                         511.0                   63.0   \n",
       "235                         363.0                  100.0   \n",
       "236                         379.0                   98.0   \n",
       "237                         194.0                   99.0   \n",
       "\n",
       "     Average Amount of Aid  Retention Rate  Enrollment  Percent Women  \\\n",
       "0                  32400.0            79.0         996           99.0   \n",
       "1                  40855.0            75.0        1533           54.0   \n",
       "2                  39796.0            68.0        1912           60.0   \n",
       "3                  38689.0            82.0        1771           56.0   \n",
       "4                  10055.0            37.0         698           45.0   \n",
       "..                     ...             ...         ...            ...   \n",
       "233                 9682.0            52.0         479           43.0   \n",
       "234                55897.0            99.0        2095           48.0   \n",
       "235                29504.0            70.0        1757           55.0   \n",
       "236                31824.0            88.0        1666           53.0   \n",
       "237                24513.0            76.0        1425           55.0   \n",
       "\n",
       "     Percent In State  Percent Out of State  Percent Foreign  Percent Unknown  \\\n",
       "0                59.0                  36.0              4.0              0.0   \n",
       "1                66.0                  32.0              1.0              0.0   \n",
       "2                53.0                  46.0              1.0              0.0   \n",
       "3                50.0                  45.0              4.0              0.0   \n",
       "4                64.0                  34.0              0.0              2.0   \n",
       "..                ...                   ...              ...              ...   \n",
       "233              67.0                  28.0              6.0              0.0   \n",
       "234              12.0                  78.0              9.0              0.0   \n",
       "235              79.0                  21.0              1.0              0.0   \n",
       "236              55.0                  42.0              3.0              0.0   \n",
       "237              80.0                  12.0              8.0              0.0   \n",
       "\n",
       "     Graduation Rate  Percent Awarded  Total Staff  Instructional Staff  \\\n",
       "0               69.0             66.0        357.0                105.0   \n",
       "1               64.0             61.0        435.0                132.0   \n",
       "2               51.0             48.0        355.0                123.0   \n",
       "3               74.0             70.0        426.0                160.0   \n",
       "4               31.0             10.0        115.0                 41.0   \n",
       "..               ...              ...          ...                  ...   \n",
       "233             38.0             30.0        117.0                 33.0   \n",
       "234             95.0             86.0       1133.0                342.0   \n",
       "235             62.0             61.0        373.0                142.0   \n",
       "236             81.0             77.0        440.0                152.0   \n",
       "237             41.0             32.0        208.0                 87.0   \n",
       "\n",
       "     SA Staff  Librarian Staff  Percent Books  Percent Digital  \\\n",
       "0        56.0             62.0             41               12   \n",
       "1        21.0             27.0             37               54   \n",
       "2        17.0             21.0             28               13   \n",
       "3        41.0             50.0             27               46   \n",
       "4         4.0              7.0             20               76   \n",
       "..        ...              ...            ...              ...   \n",
       "233       8.0             11.0             39               61   \n",
       "234      44.0             83.0             28               56   \n",
       "235      13.0             17.0             49               22   \n",
       "236      23.0             34.0             14               60   \n",
       "237      20.0             23.0              5               37   \n",
       "\n",
       "     Percent Admitted  Total Price  \n",
       "0                70.0      55625.0  \n",
       "1                68.0      59470.0  \n",
       "2                62.0      60636.0  \n",
       "3                64.0      63180.0  \n",
       "4                64.0      23170.0  \n",
       "..                ...          ...  \n",
       "233              56.0      29630.0  \n",
       "234              13.0      73200.0  \n",
       "235              74.0      53056.0  \n",
       "236              64.0      60363.0  \n",
       "237              63.0      43389.0  \n",
       "\n",
       "[225 rows x 20 columns]"
      ]
     },
     "execution_count": 4,
     "metadata": {},
     "output_type": "execute_result"
    }
   ],
   "source": [
    "df"
   ]
  },
  {
   "cell_type": "markdown",
   "metadata": {},
   "source": [
    "Splitting the data into x and y"
   ]
  },
  {
   "cell_type": "code",
   "execution_count": 5,
   "metadata": {
    "pycharm": {
     "name": "#%%\n"
    }
   },
   "outputs": [],
   "source": [
    "x = df.iloc[:, :-1]\n",
    "y = df.iloc[:, -1]"
   ]
  },
  {
   "cell_type": "code",
   "execution_count": 6,
   "metadata": {
    "pycharm": {
     "name": "#%%\n"
    }
   },
   "outputs": [
    {
     "data": {
      "text/html": [
       "<div>\n",
       "<style scoped>\n",
       "    .dataframe tbody tr th:only-of-type {\n",
       "        vertical-align: middle;\n",
       "    }\n",
       "\n",
       "    .dataframe tbody tr th {\n",
       "        vertical-align: top;\n",
       "    }\n",
       "\n",
       "    .dataframe thead th {\n",
       "        text-align: right;\n",
       "    }\n",
       "</style>\n",
       "<table border=\"1\" class=\"dataframe\">\n",
       "  <thead>\n",
       "    <tr style=\"text-align: right;\">\n",
       "      <th></th>\n",
       "      <th>Number of Bachelor's Degrees</th>\n",
       "      <th>Percent Financial Aid</th>\n",
       "      <th>Average Amount of Aid</th>\n",
       "      <th>Retention Rate</th>\n",
       "      <th>Enrollment</th>\n",
       "      <th>Percent Women</th>\n",
       "      <th>Percent In State</th>\n",
       "      <th>Percent Out of State</th>\n",
       "      <th>Percent Foreign</th>\n",
       "      <th>Percent Unknown</th>\n",
       "      <th>Graduation Rate</th>\n",
       "      <th>Percent Awarded</th>\n",
       "      <th>Total Staff</th>\n",
       "      <th>Instructional Staff</th>\n",
       "      <th>SA Staff</th>\n",
       "      <th>Librarian Staff</th>\n",
       "      <th>Percent Books</th>\n",
       "      <th>Percent Digital</th>\n",
       "      <th>Percent Admitted</th>\n",
       "    </tr>\n",
       "  </thead>\n",
       "  <tbody>\n",
       "    <tr>\n",
       "      <th>0</th>\n",
       "      <td>208.0</td>\n",
       "      <td>100.0</td>\n",
       "      <td>32400.0</td>\n",
       "      <td>79.0</td>\n",
       "      <td>996</td>\n",
       "      <td>99.0</td>\n",
       "      <td>59.0</td>\n",
       "      <td>36.0</td>\n",
       "      <td>4.0</td>\n",
       "      <td>0.0</td>\n",
       "      <td>69.0</td>\n",
       "      <td>66.0</td>\n",
       "      <td>357.0</td>\n",
       "      <td>105.0</td>\n",
       "      <td>56.0</td>\n",
       "      <td>62.0</td>\n",
       "      <td>41</td>\n",
       "      <td>12</td>\n",
       "      <td>70.0</td>\n",
       "    </tr>\n",
       "    <tr>\n",
       "      <th>1</th>\n",
       "      <td>310.0</td>\n",
       "      <td>100.0</td>\n",
       "      <td>40855.0</td>\n",
       "      <td>75.0</td>\n",
       "      <td>1533</td>\n",
       "      <td>54.0</td>\n",
       "      <td>66.0</td>\n",
       "      <td>32.0</td>\n",
       "      <td>1.0</td>\n",
       "      <td>0.0</td>\n",
       "      <td>64.0</td>\n",
       "      <td>61.0</td>\n",
       "      <td>435.0</td>\n",
       "      <td>132.0</td>\n",
       "      <td>21.0</td>\n",
       "      <td>27.0</td>\n",
       "      <td>37</td>\n",
       "      <td>54</td>\n",
       "      <td>68.0</td>\n",
       "    </tr>\n",
       "    <tr>\n",
       "      <th>2</th>\n",
       "      <td>398.0</td>\n",
       "      <td>100.0</td>\n",
       "      <td>39796.0</td>\n",
       "      <td>68.0</td>\n",
       "      <td>1912</td>\n",
       "      <td>60.0</td>\n",
       "      <td>53.0</td>\n",
       "      <td>46.0</td>\n",
       "      <td>1.0</td>\n",
       "      <td>0.0</td>\n",
       "      <td>51.0</td>\n",
       "      <td>48.0</td>\n",
       "      <td>355.0</td>\n",
       "      <td>123.0</td>\n",
       "      <td>17.0</td>\n",
       "      <td>21.0</td>\n",
       "      <td>28</td>\n",
       "      <td>13</td>\n",
       "      <td>62.0</td>\n",
       "    </tr>\n",
       "    <tr>\n",
       "      <th>3</th>\n",
       "      <td>382.0</td>\n",
       "      <td>100.0</td>\n",
       "      <td>38689.0</td>\n",
       "      <td>82.0</td>\n",
       "      <td>1771</td>\n",
       "      <td>56.0</td>\n",
       "      <td>50.0</td>\n",
       "      <td>45.0</td>\n",
       "      <td>4.0</td>\n",
       "      <td>0.0</td>\n",
       "      <td>74.0</td>\n",
       "      <td>70.0</td>\n",
       "      <td>426.0</td>\n",
       "      <td>160.0</td>\n",
       "      <td>41.0</td>\n",
       "      <td>50.0</td>\n",
       "      <td>27</td>\n",
       "      <td>46</td>\n",
       "      <td>64.0</td>\n",
       "    </tr>\n",
       "    <tr>\n",
       "      <th>4</th>\n",
       "      <td>61.0</td>\n",
       "      <td>97.0</td>\n",
       "      <td>10055.0</td>\n",
       "      <td>37.0</td>\n",
       "      <td>698</td>\n",
       "      <td>45.0</td>\n",
       "      <td>64.0</td>\n",
       "      <td>34.0</td>\n",
       "      <td>0.0</td>\n",
       "      <td>2.0</td>\n",
       "      <td>31.0</td>\n",
       "      <td>10.0</td>\n",
       "      <td>115.0</td>\n",
       "      <td>41.0</td>\n",
       "      <td>4.0</td>\n",
       "      <td>7.0</td>\n",
       "      <td>20</td>\n",
       "      <td>76</td>\n",
       "      <td>64.0</td>\n",
       "    </tr>\n",
       "    <tr>\n",
       "      <th>...</th>\n",
       "      <td>...</td>\n",
       "      <td>...</td>\n",
       "      <td>...</td>\n",
       "      <td>...</td>\n",
       "      <td>...</td>\n",
       "      <td>...</td>\n",
       "      <td>...</td>\n",
       "      <td>...</td>\n",
       "      <td>...</td>\n",
       "      <td>...</td>\n",
       "      <td>...</td>\n",
       "      <td>...</td>\n",
       "      <td>...</td>\n",
       "      <td>...</td>\n",
       "      <td>...</td>\n",
       "      <td>...</td>\n",
       "      <td>...</td>\n",
       "      <td>...</td>\n",
       "      <td>...</td>\n",
       "    </tr>\n",
       "    <tr>\n",
       "      <th>233</th>\n",
       "      <td>71.0</td>\n",
       "      <td>100.0</td>\n",
       "      <td>9682.0</td>\n",
       "      <td>52.0</td>\n",
       "      <td>479</td>\n",
       "      <td>43.0</td>\n",
       "      <td>67.0</td>\n",
       "      <td>28.0</td>\n",
       "      <td>6.0</td>\n",
       "      <td>0.0</td>\n",
       "      <td>38.0</td>\n",
       "      <td>30.0</td>\n",
       "      <td>117.0</td>\n",
       "      <td>33.0</td>\n",
       "      <td>8.0</td>\n",
       "      <td>11.0</td>\n",
       "      <td>39</td>\n",
       "      <td>61</td>\n",
       "      <td>56.0</td>\n",
       "    </tr>\n",
       "    <tr>\n",
       "      <th>234</th>\n",
       "      <td>511.0</td>\n",
       "      <td>63.0</td>\n",
       "      <td>55897.0</td>\n",
       "      <td>99.0</td>\n",
       "      <td>2095</td>\n",
       "      <td>48.0</td>\n",
       "      <td>12.0</td>\n",
       "      <td>78.0</td>\n",
       "      <td>9.0</td>\n",
       "      <td>0.0</td>\n",
       "      <td>95.0</td>\n",
       "      <td>86.0</td>\n",
       "      <td>1133.0</td>\n",
       "      <td>342.0</td>\n",
       "      <td>44.0</td>\n",
       "      <td>83.0</td>\n",
       "      <td>28</td>\n",
       "      <td>56</td>\n",
       "      <td>13.0</td>\n",
       "    </tr>\n",
       "    <tr>\n",
       "      <th>235</th>\n",
       "      <td>363.0</td>\n",
       "      <td>100.0</td>\n",
       "      <td>29504.0</td>\n",
       "      <td>70.0</td>\n",
       "      <td>1757</td>\n",
       "      <td>55.0</td>\n",
       "      <td>79.0</td>\n",
       "      <td>21.0</td>\n",
       "      <td>1.0</td>\n",
       "      <td>0.0</td>\n",
       "      <td>62.0</td>\n",
       "      <td>61.0</td>\n",
       "      <td>373.0</td>\n",
       "      <td>142.0</td>\n",
       "      <td>13.0</td>\n",
       "      <td>17.0</td>\n",
       "      <td>49</td>\n",
       "      <td>22</td>\n",
       "      <td>74.0</td>\n",
       "    </tr>\n",
       "    <tr>\n",
       "      <th>236</th>\n",
       "      <td>379.0</td>\n",
       "      <td>98.0</td>\n",
       "      <td>31824.0</td>\n",
       "      <td>88.0</td>\n",
       "      <td>1666</td>\n",
       "      <td>53.0</td>\n",
       "      <td>55.0</td>\n",
       "      <td>42.0</td>\n",
       "      <td>3.0</td>\n",
       "      <td>0.0</td>\n",
       "      <td>81.0</td>\n",
       "      <td>77.0</td>\n",
       "      <td>440.0</td>\n",
       "      <td>152.0</td>\n",
       "      <td>23.0</td>\n",
       "      <td>34.0</td>\n",
       "      <td>14</td>\n",
       "      <td>60</td>\n",
       "      <td>64.0</td>\n",
       "    </tr>\n",
       "    <tr>\n",
       "      <th>237</th>\n",
       "      <td>194.0</td>\n",
       "      <td>99.0</td>\n",
       "      <td>24513.0</td>\n",
       "      <td>76.0</td>\n",
       "      <td>1425</td>\n",
       "      <td>55.0</td>\n",
       "      <td>80.0</td>\n",
       "      <td>12.0</td>\n",
       "      <td>8.0</td>\n",
       "      <td>0.0</td>\n",
       "      <td>41.0</td>\n",
       "      <td>32.0</td>\n",
       "      <td>208.0</td>\n",
       "      <td>87.0</td>\n",
       "      <td>20.0</td>\n",
       "      <td>23.0</td>\n",
       "      <td>5</td>\n",
       "      <td>37</td>\n",
       "      <td>63.0</td>\n",
       "    </tr>\n",
       "  </tbody>\n",
       "</table>\n",
       "<p>225 rows × 19 columns</p>\n",
       "</div>"
      ],
      "text/plain": [
       "     Number of Bachelor's Degrees  Percent Financial Aid  \\\n",
       "0                           208.0                  100.0   \n",
       "1                           310.0                  100.0   \n",
       "2                           398.0                  100.0   \n",
       "3                           382.0                  100.0   \n",
       "4                            61.0                   97.0   \n",
       "..                            ...                    ...   \n",
       "233                          71.0                  100.0   \n",
       "234                         511.0                   63.0   \n",
       "235                         363.0                  100.0   \n",
       "236                         379.0                   98.0   \n",
       "237                         194.0                   99.0   \n",
       "\n",
       "     Average Amount of Aid  Retention Rate  Enrollment  Percent Women  \\\n",
       "0                  32400.0            79.0         996           99.0   \n",
       "1                  40855.0            75.0        1533           54.0   \n",
       "2                  39796.0            68.0        1912           60.0   \n",
       "3                  38689.0            82.0        1771           56.0   \n",
       "4                  10055.0            37.0         698           45.0   \n",
       "..                     ...             ...         ...            ...   \n",
       "233                 9682.0            52.0         479           43.0   \n",
       "234                55897.0            99.0        2095           48.0   \n",
       "235                29504.0            70.0        1757           55.0   \n",
       "236                31824.0            88.0        1666           53.0   \n",
       "237                24513.0            76.0        1425           55.0   \n",
       "\n",
       "     Percent In State  Percent Out of State  Percent Foreign  Percent Unknown  \\\n",
       "0                59.0                  36.0              4.0              0.0   \n",
       "1                66.0                  32.0              1.0              0.0   \n",
       "2                53.0                  46.0              1.0              0.0   \n",
       "3                50.0                  45.0              4.0              0.0   \n",
       "4                64.0                  34.0              0.0              2.0   \n",
       "..                ...                   ...              ...              ...   \n",
       "233              67.0                  28.0              6.0              0.0   \n",
       "234              12.0                  78.0              9.0              0.0   \n",
       "235              79.0                  21.0              1.0              0.0   \n",
       "236              55.0                  42.0              3.0              0.0   \n",
       "237              80.0                  12.0              8.0              0.0   \n",
       "\n",
       "     Graduation Rate  Percent Awarded  Total Staff  Instructional Staff  \\\n",
       "0               69.0             66.0        357.0                105.0   \n",
       "1               64.0             61.0        435.0                132.0   \n",
       "2               51.0             48.0        355.0                123.0   \n",
       "3               74.0             70.0        426.0                160.0   \n",
       "4               31.0             10.0        115.0                 41.0   \n",
       "..               ...              ...          ...                  ...   \n",
       "233             38.0             30.0        117.0                 33.0   \n",
       "234             95.0             86.0       1133.0                342.0   \n",
       "235             62.0             61.0        373.0                142.0   \n",
       "236             81.0             77.0        440.0                152.0   \n",
       "237             41.0             32.0        208.0                 87.0   \n",
       "\n",
       "     SA Staff  Librarian Staff  Percent Books  Percent Digital  \\\n",
       "0        56.0             62.0             41               12   \n",
       "1        21.0             27.0             37               54   \n",
       "2        17.0             21.0             28               13   \n",
       "3        41.0             50.0             27               46   \n",
       "4         4.0              7.0             20               76   \n",
       "..        ...              ...            ...              ...   \n",
       "233       8.0             11.0             39               61   \n",
       "234      44.0             83.0             28               56   \n",
       "235      13.0             17.0             49               22   \n",
       "236      23.0             34.0             14               60   \n",
       "237      20.0             23.0              5               37   \n",
       "\n",
       "     Percent Admitted  \n",
       "0                70.0  \n",
       "1                68.0  \n",
       "2                62.0  \n",
       "3                64.0  \n",
       "4                64.0  \n",
       "..                ...  \n",
       "233              56.0  \n",
       "234              13.0  \n",
       "235              74.0  \n",
       "236              64.0  \n",
       "237              63.0  \n",
       "\n",
       "[225 rows x 19 columns]"
      ]
     },
     "execution_count": 6,
     "metadata": {},
     "output_type": "execute_result"
    }
   ],
   "source": [
    "x"
   ]
  },
  {
   "cell_type": "code",
   "execution_count": 7,
   "metadata": {
    "pycharm": {
     "name": "#%%\n"
    }
   },
   "outputs": [
    {
     "data": {
      "text/plain": [
       "0      55625.0\n",
       "1      59470.0\n",
       "2      60636.0\n",
       "3      63180.0\n",
       "4      23170.0\n",
       "        ...   \n",
       "233    29630.0\n",
       "234    73200.0\n",
       "235    53056.0\n",
       "236    60363.0\n",
       "237    43389.0\n",
       "Name: Total Price, Length: 225, dtype: float64"
      ]
     },
     "execution_count": 7,
     "metadata": {},
     "output_type": "execute_result"
    }
   ],
   "source": [
    "y"
   ]
  },
  {
   "cell_type": "markdown",
   "metadata": {},
   "source": [
    "Train test split 70-30"
   ]
  },
  {
   "cell_type": "code",
   "execution_count": 8,
   "metadata": {
    "pycharm": {
     "name": "#%%\n"
    }
   },
   "outputs": [],
   "source": [
    "x_train, x_test, y_train, y_test = train_test_split(x, y, random_state=1, shuffle=True, test_size=0.3)"
   ]
  },
  {
   "cell_type": "markdown",
   "metadata": {},
   "source": [
    "Creating the linear regression pipeline with L2 regularization and Stochastic Gradient Descent. Note that the SGDRegressor API call with OLS loss function is the same as linear regression with SGD."
   ]
  },
  {
   "cell_type": "code",
   "execution_count": 9,
   "metadata": {},
   "outputs": [],
   "source": [
    "pl = make_pipeline(StandardScaler(), MinMaxScaler(), SGDRegressor(loss='squared_loss', penalty='l2'))"
   ]
  },
  {
   "cell_type": "markdown",
   "metadata": {},
   "source": [
    "Fitting the pipeline to the training data"
   ]
  },
  {
   "cell_type": "code",
   "execution_count": 10,
   "metadata": {
    "pycharm": {
     "name": "#%%\n"
    }
   },
   "outputs": [
    {
     "data": {
      "text/plain": [
       "Pipeline(steps=[('standardscaler', StandardScaler()),\n",
       "                ('minmaxscaler', MinMaxScaler()),\n",
       "                ('sgdregressor', SGDRegressor())])"
      ]
     },
     "execution_count": 10,
     "metadata": {},
     "output_type": "execute_result"
    }
   ],
   "source": [
    "pl.fit(x_train, y_train)"
   ]
  },
  {
   "cell_type": "markdown",
   "metadata": {},
   "source": [
    "Scoring the pipeline, which will show the R^2 value from the Linear Regression model"
   ]
  },
  {
   "cell_type": "code",
   "execution_count": 11,
   "metadata": {
    "pycharm": {
     "name": "#%%\n"
    }
   },
   "outputs": [
    {
     "name": "stdout",
     "output_type": "stream",
     "text": [
      "Model Score (whole dataset): 0.8217600666815574\n"
     ]
    }
   ],
   "source": [
    "print(\"Model Score (whole dataset):\", pl.score(x_test, y_test))"
   ]
  },
  {
   "cell_type": "markdown",
   "metadata": {},
   "source": [
    "We can see above that using the whole dataset for a simple linear regression using L2 regularization and the two scalers mentioned in the README, we can\n",
    "achieve an R^2 of around 83%. However, I want to use only the most 1 or 2 linearly correlated features we can see from\n",
    "the correlation heatmap in the figs directory. These features are [\"Average Amount of Aid\", \"Graduation Rate\"]\n"
   ]
  },
  {
   "cell_type": "markdown",
   "metadata": {},
   "source": [
    "Redefining x using only features [\"Average Amount of Aid\", \"Graduation Rate\"]"
   ]
  },
  {
   "cell_type": "code",
   "execution_count": 12,
   "metadata": {
    "pycharm": {
     "name": "#%%\n"
    }
   },
   "outputs": [
    {
     "data": {
      "text/html": [
       "<div>\n",
       "<style scoped>\n",
       "    .dataframe tbody tr th:only-of-type {\n",
       "        vertical-align: middle;\n",
       "    }\n",
       "\n",
       "    .dataframe tbody tr th {\n",
       "        vertical-align: top;\n",
       "    }\n",
       "\n",
       "    .dataframe thead th {\n",
       "        text-align: right;\n",
       "    }\n",
       "</style>\n",
       "<table border=\"1\" class=\"dataframe\">\n",
       "  <thead>\n",
       "    <tr style=\"text-align: right;\">\n",
       "      <th></th>\n",
       "      <th>Average Amount of Aid</th>\n",
       "      <th>Graduation Rate</th>\n",
       "    </tr>\n",
       "  </thead>\n",
       "  <tbody>\n",
       "    <tr>\n",
       "      <th>0</th>\n",
       "      <td>32400.0</td>\n",
       "      <td>69.0</td>\n",
       "    </tr>\n",
       "    <tr>\n",
       "      <th>1</th>\n",
       "      <td>40855.0</td>\n",
       "      <td>64.0</td>\n",
       "    </tr>\n",
       "    <tr>\n",
       "      <th>2</th>\n",
       "      <td>39796.0</td>\n",
       "      <td>51.0</td>\n",
       "    </tr>\n",
       "    <tr>\n",
       "      <th>3</th>\n",
       "      <td>38689.0</td>\n",
       "      <td>74.0</td>\n",
       "    </tr>\n",
       "    <tr>\n",
       "      <th>4</th>\n",
       "      <td>10055.0</td>\n",
       "      <td>31.0</td>\n",
       "    </tr>\n",
       "    <tr>\n",
       "      <th>...</th>\n",
       "      <td>...</td>\n",
       "      <td>...</td>\n",
       "    </tr>\n",
       "    <tr>\n",
       "      <th>233</th>\n",
       "      <td>9682.0</td>\n",
       "      <td>38.0</td>\n",
       "    </tr>\n",
       "    <tr>\n",
       "      <th>234</th>\n",
       "      <td>55897.0</td>\n",
       "      <td>95.0</td>\n",
       "    </tr>\n",
       "    <tr>\n",
       "      <th>235</th>\n",
       "      <td>29504.0</td>\n",
       "      <td>62.0</td>\n",
       "    </tr>\n",
       "    <tr>\n",
       "      <th>236</th>\n",
       "      <td>31824.0</td>\n",
       "      <td>81.0</td>\n",
       "    </tr>\n",
       "    <tr>\n",
       "      <th>237</th>\n",
       "      <td>24513.0</td>\n",
       "      <td>41.0</td>\n",
       "    </tr>\n",
       "  </tbody>\n",
       "</table>\n",
       "<p>225 rows × 2 columns</p>\n",
       "</div>"
      ],
      "text/plain": [
       "     Average Amount of Aid  Graduation Rate\n",
       "0                  32400.0             69.0\n",
       "1                  40855.0             64.0\n",
       "2                  39796.0             51.0\n",
       "3                  38689.0             74.0\n",
       "4                  10055.0             31.0\n",
       "..                     ...              ...\n",
       "233                 9682.0             38.0\n",
       "234                55897.0             95.0\n",
       "235                29504.0             62.0\n",
       "236                31824.0             81.0\n",
       "237                24513.0             41.0\n",
       "\n",
       "[225 rows x 2 columns]"
      ]
     },
     "execution_count": 12,
     "metadata": {},
     "output_type": "execute_result"
    }
   ],
   "source": [
    "x = df[[\"Average Amount of Aid\", \"Graduation Rate\"]]\n",
    "x"
   ]
  },
  {
   "cell_type": "markdown",
   "metadata": {},
   "source": [
    "Same exact process as before, with the same pipeline"
   ]
  },
  {
   "cell_type": "code",
   "execution_count": 17,
   "metadata": {
    "pycharm": {
     "name": "#%%\n"
    }
   },
   "outputs": [],
   "source": [
    "x_train, x_test, y_train, y_test = train_test_split(x, y, random_state=1, shuffle=True, test_size=0.3)"
   ]
  },
  {
   "cell_type": "code",
   "execution_count": 18,
   "metadata": {
    "pycharm": {
     "name": "#%%\n"
    }
   },
   "outputs": [],
   "source": [
    "pl = make_pipeline(StandardScaler(), MinMaxScaler(), SGDRegressor(loss='squared_loss', penalty='l2'))"
   ]
  },
  {
   "cell_type": "markdown",
   "metadata": {},
   "source": [
    "Fitting the pipeline to the training data"
   ]
  },
  {
   "cell_type": "code",
   "execution_count": 19,
   "metadata": {
    "pycharm": {
     "name": "#%%\n"
    }
   },
   "outputs": [
    {
     "data": {
      "text/plain": [
       "Pipeline(steps=[('standardscaler', StandardScaler()),\n",
       "                ('minmaxscaler', MinMaxScaler()),\n",
       "                ('sgdregressor', SGDRegressor())])"
      ]
     },
     "execution_count": 19,
     "metadata": {},
     "output_type": "execute_result"
    }
   ],
   "source": [
    "pl.fit(x_train, y_train)"
   ]
  },
  {
   "cell_type": "markdown",
   "metadata": {},
   "source": [
    "Scoring the pipeline, which will show the R^2 value from the Linear Regression model"
   ]
  },
  {
   "cell_type": "code",
   "execution_count": 20,
   "metadata": {
    "pycharm": {
     "name": "#%%\n"
    }
   },
   "outputs": [
    {
     "name": "stdout",
     "output_type": "stream",
     "text": [
      "Model Score (partial dataset): 0.8482388886753809\n"
     ]
    }
   ],
   "source": [
    "print(\"Model Score (partial dataset):\", pl.score(x_test, y_test))"
   ]
  },
  {
   "cell_type": "markdown",
   "metadata": {
    "pycharm": {
     "name": "#%% md\n"
    }
   },
   "source": [
    "There is no real R^2 score difference between the two models. However, this accuracy is much better than the accuracy on any of our other models. We think that using only those two features with L2 regularization would help us get the best model for the masses because\n",
    "it would decrease the generalization error that could come from using all of the features. Also, if using 2 features can achieve nearly the same effect as using 20, we would stick to \"Average Amount of Aid\" and \"Graduation Rate\" to save computation time."
   ]
  },
  {
   "cell_type": "markdown",
   "metadata": {
    "pycharm": {
     "name": "#%% md\n"
    }
   },
   "source": [
    "Below is a plot of the [\"Average Amount of Aid\", \"Graduation Rate\"] feature pair and the target variable. We could see a clear linear relationship."
   ]
  },
  {
   "cell_type": "code",
   "execution_count": 21,
   "metadata": {
    "pycharm": {
     "name": "#%%\n"
    }
   },
   "outputs": [
    {
     "data": {
      "text/plain": [
       "<Figure size 640x480 with 1 Axes>"
      ]
     },
     "metadata": {},
     "output_type": "display_data"
    }
   ],
   "source": [
    "import matplotlib.pyplot as plt\n",
    "from mpl_toolkits.mplot3d import Axes3D\n",
    "\n",
    "fig = plt.figure()\n",
    "ax = Axes3D(fig)\n",
    "\n",
    "ax.scatter(xs=df[\"Average Amount of Aid\"], ys=df[\"Graduation Rate\"], zs=df[\"Total Price\"])\n",
    "plt.savefig(\"./figs/linear_regression_visualization.png\")\n",
    "plt.show()"
   ]
  },
  {
   "cell_type": "code",
   "execution_count": 36,
   "metadata": {
    "pycharm": {
     "name": "#%%\n"
    }
   },
   "outputs": [],
   "source": []
  }
 ],
 "metadata": {
  "kernelspec": {
   "display_name": "Python 3",
   "language": "python",
   "name": "python3"
  },
  "language_info": {
   "codemirror_mode": {
    "name": "ipython",
    "version": 3
   },
   "file_extension": ".py",
   "mimetype": "text/x-python",
   "name": "python",
   "nbconvert_exporter": "python",
   "pygments_lexer": "ipython3",
   "version": "3.7.0"
  }
 },
 "nbformat": 4,
 "nbformat_minor": 1
}
