{
 "cells": [
  {
   "cell_type": "markdown",
   "metadata": {
    "collapsed": true,
    "pycharm": {
     "name": "#%% md\n"
    }
   },
   "source": [
    "# Final Project\n",
    "## Authors:\n",
    "- Taylor Tucker\n",
    "- Virginia Weston\n",
    "- Tina Jin\n",
    "- Jeffrey Bradley\n",
    "\n",
    "## Code for decision trees (classification and regression) and random forest."
   ]
  },
  {
   "cell_type": "markdown",
   "source": [
    "Import statements"
   ],
   "metadata": {
    "collapsed": false
   }
  },
  {
   "cell_type": "code",
   "execution_count": 2,
   "outputs": [],
   "source": [
    "import pandas as pd\n",
    "import numpy as np\n",
    "from sklearn.preprocessing import StandardScaler, MinMaxScaler, RobustScaler\n",
    "from sklearn.tree import DecisionTreeClassifier, DecisionTreeRegressor\n",
    "from sklearn.pipeline import Pipeline\n",
    "from sklearn.model_selection import GridSearchCV\n",
    "from sklearn.ensemble import RandomForestClassifier, RandomForestRegressor"
   ],
   "metadata": {
    "collapsed": false,
    "pycharm": {
     "name": "#%%\n"
    }
   }
  },
  {
   "cell_type": "markdown",
   "source": [
    "Importing the dataset"
   ],
   "metadata": {
    "collapsed": false,
    "pycharm": {
     "name": "#%% md\n"
    }
   }
  },
  {
   "cell_type": "code",
   "execution_count": 3,
   "outputs": [],
   "source": [
    "df = pd.read_csv(\"./cleaned_data.csv\")"
   ],
   "metadata": {
    "collapsed": false,
    "pycharm": {
     "name": "#%%\n"
    }
   }
  },
  {
   "cell_type": "code",
   "execution_count": 4,
   "outputs": [
    {
     "data": {
      "text/plain": "   Unnamed: 0  Number of Bachelor's Degrees  Percent Financial Aid  \\\n0           0                         208.0                  100.0   \n1           1                         310.0                  100.0   \n2           2                         398.0                  100.0   \n3           3                         382.0                  100.0   \n4           4                          61.0                   97.0   \n\n   Average Amount of Aid  Retention Rate  Enrollment  Percent Women  \\\n0                32400.0            79.0         996           99.0   \n1                40855.0            75.0        1533           54.0   \n2                39796.0            68.0        1912           60.0   \n3                38689.0            82.0        1771           56.0   \n4                10055.0            37.0         698           45.0   \n\n   Percent In State  Percent Out of State  Percent Foreign  ...  \\\n0              59.0                  36.0              4.0  ...   \n1              66.0                  32.0              1.0  ...   \n2              53.0                  46.0              1.0  ...   \n3              50.0                  45.0              4.0  ...   \n4              64.0                  34.0              0.0  ...   \n\n   Graduation Rate  Percent Awarded  Total Staff  Instructional Staff  \\\n0             69.0             66.0        357.0                105.0   \n1             64.0             61.0        435.0                132.0   \n2             51.0             48.0        355.0                123.0   \n3             74.0             70.0        426.0                160.0   \n4             31.0             10.0        115.0                 41.0   \n\n   SA Staff  Librarian Staff  Percent Books  Percent Digital  \\\n0      56.0             62.0             41               12   \n1      21.0             27.0             37               54   \n2      17.0             21.0             28               13   \n3      41.0             50.0             27               46   \n4       4.0              7.0             20               76   \n\n   Percent Admitted  Total Price  \n0              70.0      55625.0  \n1              68.0      59470.0  \n2              62.0      60636.0  \n3              64.0      63180.0  \n4              64.0      23170.0  \n\n[5 rows x 21 columns]",
      "text/html": "<div>\n<style scoped>\n    .dataframe tbody tr th:only-of-type {\n        vertical-align: middle;\n    }\n\n    .dataframe tbody tr th {\n        vertical-align: top;\n    }\n\n    .dataframe thead th {\n        text-align: right;\n    }\n</style>\n<table border=\"1\" class=\"dataframe\">\n  <thead>\n    <tr style=\"text-align: right;\">\n      <th></th>\n      <th>Unnamed: 0</th>\n      <th>Number of Bachelor's Degrees</th>\n      <th>Percent Financial Aid</th>\n      <th>Average Amount of Aid</th>\n      <th>Retention Rate</th>\n      <th>Enrollment</th>\n      <th>Percent Women</th>\n      <th>Percent In State</th>\n      <th>Percent Out of State</th>\n      <th>Percent Foreign</th>\n      <th>...</th>\n      <th>Graduation Rate</th>\n      <th>Percent Awarded</th>\n      <th>Total Staff</th>\n      <th>Instructional Staff</th>\n      <th>SA Staff</th>\n      <th>Librarian Staff</th>\n      <th>Percent Books</th>\n      <th>Percent Digital</th>\n      <th>Percent Admitted</th>\n      <th>Total Price</th>\n    </tr>\n  </thead>\n  <tbody>\n    <tr>\n      <th>0</th>\n      <td>0</td>\n      <td>208.0</td>\n      <td>100.0</td>\n      <td>32400.0</td>\n      <td>79.0</td>\n      <td>996</td>\n      <td>99.0</td>\n      <td>59.0</td>\n      <td>36.0</td>\n      <td>4.0</td>\n      <td>...</td>\n      <td>69.0</td>\n      <td>66.0</td>\n      <td>357.0</td>\n      <td>105.0</td>\n      <td>56.0</td>\n      <td>62.0</td>\n      <td>41</td>\n      <td>12</td>\n      <td>70.0</td>\n      <td>55625.0</td>\n    </tr>\n    <tr>\n      <th>1</th>\n      <td>1</td>\n      <td>310.0</td>\n      <td>100.0</td>\n      <td>40855.0</td>\n      <td>75.0</td>\n      <td>1533</td>\n      <td>54.0</td>\n      <td>66.0</td>\n      <td>32.0</td>\n      <td>1.0</td>\n      <td>...</td>\n      <td>64.0</td>\n      <td>61.0</td>\n      <td>435.0</td>\n      <td>132.0</td>\n      <td>21.0</td>\n      <td>27.0</td>\n      <td>37</td>\n      <td>54</td>\n      <td>68.0</td>\n      <td>59470.0</td>\n    </tr>\n    <tr>\n      <th>2</th>\n      <td>2</td>\n      <td>398.0</td>\n      <td>100.0</td>\n      <td>39796.0</td>\n      <td>68.0</td>\n      <td>1912</td>\n      <td>60.0</td>\n      <td>53.0</td>\n      <td>46.0</td>\n      <td>1.0</td>\n      <td>...</td>\n      <td>51.0</td>\n      <td>48.0</td>\n      <td>355.0</td>\n      <td>123.0</td>\n      <td>17.0</td>\n      <td>21.0</td>\n      <td>28</td>\n      <td>13</td>\n      <td>62.0</td>\n      <td>60636.0</td>\n    </tr>\n    <tr>\n      <th>3</th>\n      <td>3</td>\n      <td>382.0</td>\n      <td>100.0</td>\n      <td>38689.0</td>\n      <td>82.0</td>\n      <td>1771</td>\n      <td>56.0</td>\n      <td>50.0</td>\n      <td>45.0</td>\n      <td>4.0</td>\n      <td>...</td>\n      <td>74.0</td>\n      <td>70.0</td>\n      <td>426.0</td>\n      <td>160.0</td>\n      <td>41.0</td>\n      <td>50.0</td>\n      <td>27</td>\n      <td>46</td>\n      <td>64.0</td>\n      <td>63180.0</td>\n    </tr>\n    <tr>\n      <th>4</th>\n      <td>4</td>\n      <td>61.0</td>\n      <td>97.0</td>\n      <td>10055.0</td>\n      <td>37.0</td>\n      <td>698</td>\n      <td>45.0</td>\n      <td>64.0</td>\n      <td>34.0</td>\n      <td>0.0</td>\n      <td>...</td>\n      <td>31.0</td>\n      <td>10.0</td>\n      <td>115.0</td>\n      <td>41.0</td>\n      <td>4.0</td>\n      <td>7.0</td>\n      <td>20</td>\n      <td>76</td>\n      <td>64.0</td>\n      <td>23170.0</td>\n    </tr>\n  </tbody>\n</table>\n<p>5 rows × 21 columns</p>\n</div>"
     },
     "execution_count": 4,
     "metadata": {},
     "output_type": "execute_result"
    }
   ],
   "source": [
    "df.head()"
   ],
   "metadata": {
    "collapsed": false,
    "pycharm": {
     "name": "#%%\n"
    }
   }
  },
  {
   "cell_type": "markdown",
   "source": [
    "I cannot use classifier to guess a continuous target variable. Therefore, for the classifier models, I will need to create\n",
    "different classes for the target. I will do this by making classes that exist between $10,000 intervals. This will look like\n",
    "0-10,000, 10,000-20,000, 20,000-30,000, etc."
   ],
   "metadata": {
    "collapsed": false,
    "pycharm": {
     "name": "#%% md\n"
    }
   }
  },
  {
   "cell_type": "code",
   "execution_count": 5,
   "outputs": [
    {
     "name": "stdout",
     "output_type": "stream",
     "text": [
      "76947.0\n",
      "16700.0\n"
     ]
    }
   ],
   "source": [
    "print(max(df[\"Total Price\"]))\n",
    "print(min(df[\"Total Price\"]))"
   ],
   "metadata": {
    "collapsed": false,
    "pycharm": {
     "name": "#%%\n"
    }
   }
  },
  {
   "cell_type": "markdown",
   "source": [
    "We can see from above that the max price of a school is 76,947 and the minimum is 16,700. Therefore, I will set the boundaries\n",
    "starting at 10,0000-20,000 and ending at 70,000-80,000"
   ],
   "metadata": {
    "collapsed": false,
    "pycharm": {
     "name": "#%% md\n"
    }
   }
  },
  {
   "cell_type": "code",
   "execution_count": 7,
   "outputs": [
    {
     "name": "stdout",
     "output_type": "stream",
     "text": [
      "     Total Price\n",
      "0  50,000-60,000\n",
      "1  50,000-60,000\n",
      "2  60,000-70,000\n",
      "3  60,000-70,000\n",
      "4  20,000-30,000\n"
     ]
    }
   ],
   "source": [
    "classified_prices = []\n",
    "for i in range(len(df[\"Total Price\"])):\n",
    "    if 10000 <= df[\"Total Price\"].iloc[i] < 20000:\n",
    "        classified_prices.append(\"10,000-20,000\")\n",
    "    elif 20000 <= df[\"Total Price\"].iloc[i] < 30000:\n",
    "        classified_prices.append(\"20,000-30,000\")\n",
    "    elif 30000 <= df[\"Total Price\"].iloc[i] < 40000:\n",
    "        classified_prices.append(\"30,000-40,000\")\n",
    "    elif 40000 <= df[\"Total Price\"].iloc[i] < 50000:\n",
    "        classified_prices.append(\"40,000-50,000\")\n",
    "    elif 50000 <= df[\"Total Price\"].iloc[i] < 60000:\n",
    "        classified_prices.append(\"50,000-60,000\")\n",
    "    elif 60000 <= df[\"Total Price\"].iloc[i] < 70000:\n",
    "        classified_prices.append(\"60,000-70,000\")\n",
    "    elif 70000 <= df[\"Total Price\"].iloc[i] < 80000:\n",
    "        classified_prices.append(\"70,000-80,000\")\n",
    "\n",
    "if len(classified_prices) == len(df[\"Total Price\"]):\n",
    "    classified_target = pd.DataFrame(classified_prices, columns=[\"Total Price\"])\n",
    "    print(classified_target.head())\n",
    "else:\n",
    "    print(\"Error in classifying\")"
   ],
   "metadata": {
    "collapsed": false,
    "pycharm": {
     "name": "#%%\n"
    }
   }
  },
  {
   "cell_type": "markdown",
   "source": [
    "Now, I will separate the datasets, with one having a continuous target, and the other having a discreet target."
   ],
   "metadata": {
    "collapsed": false,
    "pycharm": {
     "name": "#%% md\n"
    }
   }
  },
  {
   "cell_type": "code",
   "execution_count": 16,
   "outputs": [],
   "source": [
    "df_continuous = df.copy(deep=True)\n",
    "\n",
    "df_discreet = df.drop([\"Total Price\"], axis=1)\n",
    "df_discreet = pd.concat((df_discreet, classified_target), axis=1)\n",
    "\n",
    "df_discreet.drop([\"Unnamed: 0\"], axis=1, inplace=True)\n",
    "df_continuous.drop([\"Unnamed: 0\"], axis=1, inplace=True)\n"
   ],
   "metadata": {
    "collapsed": false,
    "pycharm": {
     "name": "#%%\n"
    }
   }
  },
  {
   "cell_type": "code",
   "execution_count": 17,
   "outputs": [
    {
     "data": {
      "text/plain": "   Number of Bachelor's Degrees  Percent Financial Aid  Average Amount of Aid  \\\n0                         208.0                  100.0                32400.0   \n1                         310.0                  100.0                40855.0   \n2                         398.0                  100.0                39796.0   \n3                         382.0                  100.0                38689.0   \n4                          61.0                   97.0                10055.0   \n\n   Retention Rate  Enrollment  Percent Women  Percent In State  \\\n0            79.0         996           99.0              59.0   \n1            75.0        1533           54.0              66.0   \n2            68.0        1912           60.0              53.0   \n3            82.0        1771           56.0              50.0   \n4            37.0         698           45.0              64.0   \n\n   Percent Out of State  Percent Foreign  Percent Unknown  Graduation Rate  \\\n0                  36.0              4.0              0.0             69.0   \n1                  32.0              1.0              0.0             64.0   \n2                  46.0              1.0              0.0             51.0   \n3                  45.0              4.0              0.0             74.0   \n4                  34.0              0.0              2.0             31.0   \n\n   Percent Awarded  Total Staff  Instructional Staff  SA Staff  \\\n0             66.0        357.0                105.0      56.0   \n1             61.0        435.0                132.0      21.0   \n2             48.0        355.0                123.0      17.0   \n3             70.0        426.0                160.0      41.0   \n4             10.0        115.0                 41.0       4.0   \n\n   Librarian Staff  Percent Books  Percent Digital  Percent Admitted  \\\n0             62.0             41               12              70.0   \n1             27.0             37               54              68.0   \n2             21.0             28               13              62.0   \n3             50.0             27               46              64.0   \n4              7.0             20               76              64.0   \n\n     Total Price  \n0  50,000-60,000  \n1  50,000-60,000  \n2  60,000-70,000  \n3  60,000-70,000  \n4  20,000-30,000  ",
      "text/html": "<div>\n<style scoped>\n    .dataframe tbody tr th:only-of-type {\n        vertical-align: middle;\n    }\n\n    .dataframe tbody tr th {\n        vertical-align: top;\n    }\n\n    .dataframe thead th {\n        text-align: right;\n    }\n</style>\n<table border=\"1\" class=\"dataframe\">\n  <thead>\n    <tr style=\"text-align: right;\">\n      <th></th>\n      <th>Number of Bachelor's Degrees</th>\n      <th>Percent Financial Aid</th>\n      <th>Average Amount of Aid</th>\n      <th>Retention Rate</th>\n      <th>Enrollment</th>\n      <th>Percent Women</th>\n      <th>Percent In State</th>\n      <th>Percent Out of State</th>\n      <th>Percent Foreign</th>\n      <th>Percent Unknown</th>\n      <th>Graduation Rate</th>\n      <th>Percent Awarded</th>\n      <th>Total Staff</th>\n      <th>Instructional Staff</th>\n      <th>SA Staff</th>\n      <th>Librarian Staff</th>\n      <th>Percent Books</th>\n      <th>Percent Digital</th>\n      <th>Percent Admitted</th>\n      <th>Total Price</th>\n    </tr>\n  </thead>\n  <tbody>\n    <tr>\n      <th>0</th>\n      <td>208.0</td>\n      <td>100.0</td>\n      <td>32400.0</td>\n      <td>79.0</td>\n      <td>996</td>\n      <td>99.0</td>\n      <td>59.0</td>\n      <td>36.0</td>\n      <td>4.0</td>\n      <td>0.0</td>\n      <td>69.0</td>\n      <td>66.0</td>\n      <td>357.0</td>\n      <td>105.0</td>\n      <td>56.0</td>\n      <td>62.0</td>\n      <td>41</td>\n      <td>12</td>\n      <td>70.0</td>\n      <td>50,000-60,000</td>\n    </tr>\n    <tr>\n      <th>1</th>\n      <td>310.0</td>\n      <td>100.0</td>\n      <td>40855.0</td>\n      <td>75.0</td>\n      <td>1533</td>\n      <td>54.0</td>\n      <td>66.0</td>\n      <td>32.0</td>\n      <td>1.0</td>\n      <td>0.0</td>\n      <td>64.0</td>\n      <td>61.0</td>\n      <td>435.0</td>\n      <td>132.0</td>\n      <td>21.0</td>\n      <td>27.0</td>\n      <td>37</td>\n      <td>54</td>\n      <td>68.0</td>\n      <td>50,000-60,000</td>\n    </tr>\n    <tr>\n      <th>2</th>\n      <td>398.0</td>\n      <td>100.0</td>\n      <td>39796.0</td>\n      <td>68.0</td>\n      <td>1912</td>\n      <td>60.0</td>\n      <td>53.0</td>\n      <td>46.0</td>\n      <td>1.0</td>\n      <td>0.0</td>\n      <td>51.0</td>\n      <td>48.0</td>\n      <td>355.0</td>\n      <td>123.0</td>\n      <td>17.0</td>\n      <td>21.0</td>\n      <td>28</td>\n      <td>13</td>\n      <td>62.0</td>\n      <td>60,000-70,000</td>\n    </tr>\n    <tr>\n      <th>3</th>\n      <td>382.0</td>\n      <td>100.0</td>\n      <td>38689.0</td>\n      <td>82.0</td>\n      <td>1771</td>\n      <td>56.0</td>\n      <td>50.0</td>\n      <td>45.0</td>\n      <td>4.0</td>\n      <td>0.0</td>\n      <td>74.0</td>\n      <td>70.0</td>\n      <td>426.0</td>\n      <td>160.0</td>\n      <td>41.0</td>\n      <td>50.0</td>\n      <td>27</td>\n      <td>46</td>\n      <td>64.0</td>\n      <td>60,000-70,000</td>\n    </tr>\n    <tr>\n      <th>4</th>\n      <td>61.0</td>\n      <td>97.0</td>\n      <td>10055.0</td>\n      <td>37.0</td>\n      <td>698</td>\n      <td>45.0</td>\n      <td>64.0</td>\n      <td>34.0</td>\n      <td>0.0</td>\n      <td>2.0</td>\n      <td>31.0</td>\n      <td>10.0</td>\n      <td>115.0</td>\n      <td>41.0</td>\n      <td>4.0</td>\n      <td>7.0</td>\n      <td>20</td>\n      <td>76</td>\n      <td>64.0</td>\n      <td>20,000-30,000</td>\n    </tr>\n  </tbody>\n</table>\n</div>"
     },
     "execution_count": 17,
     "metadata": {},
     "output_type": "execute_result"
    }
   ],
   "source": [
    "df_discreet.head()"
   ],
   "metadata": {
    "collapsed": false,
    "pycharm": {
     "name": "#%%\n"
    }
   }
  },
  {
   "cell_type": "code",
   "execution_count": 18,
   "outputs": [
    {
     "data": {
      "text/plain": "   Number of Bachelor's Degrees  Percent Financial Aid  Average Amount of Aid  \\\n0                         208.0                  100.0                32400.0   \n1                         310.0                  100.0                40855.0   \n2                         398.0                  100.0                39796.0   \n3                         382.0                  100.0                38689.0   \n4                          61.0                   97.0                10055.0   \n\n   Retention Rate  Enrollment  Percent Women  Percent In State  \\\n0            79.0         996           99.0              59.0   \n1            75.0        1533           54.0              66.0   \n2            68.0        1912           60.0              53.0   \n3            82.0        1771           56.0              50.0   \n4            37.0         698           45.0              64.0   \n\n   Percent Out of State  Percent Foreign  Percent Unknown  Graduation Rate  \\\n0                  36.0              4.0              0.0             69.0   \n1                  32.0              1.0              0.0             64.0   \n2                  46.0              1.0              0.0             51.0   \n3                  45.0              4.0              0.0             74.0   \n4                  34.0              0.0              2.0             31.0   \n\n   Percent Awarded  Total Staff  Instructional Staff  SA Staff  \\\n0             66.0        357.0                105.0      56.0   \n1             61.0        435.0                132.0      21.0   \n2             48.0        355.0                123.0      17.0   \n3             70.0        426.0                160.0      41.0   \n4             10.0        115.0                 41.0       4.0   \n\n   Librarian Staff  Percent Books  Percent Digital  Percent Admitted  \\\n0             62.0             41               12              70.0   \n1             27.0             37               54              68.0   \n2             21.0             28               13              62.0   \n3             50.0             27               46              64.0   \n4              7.0             20               76              64.0   \n\n   Total Price  \n0      55625.0  \n1      59470.0  \n2      60636.0  \n3      63180.0  \n4      23170.0  ",
      "text/html": "<div>\n<style scoped>\n    .dataframe tbody tr th:only-of-type {\n        vertical-align: middle;\n    }\n\n    .dataframe tbody tr th {\n        vertical-align: top;\n    }\n\n    .dataframe thead th {\n        text-align: right;\n    }\n</style>\n<table border=\"1\" class=\"dataframe\">\n  <thead>\n    <tr style=\"text-align: right;\">\n      <th></th>\n      <th>Number of Bachelor's Degrees</th>\n      <th>Percent Financial Aid</th>\n      <th>Average Amount of Aid</th>\n      <th>Retention Rate</th>\n      <th>Enrollment</th>\n      <th>Percent Women</th>\n      <th>Percent In State</th>\n      <th>Percent Out of State</th>\n      <th>Percent Foreign</th>\n      <th>Percent Unknown</th>\n      <th>Graduation Rate</th>\n      <th>Percent Awarded</th>\n      <th>Total Staff</th>\n      <th>Instructional Staff</th>\n      <th>SA Staff</th>\n      <th>Librarian Staff</th>\n      <th>Percent Books</th>\n      <th>Percent Digital</th>\n      <th>Percent Admitted</th>\n      <th>Total Price</th>\n    </tr>\n  </thead>\n  <tbody>\n    <tr>\n      <th>0</th>\n      <td>208.0</td>\n      <td>100.0</td>\n      <td>32400.0</td>\n      <td>79.0</td>\n      <td>996</td>\n      <td>99.0</td>\n      <td>59.0</td>\n      <td>36.0</td>\n      <td>4.0</td>\n      <td>0.0</td>\n      <td>69.0</td>\n      <td>66.0</td>\n      <td>357.0</td>\n      <td>105.0</td>\n      <td>56.0</td>\n      <td>62.0</td>\n      <td>41</td>\n      <td>12</td>\n      <td>70.0</td>\n      <td>55625.0</td>\n    </tr>\n    <tr>\n      <th>1</th>\n      <td>310.0</td>\n      <td>100.0</td>\n      <td>40855.0</td>\n      <td>75.0</td>\n      <td>1533</td>\n      <td>54.0</td>\n      <td>66.0</td>\n      <td>32.0</td>\n      <td>1.0</td>\n      <td>0.0</td>\n      <td>64.0</td>\n      <td>61.0</td>\n      <td>435.0</td>\n      <td>132.0</td>\n      <td>21.0</td>\n      <td>27.0</td>\n      <td>37</td>\n      <td>54</td>\n      <td>68.0</td>\n      <td>59470.0</td>\n    </tr>\n    <tr>\n      <th>2</th>\n      <td>398.0</td>\n      <td>100.0</td>\n      <td>39796.0</td>\n      <td>68.0</td>\n      <td>1912</td>\n      <td>60.0</td>\n      <td>53.0</td>\n      <td>46.0</td>\n      <td>1.0</td>\n      <td>0.0</td>\n      <td>51.0</td>\n      <td>48.0</td>\n      <td>355.0</td>\n      <td>123.0</td>\n      <td>17.0</td>\n      <td>21.0</td>\n      <td>28</td>\n      <td>13</td>\n      <td>62.0</td>\n      <td>60636.0</td>\n    </tr>\n    <tr>\n      <th>3</th>\n      <td>382.0</td>\n      <td>100.0</td>\n      <td>38689.0</td>\n      <td>82.0</td>\n      <td>1771</td>\n      <td>56.0</td>\n      <td>50.0</td>\n      <td>45.0</td>\n      <td>4.0</td>\n      <td>0.0</td>\n      <td>74.0</td>\n      <td>70.0</td>\n      <td>426.0</td>\n      <td>160.0</td>\n      <td>41.0</td>\n      <td>50.0</td>\n      <td>27</td>\n      <td>46</td>\n      <td>64.0</td>\n      <td>63180.0</td>\n    </tr>\n    <tr>\n      <th>4</th>\n      <td>61.0</td>\n      <td>97.0</td>\n      <td>10055.0</td>\n      <td>37.0</td>\n      <td>698</td>\n      <td>45.0</td>\n      <td>64.0</td>\n      <td>34.0</td>\n      <td>0.0</td>\n      <td>2.0</td>\n      <td>31.0</td>\n      <td>10.0</td>\n      <td>115.0</td>\n      <td>41.0</td>\n      <td>4.0</td>\n      <td>7.0</td>\n      <td>20</td>\n      <td>76</td>\n      <td>64.0</td>\n      <td>23170.0</td>\n    </tr>\n  </tbody>\n</table>\n</div>"
     },
     "execution_count": 18,
     "metadata": {},
     "output_type": "execute_result"
    }
   ],
   "source": [
    "df_continuous.head()"
   ],
   "metadata": {
    "collapsed": false,
    "pycharm": {
     "name": "#%%\n"
    }
   }
  },
  {
   "cell_type": "code",
   "execution_count": null,
   "outputs": [],
   "source": [],
   "metadata": {
    "collapsed": false,
    "pycharm": {
     "name": "#%%\n"
    }
   }
  }
 ],
 "metadata": {
  "kernelspec": {
   "display_name": "Python 3",
   "language": "python",
   "name": "python3"
  },
  "language_info": {
   "codemirror_mode": {
    "name": "ipython",
    "version": 2
   },
   "file_extension": ".py",
   "mimetype": "text/x-python",
   "name": "python",
   "nbconvert_exporter": "python",
   "pygments_lexer": "ipython2",
   "version": "2.7.6"
  }
 },
 "nbformat": 4,
 "nbformat_minor": 0
}