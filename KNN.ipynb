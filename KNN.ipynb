{
 "cells": [
  {
   "cell_type": "markdown",
   "metadata": {},
   "source": [
    "Import statements"
   ]
  },
  {
   "cell_type": "code",
   "execution_count": 225,
   "metadata": {},
   "outputs": [],
   "source": [
    "import pandas as pd\n",
    "import matplotlib.pyplot as plt\n",
    "import numpy as np\n",
    "import tensorflow as tf\n",
    "from sklearn import preprocessing\n",
    "from sklearn.preprocessing import StandardScaler\n",
    "from sklearn.preprocessing import MaxAbsScaler\n",
    "from sklearn.preprocessing import MinMaxScaler\n",
    "from sklearn.preprocessing import scale\n",
    "from sklearn.preprocessing import RobustScaler\n",
    "from sklearn.preprocessing import PowerTransformer\n",
    "from sklearn.linear_model import LinearRegression\n",
    "from sklearn.linear_model import LogisticRegression\n",
    "from sklearn.model_selection import train_test_split\n",
    "from sklearn.model_selection import cross_val_score\n",
    "from mlxtend.plotting import plot_decision_regions\n",
    "from sklearn.metrics import classification_report, confusion_matrix, accuracy_score, precision_score\n",
    "from sklearn.neighbors import KNeighborsClassifier\n",
    "import time"
   ]
  },
  {
   "cell_type": "markdown",
   "metadata": {},
   "source": [
    "Read in data from CSV"
   ]
  },
  {
   "cell_type": "code",
   "execution_count": 189,
   "metadata": {},
   "outputs": [
    {
     "data": {
      "text/html": [
       "<div>\n",
       "<style scoped>\n",
       "    .dataframe tbody tr th:only-of-type {\n",
       "        vertical-align: middle;\n",
       "    }\n",
       "\n",
       "    .dataframe tbody tr th {\n",
       "        vertical-align: top;\n",
       "    }\n",
       "\n",
       "    .dataframe thead th {\n",
       "        text-align: right;\n",
       "    }\n",
       "</style>\n",
       "<table border=\"1\" class=\"dataframe\">\n",
       "  <thead>\n",
       "    <tr style=\"text-align: right;\">\n",
       "      <th></th>\n",
       "      <th>Number of Bachelor's Degrees</th>\n",
       "      <th>Percent Financial Aid</th>\n",
       "      <th>Average Amount of Aid</th>\n",
       "      <th>Retention Rate</th>\n",
       "      <th>Enrollment</th>\n",
       "      <th>Percent Women</th>\n",
       "      <th>Percent In State</th>\n",
       "      <th>Percent Out of State</th>\n",
       "      <th>Percent Foreign</th>\n",
       "      <th>Percent Unknown</th>\n",
       "      <th>Graduation Rate</th>\n",
       "      <th>Percent Awarded</th>\n",
       "      <th>Total Staff</th>\n",
       "      <th>Instructional Staff</th>\n",
       "      <th>SA Staff</th>\n",
       "      <th>Librarian Staff</th>\n",
       "      <th>Percent Books</th>\n",
       "      <th>Percent Digital</th>\n",
       "      <th>Percent Admitted</th>\n",
       "      <th>Total Price</th>\n",
       "    </tr>\n",
       "  </thead>\n",
       "  <tbody>\n",
       "    <tr>\n",
       "      <th>0</th>\n",
       "      <td>208.0</td>\n",
       "      <td>100.0</td>\n",
       "      <td>32400.0</td>\n",
       "      <td>79.0</td>\n",
       "      <td>996</td>\n",
       "      <td>99.0</td>\n",
       "      <td>59.0</td>\n",
       "      <td>36.0</td>\n",
       "      <td>4.0</td>\n",
       "      <td>0.0</td>\n",
       "      <td>69.0</td>\n",
       "      <td>66.0</td>\n",
       "      <td>357.0</td>\n",
       "      <td>105.0</td>\n",
       "      <td>56.0</td>\n",
       "      <td>62.0</td>\n",
       "      <td>41</td>\n",
       "      <td>12</td>\n",
       "      <td>70.0</td>\n",
       "      <td>50,000-60,000</td>\n",
       "    </tr>\n",
       "    <tr>\n",
       "      <th>1</th>\n",
       "      <td>310.0</td>\n",
       "      <td>100.0</td>\n",
       "      <td>40855.0</td>\n",
       "      <td>75.0</td>\n",
       "      <td>1533</td>\n",
       "      <td>54.0</td>\n",
       "      <td>66.0</td>\n",
       "      <td>32.0</td>\n",
       "      <td>1.0</td>\n",
       "      <td>0.0</td>\n",
       "      <td>64.0</td>\n",
       "      <td>61.0</td>\n",
       "      <td>435.0</td>\n",
       "      <td>132.0</td>\n",
       "      <td>21.0</td>\n",
       "      <td>27.0</td>\n",
       "      <td>37</td>\n",
       "      <td>54</td>\n",
       "      <td>68.0</td>\n",
       "      <td>50,000-60,000</td>\n",
       "    </tr>\n",
       "    <tr>\n",
       "      <th>2</th>\n",
       "      <td>398.0</td>\n",
       "      <td>100.0</td>\n",
       "      <td>39796.0</td>\n",
       "      <td>68.0</td>\n",
       "      <td>1912</td>\n",
       "      <td>60.0</td>\n",
       "      <td>53.0</td>\n",
       "      <td>46.0</td>\n",
       "      <td>1.0</td>\n",
       "      <td>0.0</td>\n",
       "      <td>51.0</td>\n",
       "      <td>48.0</td>\n",
       "      <td>355.0</td>\n",
       "      <td>123.0</td>\n",
       "      <td>17.0</td>\n",
       "      <td>21.0</td>\n",
       "      <td>28</td>\n",
       "      <td>13</td>\n",
       "      <td>62.0</td>\n",
       "      <td>60,000-70,000</td>\n",
       "    </tr>\n",
       "    <tr>\n",
       "      <th>3</th>\n",
       "      <td>382.0</td>\n",
       "      <td>100.0</td>\n",
       "      <td>38689.0</td>\n",
       "      <td>82.0</td>\n",
       "      <td>1771</td>\n",
       "      <td>56.0</td>\n",
       "      <td>50.0</td>\n",
       "      <td>45.0</td>\n",
       "      <td>4.0</td>\n",
       "      <td>0.0</td>\n",
       "      <td>74.0</td>\n",
       "      <td>70.0</td>\n",
       "      <td>426.0</td>\n",
       "      <td>160.0</td>\n",
       "      <td>41.0</td>\n",
       "      <td>50.0</td>\n",
       "      <td>27</td>\n",
       "      <td>46</td>\n",
       "      <td>64.0</td>\n",
       "      <td>60,000-70,000</td>\n",
       "    </tr>\n",
       "    <tr>\n",
       "      <th>4</th>\n",
       "      <td>61.0</td>\n",
       "      <td>97.0</td>\n",
       "      <td>10055.0</td>\n",
       "      <td>37.0</td>\n",
       "      <td>698</td>\n",
       "      <td>45.0</td>\n",
       "      <td>64.0</td>\n",
       "      <td>34.0</td>\n",
       "      <td>0.0</td>\n",
       "      <td>2.0</td>\n",
       "      <td>31.0</td>\n",
       "      <td>10.0</td>\n",
       "      <td>115.0</td>\n",
       "      <td>41.0</td>\n",
       "      <td>4.0</td>\n",
       "      <td>7.0</td>\n",
       "      <td>20</td>\n",
       "      <td>76</td>\n",
       "      <td>64.0</td>\n",
       "      <td>20,000-30,000</td>\n",
       "    </tr>\n",
       "  </tbody>\n",
       "</table>\n",
       "</div>"
      ],
      "text/plain": [
       "   Number of Bachelor's Degrees  Percent Financial Aid  Average Amount of Aid  \\\n",
       "0                         208.0                  100.0                32400.0   \n",
       "1                         310.0                  100.0                40855.0   \n",
       "2                         398.0                  100.0                39796.0   \n",
       "3                         382.0                  100.0                38689.0   \n",
       "4                          61.0                   97.0                10055.0   \n",
       "\n",
       "   Retention Rate  Enrollment  Percent Women  Percent In State  \\\n",
       "0            79.0         996           99.0              59.0   \n",
       "1            75.0        1533           54.0              66.0   \n",
       "2            68.0        1912           60.0              53.0   \n",
       "3            82.0        1771           56.0              50.0   \n",
       "4            37.0         698           45.0              64.0   \n",
       "\n",
       "   Percent Out of State  Percent Foreign  Percent Unknown  Graduation Rate  \\\n",
       "0                  36.0              4.0              0.0             69.0   \n",
       "1                  32.0              1.0              0.0             64.0   \n",
       "2                  46.0              1.0              0.0             51.0   \n",
       "3                  45.0              4.0              0.0             74.0   \n",
       "4                  34.0              0.0              2.0             31.0   \n",
       "\n",
       "   Percent Awarded  Total Staff  Instructional Staff  SA Staff  \\\n",
       "0             66.0        357.0                105.0      56.0   \n",
       "1             61.0        435.0                132.0      21.0   \n",
       "2             48.0        355.0                123.0      17.0   \n",
       "3             70.0        426.0                160.0      41.0   \n",
       "4             10.0        115.0                 41.0       4.0   \n",
       "\n",
       "   Librarian Staff  Percent Books  Percent Digital  Percent Admitted  \\\n",
       "0             62.0             41               12              70.0   \n",
       "1             27.0             37               54              68.0   \n",
       "2             21.0             28               13              62.0   \n",
       "3             50.0             27               46              64.0   \n",
       "4              7.0             20               76              64.0   \n",
       "\n",
       "     Total Price  \n",
       "0  50,000-60,000  \n",
       "1  50,000-60,000  \n",
       "2  60,000-70,000  \n",
       "3  60,000-70,000  \n",
       "4  20,000-30,000  "
      ]
     },
     "execution_count": 189,
     "metadata": {},
     "output_type": "execute_result"
    }
   ],
   "source": [
    "df = pd.read_csv(\"cleaned_data_discreet.csv\")\n",
    "df.drop([\"Unnamed: 0\"], axis = 1,inplace = True)\n",
    "columns = df.columns\n",
    "df.head()\n"
   ]
  },
  {
   "cell_type": "markdown",
   "metadata": {},
   "source": [
    "Set x to the seven most important features & set y to the target: Total Price. Split the data 70-30 & shuffle. "
   ]
  },
  {
   "cell_type": "code",
   "execution_count": 190,
   "metadata": {},
   "outputs": [
    {
     "name": "stdout",
     "output_type": "stream",
     "text": [
      "82     40,000-50,000\n",
      "43     60,000-70,000\n",
      "135    50,000-60,000\n",
      "192    30,000-40,000\n",
      "64     40,000-50,000\n",
      "           ...      \n",
      "42     50,000-60,000\n",
      "191    20,000-30,000\n",
      "224    40,000-50,000\n",
      "130    50,000-60,000\n",
      "157    50,000-60,000\n",
      "Name: Total Price, Length: 157, dtype: object\n"
     ]
    }
   ],
   "source": [
    "x = df[[\"Average Amount of Aid\", \"Percent Financial Aid\", \"Percent Awarded\", \"Total Staff\",\n",
    "        \"Graduation Rate\", \"Percent Admitted\", \"Number of Bachelor's Degrees\"]]\n",
    "y = df['Total Price']\n",
    "#print(y)\n",
    "\n",
    "x_train, x_test, y_train, y_test = train_test_split(x, y, test_size = 0.30, shuffle = True)\n",
    "print(y_train)"
   ]
  },
  {
   "cell_type": "markdown",
   "metadata": {},
   "source": [
    "Test different scalers, fit the x_train, and use the optimal scaler to transform x_train and x_test. PowerTransformer works best here because it maintains the spacial relationships and maintains a normal distribution. "
   ]
  },
  {
   "cell_type": "code",
   "execution_count": 191,
   "metadata": {},
   "outputs": [],
   "source": [
    "# Standardize the features:\n",
    "scaler = PowerTransformer()\n",
    "#scaler = StandardScaler()\n",
    "#scaler = MaxAbsScaler()\n",
    "#scaler = RobustScaler()\n",
    "scaler.fit(x_train)\n",
    "X_train_std = scaler.transform(x_train)\n",
    "X_test_std = scaler.transform(x_test)\n",
    "\n",
    "#print(x_train, y_train)\n"
   ]
  },
  {
   "cell_type": "markdown",
   "metadata": {},
   "source": [
    "Test and print test & train accuracies for a number of n_neighbors 1 through 10. Previously tested different distance and found that manhattan produces the best results because of the variability in the features. "
   ]
  },
  {
   "cell_type": "code",
   "execution_count": 223,
   "metadata": {
    "scrolled": true
   },
   "outputs": [
    {
     "name": "stdout",
     "output_type": "stream",
     "text": [
      "KNN Accuracy for 1 neighbors: 0.45588235294117646\n",
      "cv_scores mean:0.5022222222222222\n",
      "KNN Accuracy for 2 neighbors: 0.45588235294117646\n",
      "cv_scores mean:0.48888888888888893\n",
      "KNN Accuracy for 3 neighbors: 0.45588235294117646\n",
      "cv_scores mean:0.49333333333333335\n",
      "KNN Accuracy for 4 neighbors: 0.5147058823529411\n",
      "cv_scores mean:0.5333333333333334\n",
      "KNN Accuracy for 5 neighbors: 0.5735294117647058\n",
      "cv_scores mean:0.5599999999999999\n",
      "KNN Accuracy for 6 neighbors: 0.5882352941176471\n"
     ]
    },
    {
     "name": "stderr",
     "output_type": "stream",
     "text": [
      "/Library/Frameworks/Python.framework/Versions/3.8/lib/python3.8/site-packages/sklearn/model_selection/_split.py:670: UserWarning: The least populated class in y has only 1 members, which is less than n_splits=5.\n",
      "  warnings.warn((\"The least populated class in y has only %d\"\n",
      "/Library/Frameworks/Python.framework/Versions/3.8/lib/python3.8/site-packages/sklearn/model_selection/_split.py:670: UserWarning: The least populated class in y has only 1 members, which is less than n_splits=5.\n",
      "  warnings.warn((\"The least populated class in y has only %d\"\n",
      "/Library/Frameworks/Python.framework/Versions/3.8/lib/python3.8/site-packages/sklearn/model_selection/_split.py:670: UserWarning: The least populated class in y has only 1 members, which is less than n_splits=5.\n",
      "  warnings.warn((\"The least populated class in y has only %d\"\n",
      "/Library/Frameworks/Python.framework/Versions/3.8/lib/python3.8/site-packages/sklearn/model_selection/_split.py:670: UserWarning: The least populated class in y has only 1 members, which is less than n_splits=5.\n",
      "  warnings.warn((\"The least populated class in y has only %d\"\n",
      "/Library/Frameworks/Python.framework/Versions/3.8/lib/python3.8/site-packages/sklearn/model_selection/_split.py:670: UserWarning: The least populated class in y has only 1 members, which is less than n_splits=5.\n",
      "  warnings.warn((\"The least populated class in y has only %d\"\n",
      "/Library/Frameworks/Python.framework/Versions/3.8/lib/python3.8/site-packages/sklearn/model_selection/_split.py:670: UserWarning: The least populated class in y has only 1 members, which is less than n_splits=5.\n",
      "  warnings.warn((\"The least populated class in y has only %d\"\n"
     ]
    },
    {
     "name": "stdout",
     "output_type": "stream",
     "text": [
      "cv_scores mean:0.5377777777777777\n",
      "KNN Accuracy for 7 neighbors: 0.5588235294117647\n",
      "cv_scores mean:0.5066666666666666\n",
      "KNN Accuracy for 8 neighbors: 0.5882352941176471\n",
      "cv_scores mean:0.5244444444444445\n",
      "KNN Accuracy for 9 neighbors: 0.5294117647058824\n",
      "cv_scores mean:0.5199999999999999\n",
      "KNN Accuracy for 10 neighbors: 0.6029411764705882\n",
      "cv_scores mean:0.5422222222222223\n"
     ]
    },
    {
     "name": "stderr",
     "output_type": "stream",
     "text": [
      "/Library/Frameworks/Python.framework/Versions/3.8/lib/python3.8/site-packages/sklearn/model_selection/_split.py:670: UserWarning: The least populated class in y has only 1 members, which is less than n_splits=5.\n",
      "  warnings.warn((\"The least populated class in y has only %d\"\n",
      "/Library/Frameworks/Python.framework/Versions/3.8/lib/python3.8/site-packages/sklearn/model_selection/_split.py:670: UserWarning: The least populated class in y has only 1 members, which is less than n_splits=5.\n",
      "  warnings.warn((\"The least populated class in y has only %d\"\n",
      "/Library/Frameworks/Python.framework/Versions/3.8/lib/python3.8/site-packages/sklearn/model_selection/_split.py:670: UserWarning: The least populated class in y has only 1 members, which is less than n_splits=5.\n",
      "  warnings.warn((\"The least populated class in y has only %d\"\n",
      "/Library/Frameworks/Python.framework/Versions/3.8/lib/python3.8/site-packages/sklearn/model_selection/_split.py:670: UserWarning: The least populated class in y has only 1 members, which is less than n_splits=5.\n",
      "  warnings.warn((\"The least populated class in y has only %d\"\n"
     ]
    },
    {
     "data": {
      "image/png": "[encoded data removed]",
      "text/plain": [
       "<Figure size 432x288 with 1 Axes>"
      ]
     },
     "metadata": {
      "needs_background": "light"
     },
     "output_type": "display_data"
    }
   ],
   "source": [
    "num_K = [i for i in range (1,11)]\n",
    "acc = []\n",
    "\n",
    "for k in num_K:\n",
    "    model = KNeighborsClassifier(n_neighbors = k, metric = 'manhattan')\n",
    "    model.fit(X_train_std, y_train)\n",
    "    y_pred = model.predict(X_test_std)\n",
    "    #y_new = model.predict(X_train_std)\n",
    "    acc.append(accuracy_score(y_test, y_pred))\n",
    "    print(\"KNN Accuracy for \" + str(k) + \" neighbors: \" + str(accuracy_score(y_test, y_pred)))\n",
    "    cv_scores = cross_val_score(model, x, y, cv=5)\n",
    "    print(\"cv_scores mean:{}\".format(np.mean(cv_scores)))\n",
    "    #print(\"KNN Accuracy for train \" + str(k) + \" neighbors: \" + str(accuracy_score(y_train, y_new)))\n",
    "\n",
    "plt.plot(num_K, acc)\n",
    "plt.ylabel(\"Accuracy\")\n",
    "plt.xlabel(\"n_neighbors\")\n",
    "plt.show()\n",
    "#plt.plot(num_K, prec, label = \"Precision\")"
   ]
  },
  {
   "cell_type": "markdown",
   "metadata": {},
   "source": [
    "KNN with n_neighbors 10 produces the best test accuracy with a manhattan distance metric"
   ]
  },
  {
   "cell_type": "code",
   "execution_count": null,
   "metadata": {},
   "outputs": [],
   "source": []
  }
 ],
 "metadata": {
  "kernelspec": {
   "display_name": "Python 3",
   "language": "python",
   "name": "python3"
  },
  "language_info": {
   "codemirror_mode": {
    "name": "ipython",
    "version": 3
   },
   "file_extension": ".py",
   "mimetype": "text/x-python",
   "name": "python",
   "nbconvert_exporter": "python",
   "pygments_lexer": "ipython3",
   "version": "3.8.5"
  }
 },
 "nbformat": 4,
 "nbformat_minor": 4
}
